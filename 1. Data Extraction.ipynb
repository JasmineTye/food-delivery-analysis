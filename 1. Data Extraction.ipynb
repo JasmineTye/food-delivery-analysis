{
  "cells": [
    {
      "cell_type": "markdown",
      "source": "## Import Relevant packages\n\n",
      "metadata": {
        "cell_id": "717603b0e9e54f85a278e5346aff9f07",
        "deepnote_cell_type": "markdown"
      },
      "block_group": "e641736aafea47ceac4738567a88baa7"
    },
    {
      "cell_type": "code",
      "source": "!pip install xgboost==2.0.3\n!pip install lightgbm\n!pip install optuna\n!pip install art==6.1\n\nimport numpy as np\nimport pandas as pd\nimport seaborn as sb\nimport scipy.stats as ss\nimport optuna\n\nfrom sklearn.ensemble import RandomForestClassifier\nfrom sklearn.ensemble import RandomForestRegressor\nfrom xgboost import XGBRegressor\nimport lightgbm as lgb\nfrom sklearn.ensemble import VotingRegressor\nfrom sklearn.model_selection import KFold, cross_val_score\nfrom sklearn.metrics import roc_curve, roc_auc_score\nfrom sklearn.model_selection import train_test_split\nfrom sklearn.metrics import mean_squared_error, r2_score, accuracy_score\nfrom sklearn.tree import DecisionTreeClassifier\nfrom sklearn.model_selection import train_test_split\nfrom sklearn.metrics import confusion_matrix\nfrom art import text2art\nfrom termcolor import colored\n\nimport matplotlib.pyplot as plt # we only need pyplot\nsb.set() # set the default Seaborn style for graphics\nfrom math import radians, sin, cos, sqrt, atan2",
      "metadata": {
        "source_hash": "b6c818b4",
        "execution_start": 1713690094561,
        "execution_millis": 49693,
        "deepnote_to_be_reexecuted": false,
        "cell_id": "1e628d4001da4a4cb053d0ef439c7990",
        "deepnote_cell_type": "code"
      },
      "outputs": [
        {
          "name": "stdout",
          "text": "Collecting xgboost==2.0.3\n  Using cached xgboost-2.0.3-py3-none-manylinux2014_x86_64.whl (297.1 MB)\nCollecting scipy\n  Using cached scipy-1.10.1-cp38-cp38-manylinux_2_17_x86_64.manylinux2014_x86_64.whl (34.5 MB)\nCollecting numpy\n  Using cached numpy-1.24.4-cp38-cp38-manylinux_2_17_x86_64.manylinux2014_x86_64.whl (17.3 MB)\nInstalling collected packages: numpy, scipy, xgboost\nSuccessfully installed numpy-1.24.4 scipy-1.10.1 xgboost-2.0.3\n\u001b[33mWARNING: Target directory /opt/conda/lib/python3.8/site-packages/numpy.libs already exists. Specify --upgrade to force replacement.\u001b[0m\u001b[33m\n\u001b[0m\u001b[33mWARNING: Target directory /opt/conda/lib/python3.8/site-packages/numpy-1.24.4.dist-info already exists. Specify --upgrade to force replacement.\u001b[0m\u001b[33m\n\u001b[0m\u001b[33mWARNING: Target directory /opt/conda/lib/python3.8/site-packages/numpy already exists. Specify --upgrade to force replacement.\u001b[0m\u001b[33m\n\u001b[0m\u001b[33mWARNING: Target directory /opt/conda/lib/python3.8/site-packages/scipy already exists. Specify --upgrade to force replacement.\u001b[0m\u001b[33m\n\u001b[0m\u001b[33mWARNING: Target directory /opt/conda/lib/python3.8/site-packages/scipy.libs already exists. Specify --upgrade to force replacement.\u001b[0m\u001b[33m\n\u001b[0m\u001b[33mWARNING: Target directory /opt/conda/lib/python3.8/site-packages/scipy-1.10.1.dist-info already exists. Specify --upgrade to force replacement.\u001b[0m\u001b[33m\n\u001b[0m\u001b[33mWARNING: Target directory /opt/conda/lib/python3.8/site-packages/xgboost already exists. Specify --upgrade to force replacement.\u001b[0m\u001b[33m\n\u001b[0m\u001b[33mWARNING: Target directory /opt/conda/lib/python3.8/site-packages/xgboost-2.0.3.dist-info already exists. Specify --upgrade to force replacement.\u001b[0m\u001b[33m\n\u001b[0m\u001b[33mWARNING: Target directory /opt/conda/lib/python3.8/site-packages/xgboost.libs already exists. Specify --upgrade to force replacement.\u001b[0m\u001b[33m\n\u001b[0m\u001b[33mWARNING: Target directory /opt/conda/lib/python3.8/site-packages/bin already exists. Specify --upgrade to force replacement.\u001b[0m\u001b[33m\n\u001b[0m\u001b[33mWARNING: You are using pip version 22.0.4; however, version 24.0 is available.\nYou should consider upgrading via the '/root/venv/bin/python -m pip install --upgrade pip' command.\u001b[0m\u001b[33m\n\u001b[0mCollecting lightgbm\n  Using cached lightgbm-4.3.0-py3-none-manylinux_2_28_x86_64.whl (3.1 MB)\nCollecting scipy\n  Using cached scipy-1.10.1-cp38-cp38-manylinux_2_17_x86_64.manylinux2014_x86_64.whl (34.5 MB)\nCollecting numpy\n  Using cached numpy-1.24.4-cp38-cp38-manylinux_2_17_x86_64.manylinux2014_x86_64.whl (17.3 MB)\nInstalling collected packages: numpy, scipy, lightgbm\nSuccessfully installed lightgbm-4.3.0 numpy-1.24.4 scipy-1.10.1\n\u001b[33mWARNING: Target directory /opt/conda/lib/python3.8/site-packages/numpy.libs already exists. Specify --upgrade to force replacement.\u001b[0m\u001b[33m\n\u001b[0m\u001b[33mWARNING: Target directory /opt/conda/lib/python3.8/site-packages/numpy-1.24.4.dist-info already exists. Specify --upgrade to force replacement.\u001b[0m\u001b[33m\n\u001b[0m\u001b[33mWARNING: Target directory /opt/conda/lib/python3.8/site-packages/numpy already exists. Specify --upgrade to force replacement.\u001b[0m\u001b[33m\n\u001b[0m\u001b[33mWARNING: Target directory /opt/conda/lib/python3.8/site-packages/scipy already exists. Specify --upgrade to force replacement.\u001b[0m\u001b[33m\n\u001b[0m\u001b[33mWARNING: Target directory /opt/conda/lib/python3.8/site-packages/scipy.libs already exists. Specify --upgrade to force replacement.\u001b[0m\u001b[33m\n\u001b[0m\u001b[33mWARNING: Target directory /opt/conda/lib/python3.8/site-packages/scipy-1.10.1.dist-info already exists. Specify --upgrade to force replacement.\u001b[0m\u001b[33m\n\u001b[0m\u001b[33mWARNING: Target directory /opt/conda/lib/python3.8/site-packages/lightgbm already exists. Specify --upgrade to force replacement.\u001b[0m\u001b[33m\n\u001b[0m\u001b[33mWARNING: Target directory /opt/conda/lib/python3.8/site-packages/lightgbm-4.3.0.dist-info already exists. Specify --upgrade to force replacement.\u001b[0m\u001b[33m\n\u001b[0m\u001b[33mWARNING: Target directory /opt/conda/lib/python3.8/site-packages/bin already exists. Specify --upgrade to force replacement.\u001b[0m\u001b[33m\n\u001b[0m\u001b[33mWARNING: You are using pip version 22.0.4; however, version 24.0 is available.\nYou should consider upgrading via the '/root/venv/bin/python -m pip install --upgrade pip' command.\u001b[0m\u001b[33m\n\u001b[0mCollecting optuna\n  Using cached optuna-3.6.1-py3-none-any.whl (380 kB)\nCollecting numpy\n  Using cached numpy-1.24.4-cp38-cp38-manylinux_2_17_x86_64.manylinux2014_x86_64.whl (17.3 MB)\nCollecting sqlalchemy>=1.3.0\n  Using cached SQLAlchemy-2.0.29-cp38-cp38-manylinux_2_17_x86_64.manylinux2014_x86_64.whl (3.1 MB)\nCollecting colorlog\n  Using cached colorlog-6.8.2-py3-none-any.whl (11 kB)\nCollecting PyYAML\n  Using cached PyYAML-6.0.1-cp38-cp38-manylinux_2_17_x86_64.manylinux2014_x86_64.whl (736 kB)\nCollecting tqdm\n  Using cached tqdm-4.66.2-py3-none-any.whl (78 kB)\nCollecting alembic>=1.5.0\n  Using cached alembic-1.13.1-py3-none-any.whl (233 kB)\nCollecting packaging>=20.0\n  Using cached packaging-24.0-py3-none-any.whl (53 kB)\nCollecting typing-extensions>=4\n  Using cached typing_extensions-4.11.0-py3-none-any.whl (34 kB)\nCollecting Mako\n  Using cached Mako-1.3.3-py3-none-any.whl (78 kB)\nCollecting importlib-resources\n  Using cached importlib_resources-6.4.0-py3-none-any.whl (38 kB)\nCollecting importlib-metadata\n  Using cached importlib_metadata-7.1.0-py3-none-any.whl (24 kB)\nCollecting greenlet!=0.4.17\n  Using cached greenlet-3.0.3-cp38-cp38-manylinux_2_24_x86_64.manylinux_2_28_x86_64.whl (622 kB)\nCollecting zipp>=0.5\n  Using cached zipp-3.18.1-py3-none-any.whl (8.2 kB)\nCollecting MarkupSafe>=0.9.2\n  Using cached MarkupSafe-2.1.5-cp38-cp38-manylinux_2_17_x86_64.manylinux2014_x86_64.whl (26 kB)\nInstalling collected packages: zipp, typing-extensions, tqdm, PyYAML, packaging, numpy, MarkupSafe, greenlet, colorlog, sqlalchemy, Mako, importlib-resources, importlib-metadata, alembic, optuna\n\u001b[31mERROR: pip's dependency resolver does not currently take into account all the packages that are installed. This behaviour is the source of the following dependency conflicts.\nsqlalchemy-redshift 0.8.11 requires SQLAlchemy<2.0.0,>=0.9.2, but you have sqlalchemy 2.0.29 which is incompatible.\nsqlalchemy-bigquery 1.6.1 requires sqlalchemy<2.0.0dev,>=1.2.0, but you have sqlalchemy 2.0.29 which is incompatible.\nsnowflake-sqlalchemy 1.4.3 requires sqlalchemy<2.0.0,>=1.4.0, but you have sqlalchemy 2.0.29 which is incompatible.\nsnowflake-connector-python 2.8.0 requires cryptography<37.0.0,>=3.1.0, but you have cryptography 38.0.4 which is incompatible.\nclickhouse-sqlalchemy 0.2.2 requires sqlalchemy<1.5,>=1.4, but you have sqlalchemy 2.0.29 which is incompatible.\u001b[0m\u001b[31m\n\u001b[0mSuccessfully installed Mako-1.3.3 MarkupSafe-2.1.5 PyYAML-6.0.1 alembic-1.13.1 colorlog-6.8.2 greenlet-3.0.3 importlib-metadata-7.1.0 importlib-resources-6.4.0 numpy-1.24.4 optuna-3.6.1 packaging-24.0 sqlalchemy-2.0.29 tqdm-4.66.2 typing-extensions-4.11.0 zipp-3.18.1\n\u001b[33mWARNING: Target directory /opt/conda/lib/python3.8/site-packages/zipp already exists. Specify --upgrade to force replacement.\u001b[0m\u001b[33m\n\u001b[0m\u001b[33mWARNING: Target directory /opt/conda/lib/python3.8/site-packages/zipp-3.18.1.dist-info already exists. Specify --upgrade to force replacement.\u001b[0m\u001b[33m\n\u001b[0m\u001b[33mWARNING: Target directory /opt/conda/lib/python3.8/site-packages/typing_extensions.py already exists. Specify --upgrade to force replacement.\u001b[0m\u001b[33m\n\u001b[0m\u001b[33mWARNING: Target directory /opt/conda/lib/python3.8/site-packages/typing_extensions-4.11.0.dist-info already exists. Specify --upgrade to force replacement.\u001b[0m\u001b[33m\n\u001b[0m\u001b[33mWARNING: Target directory /opt/conda/lib/python3.8/site-packages/__pycache__ already exists. Specify --upgrade to force replacement.\u001b[0m\u001b[33m\n\u001b[0m\u001b[33mWARNING: Target directory /opt/conda/lib/python3.8/site-packages/tqdm already exists. Specify --upgrade to force replacement.\u001b[0m\u001b[33m\n\u001b[0m\u001b[33mWARNING: Target directory /opt/conda/lib/python3.8/site-packages/tqdm-4.66.2.dist-info already exists. Specify --upgrade to force replacement.\u001b[0m\u001b[33m\n\u001b[0m\u001b[33mWARNING: Target directory /opt/conda/lib/python3.8/site-packages/yaml already exists. Specify --upgrade to force replacement.\u001b[0m\u001b[33m\n\u001b[0m\u001b[33mWARNING: Target directory /opt/conda/lib/python3.8/site-packages/_yaml already exists. Specify --upgrade to force replacement.\u001b[0m\u001b[33m\n\u001b[0m\u001b[33mWARNING: Target directory /opt/conda/lib/python3.8/site-packages/PyYAML-6.0.1.dist-info already exists. Specify --upgrade to force replacement.\u001b[0m\u001b[33m\n\u001b[0m\u001b[33mWARNING: Target directory /opt/conda/lib/python3.8/site-packages/packaging already exists. Specify --upgrade to force replacement.\u001b[0m\u001b[33m\n\u001b[0m\u001b[33mWARNING: Target directory /opt/conda/lib/python3.8/site-packages/packaging-24.0.dist-info already exists. Specify --upgrade to force replacement.\u001b[0m\u001b[33m\n\u001b[0m\u001b[33mWARNING: Target directory /opt/conda/lib/python3.8/site-packages/numpy.libs already exists. Specify --upgrade to force replacement.\u001b[0m\u001b[33m\n\u001b[0m\u001b[33mWARNING: Target directory /opt/conda/lib/python3.8/site-packages/numpy-1.24.4.dist-info already exists. Specify --upgrade to force replacement.\u001b[0m\u001b[33m\n\u001b[0m\u001b[33mWARNING: Target directory /opt/conda/lib/python3.8/site-packages/numpy already exists. Specify --upgrade to force replacement.\u001b[0m\u001b[33m\n\u001b[0m\u001b[33mWARNING: Target directory /opt/conda/lib/python3.8/site-packages/markupsafe already exists. Specify --upgrade to force replacement.\u001b[0m\u001b[33m\n\u001b[0m\u001b[33mWARNING: Target directory /opt/conda/lib/python3.8/site-packages/MarkupSafe-2.1.5.dist-info already exists. Specify --upgrade to force replacement.\u001b[0m\u001b[33m\n\u001b[0m\u001b[33mWARNING: Target directory /opt/conda/lib/python3.8/site-packages/greenlet already exists. Specify --upgrade to force replacement.\u001b[0m\u001b[33m\n\u001b[0m\u001b[33mWARNING: Target directory /opt/conda/lib/python3.8/site-packages/greenlet-3.0.3.dist-info already exists. Specify --upgrade to force replacement.\u001b[0m\u001b[33m\n\u001b[0m\u001b[33mWARNING: Target directory /opt/conda/lib/python3.8/site-packages/colorlog already exists. Specify --upgrade to force replacement.\u001b[0m\u001b[33m\n\u001b[0m\u001b[33mWARNING: Target directory /opt/conda/lib/python3.8/site-packages/colorlog-6.8.2.dist-info already exists. Specify --upgrade to force replacement.\u001b[0m\u001b[33m\n\u001b[0m\u001b[33mWARNING: Target directory /opt/conda/lib/python3.8/site-packages/sqlalchemy already exists. Specify --upgrade to force replacement.\u001b[0m\u001b[33m\n\u001b[0m\u001b[33mWARNING: Target directory /opt/conda/lib/python3.8/site-packages/SQLAlchemy-2.0.29.dist-info already exists. Specify --upgrade to force replacement.\u001b[0m\u001b[33m\n\u001b[0m\u001b[33mWARNING: Target directory /opt/conda/lib/python3.8/site-packages/mako already exists. Specify --upgrade to force replacement.\u001b[0m\u001b[33m\n\u001b[0m\u001b[33mWARNING: Target directory /opt/conda/lib/python3.8/site-packages/Mako-1.3.3.dist-info already exists. Specify --upgrade to force replacement.\u001b[0m\u001b[33m\n\u001b[0m\u001b[33mWARNING: Target directory /opt/conda/lib/python3.8/site-packages/importlib_resources already exists. Specify --upgrade to force replacement.\u001b[0m\u001b[33m\n\u001b[0m\u001b[33mWARNING: Target directory /opt/conda/lib/python3.8/site-packages/importlib_resources-6.4.0.dist-info already exists. Specify --upgrade to force replacement.\u001b[0m\u001b[33m\n\u001b[0m\u001b[33mWARNING: Target directory /opt/conda/lib/python3.8/site-packages/importlib_metadata already exists. Specify --upgrade to force replacement.\u001b[0m\u001b[33m\n\u001b[0m\u001b[33mWARNING: Target directory /opt/conda/lib/python3.8/site-packages/importlib_metadata-7.1.0.dist-info already exists. Specify --upgrade to force replacement.\u001b[0m\u001b[33m\n\u001b[0m\u001b[33mWARNING: Target directory /opt/conda/lib/python3.8/site-packages/alembic already exists. Specify --upgrade to force replacement.\u001b[0m\u001b[33m\n\u001b[0m\u001b[33mWARNING: Target directory /opt/conda/lib/python3.8/site-packages/alembic-1.13.1.dist-info already exists. Specify --upgrade to force replacement.\u001b[0m\u001b[33m\n\u001b[0m\u001b[33mWARNING: Target directory /opt/conda/lib/python3.8/site-packages/optuna already exists. Specify --upgrade to force replacement.\u001b[0m\u001b[33m\n\u001b[0m\u001b[33mWARNING: Target directory /opt/conda/lib/python3.8/site-packages/optuna-3.6.1.dist-info already exists. Specify --upgrade to force replacement.\u001b[0m\u001b[33m\n\u001b[0m\u001b[33mWARNING: Target directory /opt/conda/lib/python3.8/site-packages/bin already exists. Specify --upgrade to force replacement.\u001b[0m\u001b[33m\n\u001b[0m\u001b[33mWARNING: Target directory /opt/conda/lib/python3.8/site-packages/include already exists. Specify --upgrade to force replacement.\u001b[0m\u001b[33m\n\u001b[0m\u001b[33mWARNING: You are using pip version 22.0.4; however, version 24.0 is available.\nYou should consider upgrading via the '/root/venv/bin/python -m pip install --upgrade pip' command.\u001b[0m\u001b[33m\n\u001b[0mCollecting art==6.1\n  Using cached art-6.1-py3-none-any.whl (599 kB)\nInstalling collected packages: art\nSuccessfully installed art-6.1\n\u001b[33mWARNING: Target directory /opt/conda/lib/python3.8/site-packages/art already exists. Specify --upgrade to force replacement.\u001b[0m\u001b[33m\n\u001b[0m\u001b[33mWARNING: Target directory /opt/conda/lib/python3.8/site-packages/art-6.1.dist-info already exists. Specify --upgrade to force replacement.\u001b[0m\u001b[33m\n\u001b[0m\u001b[33mWARNING: Target directory /opt/conda/lib/python3.8/site-packages/bin already exists. Specify --upgrade to force replacement.\u001b[0m\u001b[33m\n\u001b[0m\u001b[33mWARNING: You are using pip version 22.0.4; however, version 24.0 is available.\nYou should consider upgrading via the '/root/venv/bin/python -m pip install --upgrade pip' command.\u001b[0m\u001b[33m\n\u001b[0m/opt/conda/lib/python3.8/site-packages/tqdm/auto.py:22: TqdmWarning: IProgress not found. Please update jupyter and ipywidgets. See https://ipywidgets.readthedocs.io/en/stable/user_install.html\n  from .autonotebook import tqdm as notebook_tqdm\n",
          "output_type": "stream"
        }
      ],
      "outputs_reference": null,
      "execution_count": 1,
      "block_group": "5ffb4a0d21f646b5bce2d18b102162fe",
      "content_dependencies": null
    },
    {
      "cell_type": "markdown",
      "source": "## Import of Dataset\n\n",
      "metadata": {
        "cell_id": "a6db69d9cb7d4a9e8bc3a3adea8654e2",
        "deepnote_cell_type": "markdown"
      },
      "block_group": "31d881fc827240279839fefc2722e2b2"
    },
    {
      "cell_type": "code",
      "source": "foodData = pd.read_csv('FoodDeliveryData.csv')\nfoodData",
      "metadata": {
        "source_hash": "ac45ec34",
        "execution_start": 1713690144258,
        "execution_millis": 684,
        "deepnote_table_state": {
          "sortBy": [],
          "filters": [],
          "pageSize": 5,
          "pageIndex": 0
        },
        "deepnote_table_loading": false,
        "deepnote_to_be_reexecuted": false,
        "cell_id": "034a78b8521949f7a08e3528d32608bf",
        "deepnote_cell_type": "code"
      },
      "outputs": [
        {
          "output_type": "execute_result",
          "execution_count": 2,
          "data": {
            "application/vnd.deepnote.dataframe.v3+json": {
              "column_count": 20,
              "row_count": 45593,
              "columns": [
                {
                  "name": "ID",
                  "dtype": "object",
                  "stats": {
                    "unique_count": 45593,
                    "nan_count": 0,
                    "categories": [
                      {
                        "name": "0x4607 ",
                        "count": 1
                      },
                      {
                        "name": "0xb379 ",
                        "count": 1
                      },
                      {
                        "name": "45591 others",
                        "count": 45591
                      }
                    ]
                  }
                },
                {
                  "name": "Delivery_person_ID",
                  "dtype": "object",
                  "stats": {
                    "unique_count": 1320,
                    "nan_count": 0,
                    "categories": [
                      {
                        "name": "JAPRES11DEL02 ",
                        "count": 67
                      },
                      {
                        "name": "PUNERES01DEL01 ",
                        "count": 67
                      },
                      {
                        "name": "1318 others",
                        "count": 45459
                      }
                    ]
                  }
                },
                {
                  "name": "Delivery_person_Age",
                  "dtype": "object"
                },
                {
                  "name": "Delivery_person_Ratings",
                  "dtype": "object"
                },
                {
                  "name": "Restaurant_latitude",
                  "dtype": "float64"
                },
                {
                  "name": "Restaurant_longitude",
                  "dtype": "float64"
                },
                {
                  "name": "Delivery_location_latitude",
                  "dtype": "float64"
                },
                {
                  "name": "Delivery_location_longitude",
                  "dtype": "float64"
                },
                {
                  "name": "Order_Date",
                  "dtype": "object"
                },
                {
                  "name": "Time_Orderd",
                  "dtype": "object"
                },
                {
                  "name": "Time_Order_picked",
                  "dtype": "object"
                },
                {
                  "name": "Weatherconditions",
                  "dtype": "object"
                },
                {
                  "name": "Road_traffic_density",
                  "dtype": "object"
                },
                {
                  "name": "Vehicle_condition",
                  "dtype": "int64"
                },
                {
                  "name": "Type_of_order",
                  "dtype": "object"
                },
                {
                  "name": "Type_of_vehicle",
                  "dtype": "object"
                },
                {
                  "name": "multiple_deliveries",
                  "dtype": "object"
                },
                {
                  "name": "Festival",
                  "dtype": "object"
                },
                {
                  "name": "City",
                  "dtype": "object"
                },
                {
                  "name": "Time_taken(min)",
                  "dtype": "object"
                },
                {
                  "name": "_deepnote_index_column",
                  "dtype": "int64"
                }
              ],
              "rows": [
                {
                  "ID": "0x4607 ",
                  "Delivery_person_ID": "INDORES13DEL02 ",
                  "Delivery_person_Age": "37",
                  "Delivery_person_Ratings": "4.9",
                  "Restaurant_latitude": 22.745049,
                  "Restaurant_longitude": 75.892471,
                  "Delivery_location_latitude": 22.765049,
                  "Delivery_location_longitude": 75.912471,
                  "Order_Date": "19-03-2022",
                  "Time_Orderd": "11:30:00",
                  "Time_Order_picked": "11:45:00",
                  "Weatherconditions": "conditions Sunny",
                  "Road_traffic_density": "High ",
                  "Vehicle_condition": 2,
                  "Type_of_order": "Snack ",
                  "Type_of_vehicle": "motorcycle ",
                  "multiple_deliveries": "0",
                  "Festival": "No ",
                  "City": "Urban ",
                  "Time_taken(min)": "(min) 24",
                  "_deepnote_index_column": 0
                },
                {
                  "ID": "0xb379 ",
                  "Delivery_person_ID": "BANGRES18DEL02 ",
                  "Delivery_person_Age": "34",
                  "Delivery_person_Ratings": "4.5",
                  "Restaurant_latitude": 12.913041,
                  "Restaurant_longitude": 77.683237,
                  "Delivery_location_latitude": 13.043041,
                  "Delivery_location_longitude": 77.813237,
                  "Order_Date": "25-03-2022",
                  "Time_Orderd": "19:45:00",
                  "Time_Order_picked": "19:50:00",
                  "Weatherconditions": "conditions Stormy",
                  "Road_traffic_density": "Jam ",
                  "Vehicle_condition": 2,
                  "Type_of_order": "Snack ",
                  "Type_of_vehicle": "scooter ",
                  "multiple_deliveries": "1",
                  "Festival": "No ",
                  "City": "Metropolitian ",
                  "Time_taken(min)": "(min) 33",
                  "_deepnote_index_column": 1
                },
                {
                  "ID": "0x5d6d ",
                  "Delivery_person_ID": "BANGRES19DEL01 ",
                  "Delivery_person_Age": "23",
                  "Delivery_person_Ratings": "4.4",
                  "Restaurant_latitude": 12.914264,
                  "Restaurant_longitude": 77.6784,
                  "Delivery_location_latitude": 12.924264,
                  "Delivery_location_longitude": 77.6884,
                  "Order_Date": "19-03-2022",
                  "Time_Orderd": "08:30:00",
                  "Time_Order_picked": "08:45:00",
                  "Weatherconditions": "conditions Sandstorms",
                  "Road_traffic_density": "Low ",
                  "Vehicle_condition": 0,
                  "Type_of_order": "Drinks ",
                  "Type_of_vehicle": "motorcycle ",
                  "multiple_deliveries": "1",
                  "Festival": "No ",
                  "City": "Urban ",
                  "Time_taken(min)": "(min) 26",
                  "_deepnote_index_column": 2
                },
                {
                  "ID": "0x7a6a ",
                  "Delivery_person_ID": "COIMBRES13DEL02 ",
                  "Delivery_person_Age": "38",
                  "Delivery_person_Ratings": "4.7",
                  "Restaurant_latitude": 11.003669,
                  "Restaurant_longitude": 76.976494,
                  "Delivery_location_latitude": 11.053669,
                  "Delivery_location_longitude": 77.026494,
                  "Order_Date": "05-04-2022",
                  "Time_Orderd": "18:00:00",
                  "Time_Order_picked": "18:10:00",
                  "Weatherconditions": "conditions Sunny",
                  "Road_traffic_density": "Medium ",
                  "Vehicle_condition": 0,
                  "Type_of_order": "Buffet ",
                  "Type_of_vehicle": "motorcycle ",
                  "multiple_deliveries": "1",
                  "Festival": "No ",
                  "City": "Metropolitian ",
                  "Time_taken(min)": "(min) 21",
                  "_deepnote_index_column": 3
                },
                {
                  "ID": "0x70a2 ",
                  "Delivery_person_ID": "CHENRES12DEL01 ",
                  "Delivery_person_Age": "32",
                  "Delivery_person_Ratings": "4.6",
                  "Restaurant_latitude": 12.972793,
                  "Restaurant_longitude": 80.249982,
                  "Delivery_location_latitude": 13.012793,
                  "Delivery_location_longitude": 80.289982,
                  "Order_Date": "26-03-2022",
                  "Time_Orderd": "13:30:00",
                  "Time_Order_picked": "13:45:00",
                  "Weatherconditions": "conditions Cloudy",
                  "Road_traffic_density": "High ",
                  "Vehicle_condition": 1,
                  "Type_of_order": "Snack ",
                  "Type_of_vehicle": "scooter ",
                  "multiple_deliveries": "1",
                  "Festival": "No ",
                  "City": "Metropolitian ",
                  "Time_taken(min)": "(min) 30",
                  "_deepnote_index_column": 4
                }
              ]
            },
            "text/plain": "            ID Delivery_person_ID Delivery_person_Age Delivery_person_Ratings  \\\n0      0x4607     INDORES13DEL02                   37                     4.9   \n1      0xb379     BANGRES18DEL02                   34                     4.5   \n2      0x5d6d     BANGRES19DEL01                   23                     4.4   \n3      0x7a6a    COIMBRES13DEL02                   38                     4.7   \n4      0x70a2     CHENRES12DEL01                   32                     4.6   \n...        ...                ...                 ...                     ...   \n45588  0x7c09      JAPRES04DEL01                   30                     4.8   \n45589  0xd641      AGRRES16DEL01                   21                     4.6   \n45590  0x4f8d     CHENRES08DEL03                   30                     4.9   \n45591  0x5eee    COIMBRES11DEL01                   20                     4.7   \n45592  0x5fb2   RANCHIRES09DEL02                   23                     4.9   \n\n       Restaurant_latitude  Restaurant_longitude  Delivery_location_latitude  \\\n0                22.745049             75.892471                   22.765049   \n1                12.913041             77.683237                   13.043041   \n2                12.914264             77.678400                   12.924264   \n3                11.003669             76.976494                   11.053669   \n4                12.972793             80.249982                   13.012793   \n...                    ...                   ...                         ...   \n45588            26.902328             75.794257                   26.912328   \n45589             0.000000              0.000000                    0.070000   \n45590            13.022394             80.242439                   13.052394   \n45591            11.001753             76.986241                   11.041753   \n45592            23.351058             85.325731                   23.431058   \n\n       Delivery_location_longitude  Order_Date Time_Orderd Time_Order_picked  \\\n0                        75.912471  19-03-2022    11:30:00          11:45:00   \n1                        77.813237  25-03-2022    19:45:00          19:50:00   \n2                        77.688400  19-03-2022    08:30:00          08:45:00   \n3                        77.026494  05-04-2022    18:00:00          18:10:00   \n4                        80.289982  26-03-2022    13:30:00          13:45:00   \n...                            ...         ...         ...               ...   \n45588                    75.804257  24-03-2022    11:35:00          11:45:00   \n45589                     0.070000  16-02-2022    19:55:00          20:10:00   \n45590                    80.272439  11-03-2022    23:50:00          00:05:00   \n45591                    77.026241  07-03-2022    13:35:00          13:40:00   \n45592                    85.405731  02-03-2022    17:10:00          17:15:00   \n\n           Weatherconditions Road_traffic_density  Vehicle_condition  \\\n0           conditions Sunny                High                   2   \n1          conditions Stormy                 Jam                   2   \n2      conditions Sandstorms                 Low                   0   \n3           conditions Sunny              Medium                   0   \n4          conditions Cloudy                High                   1   \n...                      ...                  ...                ...   \n45588       conditions Windy                High                   1   \n45589       conditions Windy                 Jam                   0   \n45590      conditions Cloudy                 Low                   1   \n45591      conditions Cloudy                High                   0   \n45592         conditions Fog              Medium                   2   \n\n      Type_of_order Type_of_vehicle multiple_deliveries Festival  \\\n0            Snack      motorcycle                    0      No    \n1            Snack         scooter                    1      No    \n2           Drinks      motorcycle                    1      No    \n3           Buffet      motorcycle                    1      No    \n4            Snack         scooter                    1      No    \n...             ...             ...                 ...      ...   \n45588         Meal      motorcycle                    0      No    \n45589       Buffet      motorcycle                    1      No    \n45590       Drinks         scooter                    0      No    \n45591        Snack      motorcycle                    1      No    \n45592        Snack         scooter                    1      No    \n\n                 City Time_taken(min)  \n0              Urban         (min) 24  \n1      Metropolitian         (min) 33  \n2              Urban         (min) 26  \n3      Metropolitian         (min) 21  \n4      Metropolitian         (min) 30  \n...               ...             ...  \n45588  Metropolitian         (min) 32  \n45589  Metropolitian         (min) 36  \n45590  Metropolitian         (min) 16  \n45591  Metropolitian         (min) 26  \n45592  Metropolitian         (min) 36  \n\n[45593 rows x 20 columns]",
            "text/html": "<div>\n<style scoped>\n    .dataframe tbody tr th:only-of-type {\n        vertical-align: middle;\n    }\n\n    .dataframe tbody tr th {\n        vertical-align: top;\n    }\n\n    .dataframe thead th {\n        text-align: right;\n    }\n</style>\n<table border=\"1\" class=\"dataframe\">\n  <thead>\n    <tr style=\"text-align: right;\">\n      <th></th>\n      <th>ID</th>\n      <th>Delivery_person_ID</th>\n      <th>Delivery_person_Age</th>\n      <th>Delivery_person_Ratings</th>\n      <th>Restaurant_latitude</th>\n      <th>Restaurant_longitude</th>\n      <th>Delivery_location_latitude</th>\n      <th>Delivery_location_longitude</th>\n      <th>Order_Date</th>\n      <th>Time_Orderd</th>\n      <th>Time_Order_picked</th>\n      <th>Weatherconditions</th>\n      <th>Road_traffic_density</th>\n      <th>Vehicle_condition</th>\n      <th>Type_of_order</th>\n      <th>Type_of_vehicle</th>\n      <th>multiple_deliveries</th>\n      <th>Festival</th>\n      <th>City</th>\n      <th>Time_taken(min)</th>\n    </tr>\n  </thead>\n  <tbody>\n    <tr>\n      <th>0</th>\n      <td>0x4607</td>\n      <td>INDORES13DEL02</td>\n      <td>37</td>\n      <td>4.9</td>\n      <td>22.745049</td>\n      <td>75.892471</td>\n      <td>22.765049</td>\n      <td>75.912471</td>\n      <td>19-03-2022</td>\n      <td>11:30:00</td>\n      <td>11:45:00</td>\n      <td>conditions Sunny</td>\n      <td>High</td>\n      <td>2</td>\n      <td>Snack</td>\n      <td>motorcycle</td>\n      <td>0</td>\n      <td>No</td>\n      <td>Urban</td>\n      <td>(min) 24</td>\n    </tr>\n    <tr>\n      <th>1</th>\n      <td>0xb379</td>\n      <td>BANGRES18DEL02</td>\n      <td>34</td>\n      <td>4.5</td>\n      <td>12.913041</td>\n      <td>77.683237</td>\n      <td>13.043041</td>\n      <td>77.813237</td>\n      <td>25-03-2022</td>\n      <td>19:45:00</td>\n      <td>19:50:00</td>\n      <td>conditions Stormy</td>\n      <td>Jam</td>\n      <td>2</td>\n      <td>Snack</td>\n      <td>scooter</td>\n      <td>1</td>\n      <td>No</td>\n      <td>Metropolitian</td>\n      <td>(min) 33</td>\n    </tr>\n    <tr>\n      <th>2</th>\n      <td>0x5d6d</td>\n      <td>BANGRES19DEL01</td>\n      <td>23</td>\n      <td>4.4</td>\n      <td>12.914264</td>\n      <td>77.678400</td>\n      <td>12.924264</td>\n      <td>77.688400</td>\n      <td>19-03-2022</td>\n      <td>08:30:00</td>\n      <td>08:45:00</td>\n      <td>conditions Sandstorms</td>\n      <td>Low</td>\n      <td>0</td>\n      <td>Drinks</td>\n      <td>motorcycle</td>\n      <td>1</td>\n      <td>No</td>\n      <td>Urban</td>\n      <td>(min) 26</td>\n    </tr>\n    <tr>\n      <th>3</th>\n      <td>0x7a6a</td>\n      <td>COIMBRES13DEL02</td>\n      <td>38</td>\n      <td>4.7</td>\n      <td>11.003669</td>\n      <td>76.976494</td>\n      <td>11.053669</td>\n      <td>77.026494</td>\n      <td>05-04-2022</td>\n      <td>18:00:00</td>\n      <td>18:10:00</td>\n      <td>conditions Sunny</td>\n      <td>Medium</td>\n      <td>0</td>\n      <td>Buffet</td>\n      <td>motorcycle</td>\n      <td>1</td>\n      <td>No</td>\n      <td>Metropolitian</td>\n      <td>(min) 21</td>\n    </tr>\n    <tr>\n      <th>4</th>\n      <td>0x70a2</td>\n      <td>CHENRES12DEL01</td>\n      <td>32</td>\n      <td>4.6</td>\n      <td>12.972793</td>\n      <td>80.249982</td>\n      <td>13.012793</td>\n      <td>80.289982</td>\n      <td>26-03-2022</td>\n      <td>13:30:00</td>\n      <td>13:45:00</td>\n      <td>conditions Cloudy</td>\n      <td>High</td>\n      <td>1</td>\n      <td>Snack</td>\n      <td>scooter</td>\n      <td>1</td>\n      <td>No</td>\n      <td>Metropolitian</td>\n      <td>(min) 30</td>\n    </tr>\n    <tr>\n      <th>...</th>\n      <td>...</td>\n      <td>...</td>\n      <td>...</td>\n      <td>...</td>\n      <td>...</td>\n      <td>...</td>\n      <td>...</td>\n      <td>...</td>\n      <td>...</td>\n      <td>...</td>\n      <td>...</td>\n      <td>...</td>\n      <td>...</td>\n      <td>...</td>\n      <td>...</td>\n      <td>...</td>\n      <td>...</td>\n      <td>...</td>\n      <td>...</td>\n      <td>...</td>\n    </tr>\n    <tr>\n      <th>45588</th>\n      <td>0x7c09</td>\n      <td>JAPRES04DEL01</td>\n      <td>30</td>\n      <td>4.8</td>\n      <td>26.902328</td>\n      <td>75.794257</td>\n      <td>26.912328</td>\n      <td>75.804257</td>\n      <td>24-03-2022</td>\n      <td>11:35:00</td>\n      <td>11:45:00</td>\n      <td>conditions Windy</td>\n      <td>High</td>\n      <td>1</td>\n      <td>Meal</td>\n      <td>motorcycle</td>\n      <td>0</td>\n      <td>No</td>\n      <td>Metropolitian</td>\n      <td>(min) 32</td>\n    </tr>\n    <tr>\n      <th>45589</th>\n      <td>0xd641</td>\n      <td>AGRRES16DEL01</td>\n      <td>21</td>\n      <td>4.6</td>\n      <td>0.000000</td>\n      <td>0.000000</td>\n      <td>0.070000</td>\n      <td>0.070000</td>\n      <td>16-02-2022</td>\n      <td>19:55:00</td>\n      <td>20:10:00</td>\n      <td>conditions Windy</td>\n      <td>Jam</td>\n      <td>0</td>\n      <td>Buffet</td>\n      <td>motorcycle</td>\n      <td>1</td>\n      <td>No</td>\n      <td>Metropolitian</td>\n      <td>(min) 36</td>\n    </tr>\n    <tr>\n      <th>45590</th>\n      <td>0x4f8d</td>\n      <td>CHENRES08DEL03</td>\n      <td>30</td>\n      <td>4.9</td>\n      <td>13.022394</td>\n      <td>80.242439</td>\n      <td>13.052394</td>\n      <td>80.272439</td>\n      <td>11-03-2022</td>\n      <td>23:50:00</td>\n      <td>00:05:00</td>\n      <td>conditions Cloudy</td>\n      <td>Low</td>\n      <td>1</td>\n      <td>Drinks</td>\n      <td>scooter</td>\n      <td>0</td>\n      <td>No</td>\n      <td>Metropolitian</td>\n      <td>(min) 16</td>\n    </tr>\n    <tr>\n      <th>45591</th>\n      <td>0x5eee</td>\n      <td>COIMBRES11DEL01</td>\n      <td>20</td>\n      <td>4.7</td>\n      <td>11.001753</td>\n      <td>76.986241</td>\n      <td>11.041753</td>\n      <td>77.026241</td>\n      <td>07-03-2022</td>\n      <td>13:35:00</td>\n      <td>13:40:00</td>\n      <td>conditions Cloudy</td>\n      <td>High</td>\n      <td>0</td>\n      <td>Snack</td>\n      <td>motorcycle</td>\n      <td>1</td>\n      <td>No</td>\n      <td>Metropolitian</td>\n      <td>(min) 26</td>\n    </tr>\n    <tr>\n      <th>45592</th>\n      <td>0x5fb2</td>\n      <td>RANCHIRES09DEL02</td>\n      <td>23</td>\n      <td>4.9</td>\n      <td>23.351058</td>\n      <td>85.325731</td>\n      <td>23.431058</td>\n      <td>85.405731</td>\n      <td>02-03-2022</td>\n      <td>17:10:00</td>\n      <td>17:15:00</td>\n      <td>conditions Fog</td>\n      <td>Medium</td>\n      <td>2</td>\n      <td>Snack</td>\n      <td>scooter</td>\n      <td>1</td>\n      <td>No</td>\n      <td>Metropolitian</td>\n      <td>(min) 36</td>\n    </tr>\n  </tbody>\n</table>\n<p>45593 rows × 20 columns</p>\n</div>"
          },
          "metadata": {}
        }
      ],
      "outputs_reference": null,
      "execution_count": 2,
      "block_group": "d399e2a9e118425cb1887526e9210a23",
      "content_dependencies": null
    },
    {
      "cell_type": "markdown",
      "source": "#### This dataset has 20 columns.\n\n#### **Categorical Data:**\n\nWeatherconditions \\- Weather condition during delivery \\(e.g Sunny, Stormy\\)\n\nRoad\\_traffic\\_density \\- Road density condition during delivery \\(e.g Low, Medium\\)\n\nVehicle\\_condition \\- Condition of delivery vehicle \\(0\\-bad, 2\\- very good\\)\n\nType\\_of\\_order \\- Order type \\(e.g: Buffet, Snack\\)\n\nType\\_of\\_vehicle \\- Delivery vehicle type \\(e.g: motorcycle, scooter\\)\n\nmultiple\\_deliveries \\- Is delivery person delivering multiple deliveries in a single trip? \\(e.g 0 \\- only handling that specific delivery order, 1 \\- one or more delivery order to deliver before/after\\)\n\nFestival \\- Is delivery day a festival day?\n\nCity \\- Delivery location \\(e.g: Metropolitian/ Urban\\)\n\n#### **Numerical Data:**\n\nDelivery\\_person\\_Age \\- Age of delivery person\n\nID \\- Row ID\n\nDelivery\\_person\\_ID \\- Delivery person ID\n\nDelivery\\_person\\_Ratings \\- Ratings of the delivery person\n\nRestaurant\\_latitude \\- restaurant location latitude\n\nRestaurant\\_longitude \\- restaurant location longitude\n\nDelivery\\_location\\_latitude \\- delivery location latitude\n\nDelivery\\_location\\_longitude \\- delivery location longitude\n\nOrder\\_Date \\- date of the order placed by customer\n\nTime\\_Orderd \\- time customer placed the delivery order\n\nTime\\_Order\\_picked \\- time delivery person picked up the delivery order\n\nTime\\_taken\\(min\\) \\- time taken for the successful delivery in minutes\n\n",
      "metadata": {
        "cell_id": "67121e7d9d544972996f3f13ac21cec9",
        "deepnote_cell_type": "markdown"
      },
      "block_group": "67a681c9f5b84fce91ff9bebb5211ced"
    },
    {
      "cell_type": "code",
      "source": "foodData.info()",
      "metadata": {
        "source_hash": "48d4b1f7",
        "execution_start": 1713690144961,
        "execution_millis": 228,
        "deepnote_to_be_reexecuted": false,
        "cell_id": "08a181fdcf194ec2824cdd26a5fcde60",
        "deepnote_cell_type": "code"
      },
      "outputs": [
        {
          "name": "stdout",
          "text": "<class 'pandas.core.frame.DataFrame'>\nRangeIndex: 45593 entries, 0 to 45592\nData columns (total 20 columns):\n #   Column                       Non-Null Count  Dtype  \n---  ------                       --------------  -----  \n 0   ID                           45593 non-null  object \n 1   Delivery_person_ID           45593 non-null  object \n 2   Delivery_person_Age          45593 non-null  object \n 3   Delivery_person_Ratings      45593 non-null  object \n 4   Restaurant_latitude          45593 non-null  float64\n 5   Restaurant_longitude         45593 non-null  float64\n 6   Delivery_location_latitude   45593 non-null  float64\n 7   Delivery_location_longitude  45593 non-null  float64\n 8   Order_Date                   45593 non-null  object \n 9   Time_Orderd                  45593 non-null  object \n 10  Time_Order_picked            45593 non-null  object \n 11  Weatherconditions            45593 non-null  object \n 12  Road_traffic_density         45593 non-null  object \n 13  Vehicle_condition            45593 non-null  int64  \n 14  Type_of_order                45593 non-null  object \n 15  Type_of_vehicle              45593 non-null  object \n 16  multiple_deliveries          45593 non-null  object \n 17  Festival                     45593 non-null  object \n 18  City                         45593 non-null  object \n 19  Time_taken(min)              45593 non-null  object \ndtypes: float64(4), int64(1), object(15)\nmemory usage: 7.0+ MB\n",
          "output_type": "stream"
        }
      ],
      "outputs_reference": null,
      "execution_count": 3,
      "block_group": "c12289c7ef6f4f248109be382a48d3f5",
      "content_dependencies": null
    },
    {
      "cell_type": "code",
      "source": "foodData.shape",
      "metadata": {
        "source_hash": "cced6fb8",
        "execution_start": 1713690145046,
        "execution_millis": 292,
        "deepnote_to_be_reexecuted": false,
        "cell_id": "60fba5f6e128436aaa9915fe71fe8e7a",
        "deepnote_cell_type": "code"
      },
      "outputs": [
        {
          "output_type": "execute_result",
          "execution_count": 4,
          "data": {
            "text/plain": "(45593, 20)"
          },
          "metadata": {}
        }
      ],
      "outputs_reference": null,
      "execution_count": 4,
      "block_group": "0e4829c4799e46e7a46cbd16482da98a",
      "content_dependencies": null
    },
    {
      "cell_type": "code",
      "source": "foodData.describe()",
      "metadata": {
        "source_hash": "d5009743",
        "execution_start": 1713690145067,
        "execution_millis": 271,
        "deepnote_to_be_reexecuted": false,
        "cell_id": "8b1dcc67ee40423082725ab143c35b7d",
        "deepnote_cell_type": "code"
      },
      "outputs": [
        {
          "output_type": "execute_result",
          "execution_count": 5,
          "data": {
            "application/vnd.deepnote.dataframe.v3+json": {
              "column_count": 5,
              "row_count": 8,
              "columns": [
                {
                  "name": "Restaurant_latitude",
                  "dtype": "float64",
                  "stats": {
                    "unique_count": 8,
                    "nan_count": 0,
                    "min": "-30.905562",
                    "max": "45593.0",
                    "histogram": [
                      {
                        "bin_start": -30.905562,
                        "bin_end": 4531.4849942,
                        "count": 7
                      },
                      {
                        "bin_start": 4531.4849942,
                        "bin_end": 9093.8755504,
                        "count": 0
                      },
                      {
                        "bin_start": 9093.8755504,
                        "bin_end": 13656.2661066,
                        "count": 0
                      },
                      {
                        "bin_start": 13656.2661066,
                        "bin_end": 18218.6566628,
                        "count": 0
                      },
                      {
                        "bin_start": 18218.6566628,
                        "bin_end": 22781.047219,
                        "count": 0
                      },
                      {
                        "bin_start": 22781.047219,
                        "bin_end": 27343.4377752,
                        "count": 0
                      },
                      {
                        "bin_start": 27343.4377752,
                        "bin_end": 31905.8283314,
                        "count": 0
                      },
                      {
                        "bin_start": 31905.8283314,
                        "bin_end": 36468.2188876,
                        "count": 0
                      },
                      {
                        "bin_start": 36468.2188876,
                        "bin_end": 41030.6094438,
                        "count": 0
                      },
                      {
                        "bin_start": 41030.6094438,
                        "bin_end": 45593,
                        "count": 1
                      }
                    ]
                  }
                },
                {
                  "name": "Restaurant_longitude",
                  "dtype": "float64",
                  "stats": {
                    "unique_count": 8,
                    "nan_count": 0,
                    "min": "-88.366217",
                    "max": "45593.0",
                    "histogram": [
                      {
                        "bin_start": -88.366217,
                        "bin_end": 4479.770404700001,
                        "count": 7
                      },
                      {
                        "bin_start": 4479.770404700001,
                        "bin_end": 9047.9070264,
                        "count": 0
                      },
                      {
                        "bin_start": 9047.9070264,
                        "bin_end": 13616.043648100002,
                        "count": 0
                      },
                      {
                        "bin_start": 13616.043648100002,
                        "bin_end": 18184.180269800003,
                        "count": 0
                      },
                      {
                        "bin_start": 18184.180269800003,
                        "bin_end": 22752.316891500002,
                        "count": 0
                      },
                      {
                        "bin_start": 22752.316891500002,
                        "bin_end": 27320.453513200006,
                        "count": 0
                      },
                      {
                        "bin_start": 27320.453513200006,
                        "bin_end": 31888.590134900005,
                        "count": 0
                      },
                      {
                        "bin_start": 31888.590134900005,
                        "bin_end": 36456.7267566,
                        "count": 0
                      },
                      {
                        "bin_start": 36456.7267566,
                        "bin_end": 41024.863378300004,
                        "count": 0
                      },
                      {
                        "bin_start": 41024.863378300004,
                        "bin_end": 45593,
                        "count": 1
                      }
                    ]
                  }
                },
                {
                  "name": "Delivery_location_latitude",
                  "dtype": "float64",
                  "stats": {
                    "unique_count": 8,
                    "nan_count": 0,
                    "min": "0.01",
                    "max": "45593.0",
                    "histogram": [
                      {
                        "bin_start": 0.01,
                        "bin_end": 4559.309,
                        "count": 7
                      },
                      {
                        "bin_start": 4559.309,
                        "bin_end": 9118.608,
                        "count": 0
                      },
                      {
                        "bin_start": 9118.608,
                        "bin_end": 13677.907000000001,
                        "count": 0
                      },
                      {
                        "bin_start": 13677.907000000001,
                        "bin_end": 18237.206,
                        "count": 0
                      },
                      {
                        "bin_start": 18237.206,
                        "bin_end": 22796.504999999997,
                        "count": 0
                      },
                      {
                        "bin_start": 22796.504999999997,
                        "bin_end": 27355.804,
                        "count": 0
                      },
                      {
                        "bin_start": 27355.804,
                        "bin_end": 31915.103,
                        "count": 0
                      },
                      {
                        "bin_start": 31915.103,
                        "bin_end": 36474.402,
                        "count": 0
                      },
                      {
                        "bin_start": 36474.402,
                        "bin_end": 41033.701,
                        "count": 0
                      },
                      {
                        "bin_start": 41033.701,
                        "bin_end": 45593,
                        "count": 1
                      }
                    ]
                  }
                },
                {
                  "name": "Delivery_location_longitude",
                  "dtype": "float64",
                  "stats": {
                    "unique_count": 8,
                    "nan_count": 0,
                    "min": "0.01",
                    "max": "45593.0",
                    "histogram": [
                      {
                        "bin_start": 0.01,
                        "bin_end": 4559.309,
                        "count": 7
                      },
                      {
                        "bin_start": 4559.309,
                        "bin_end": 9118.608,
                        "count": 0
                      },
                      {
                        "bin_start": 9118.608,
                        "bin_end": 13677.907000000001,
                        "count": 0
                      },
                      {
                        "bin_start": 13677.907000000001,
                        "bin_end": 18237.206,
                        "count": 0
                      },
                      {
                        "bin_start": 18237.206,
                        "bin_end": 22796.504999999997,
                        "count": 0
                      },
                      {
                        "bin_start": 22796.504999999997,
                        "bin_end": 27355.804,
                        "count": 0
                      },
                      {
                        "bin_start": 27355.804,
                        "bin_end": 31915.103,
                        "count": 0
                      },
                      {
                        "bin_start": 31915.103,
                        "bin_end": 36474.402,
                        "count": 0
                      },
                      {
                        "bin_start": 36474.402,
                        "bin_end": 41033.701,
                        "count": 0
                      },
                      {
                        "bin_start": 41033.701,
                        "bin_end": 45593,
                        "count": 1
                      }
                    ]
                  }
                },
                {
                  "name": "Vehicle_condition",
                  "dtype": "float64",
                  "stats": {
                    "unique_count": 7,
                    "nan_count": 0,
                    "min": "0.0",
                    "max": "45593.0",
                    "histogram": [
                      {
                        "bin_start": 0,
                        "bin_end": 4559.3,
                        "count": 7
                      },
                      {
                        "bin_start": 4559.3,
                        "bin_end": 9118.6,
                        "count": 0
                      },
                      {
                        "bin_start": 9118.6,
                        "bin_end": 13677.900000000001,
                        "count": 0
                      },
                      {
                        "bin_start": 13677.900000000001,
                        "bin_end": 18237.2,
                        "count": 0
                      },
                      {
                        "bin_start": 18237.2,
                        "bin_end": 22796.5,
                        "count": 0
                      },
                      {
                        "bin_start": 22796.5,
                        "bin_end": 27355.800000000003,
                        "count": 0
                      },
                      {
                        "bin_start": 27355.800000000003,
                        "bin_end": 31915.100000000002,
                        "count": 0
                      },
                      {
                        "bin_start": 31915.100000000002,
                        "bin_end": 36474.4,
                        "count": 0
                      },
                      {
                        "bin_start": 36474.4,
                        "bin_end": 41033.700000000004,
                        "count": 0
                      },
                      {
                        "bin_start": 41033.700000000004,
                        "bin_end": 45593,
                        "count": 1
                      }
                    ]
                  }
                },
                {
                  "name": "_deepnote_index_column",
                  "dtype": "object"
                }
              ],
              "rows": [
                {
                  "Restaurant_latitude": 45593,
                  "Restaurant_longitude": 45593,
                  "Delivery_location_latitude": 45593,
                  "Delivery_location_longitude": 45593,
                  "Vehicle_condition": 45593,
                  "_deepnote_index_column": "count"
                },
                {
                  "Restaurant_latitude": 17.017728506525124,
                  "Restaurant_longitude": 70.2313323380782,
                  "Delivery_location_latitude": 17.465185865088937,
                  "Delivery_location_longitude": 70.84570225567522,
                  "Vehicle_condition": 1.02335884894611,
                  "_deepnote_index_column": "mean"
                },
                {
                  "Restaurant_latitude": 8.185108965214447,
                  "Restaurant_longitude": 22.883647223093075,
                  "Delivery_location_latitude": 7.335121994514343,
                  "Delivery_location_longitude": 21.118811879085786,
                  "Vehicle_condition": 0.8390647867161869,
                  "_deepnote_index_column": "std"
                },
                {
                  "Restaurant_latitude": -30.905562,
                  "Restaurant_longitude": -88.366217,
                  "Delivery_location_latitude": 0.01,
                  "Delivery_location_longitude": 0.01,
                  "Vehicle_condition": 0,
                  "_deepnote_index_column": "min"
                },
                {
                  "Restaurant_latitude": 12.933284,
                  "Restaurant_longitude": 73.17,
                  "Delivery_location_latitude": 12.988453,
                  "Delivery_location_longitude": 73.28,
                  "Vehicle_condition": 0,
                  "_deepnote_index_column": "25%"
                },
                {
                  "Restaurant_latitude": 18.546947,
                  "Restaurant_longitude": 75.898497,
                  "Delivery_location_latitude": 18.633934,
                  "Delivery_location_longitude": 76.002574,
                  "Vehicle_condition": 1,
                  "_deepnote_index_column": "50%"
                },
                {
                  "Restaurant_latitude": 22.728163,
                  "Restaurant_longitude": 78.044095,
                  "Delivery_location_latitude": 22.785049,
                  "Delivery_location_longitude": 78.107044,
                  "Vehicle_condition": 2,
                  "_deepnote_index_column": "75%"
                },
                {
                  "Restaurant_latitude": 30.914057,
                  "Restaurant_longitude": 88.433452,
                  "Delivery_location_latitude": 31.054057,
                  "Delivery_location_longitude": 88.563452,
                  "Vehicle_condition": 3,
                  "_deepnote_index_column": "max"
                }
              ]
            },
            "text/plain": "       Restaurant_latitude  Restaurant_longitude  Delivery_location_latitude  \\\ncount         45593.000000          45593.000000                45593.000000   \nmean             17.017729             70.231332                   17.465186   \nstd               8.185109             22.883647                    7.335122   \nmin             -30.905562            -88.366217                    0.010000   \n25%              12.933284             73.170000                   12.988453   \n50%              18.546947             75.898497                   18.633934   \n75%              22.728163             78.044095                   22.785049   \nmax              30.914057             88.433452                   31.054057   \n\n       Delivery_location_longitude  Vehicle_condition  \ncount                 45593.000000       45593.000000  \nmean                     70.845702           1.023359  \nstd                      21.118812           0.839065  \nmin                       0.010000           0.000000  \n25%                      73.280000           0.000000  \n50%                      76.002574           1.000000  \n75%                      78.107044           2.000000  \nmax                      88.563452           3.000000  ",
            "text/html": "<div>\n<style scoped>\n    .dataframe tbody tr th:only-of-type {\n        vertical-align: middle;\n    }\n\n    .dataframe tbody tr th {\n        vertical-align: top;\n    }\n\n    .dataframe thead th {\n        text-align: right;\n    }\n</style>\n<table border=\"1\" class=\"dataframe\">\n  <thead>\n    <tr style=\"text-align: right;\">\n      <th></th>\n      <th>Restaurant_latitude</th>\n      <th>Restaurant_longitude</th>\n      <th>Delivery_location_latitude</th>\n      <th>Delivery_location_longitude</th>\n      <th>Vehicle_condition</th>\n    </tr>\n  </thead>\n  <tbody>\n    <tr>\n      <th>count</th>\n      <td>45593.000000</td>\n      <td>45593.000000</td>\n      <td>45593.000000</td>\n      <td>45593.000000</td>\n      <td>45593.000000</td>\n    </tr>\n    <tr>\n      <th>mean</th>\n      <td>17.017729</td>\n      <td>70.231332</td>\n      <td>17.465186</td>\n      <td>70.845702</td>\n      <td>1.023359</td>\n    </tr>\n    <tr>\n      <th>std</th>\n      <td>8.185109</td>\n      <td>22.883647</td>\n      <td>7.335122</td>\n      <td>21.118812</td>\n      <td>0.839065</td>\n    </tr>\n    <tr>\n      <th>min</th>\n      <td>-30.905562</td>\n      <td>-88.366217</td>\n      <td>0.010000</td>\n      <td>0.010000</td>\n      <td>0.000000</td>\n    </tr>\n    <tr>\n      <th>25%</th>\n      <td>12.933284</td>\n      <td>73.170000</td>\n      <td>12.988453</td>\n      <td>73.280000</td>\n      <td>0.000000</td>\n    </tr>\n    <tr>\n      <th>50%</th>\n      <td>18.546947</td>\n      <td>75.898497</td>\n      <td>18.633934</td>\n      <td>76.002574</td>\n      <td>1.000000</td>\n    </tr>\n    <tr>\n      <th>75%</th>\n      <td>22.728163</td>\n      <td>78.044095</td>\n      <td>22.785049</td>\n      <td>78.107044</td>\n      <td>2.000000</td>\n    </tr>\n    <tr>\n      <th>max</th>\n      <td>30.914057</td>\n      <td>88.433452</td>\n      <td>31.054057</td>\n      <td>88.563452</td>\n      <td>3.000000</td>\n    </tr>\n  </tbody>\n</table>\n</div>"
          },
          "metadata": {}
        }
      ],
      "outputs_reference": null,
      "execution_count": 5,
      "block_group": "eef667e4ae324dbb826dcd113b48a022",
      "content_dependencies": null
    },
    {
      "cell_type": "code",
      "source": "# Create a new data frame with only the ID column\nID_data = foodData[['ID']]\nunique_ids_count = ID_data['ID'].nunique()\nprint(\"Number of unique IDs:\", unique_ids_count)",
      "metadata": {
        "source_hash": "4f1eccf4",
        "execution_start": 1713690145142,
        "execution_millis": 196,
        "deepnote_to_be_reexecuted": false,
        "cell_id": "ea842b17a0ac4beeb09d24ac30a1c574",
        "deepnote_cell_type": "code"
      },
      "outputs": [
        {
          "name": "stdout",
          "text": "Number of unique IDs: 45593\n",
          "output_type": "stream"
        }
      ],
      "outputs_reference": null,
      "execution_count": 6,
      "block_group": "55046d32615d4185b7e40118411d30f5",
      "content_dependencies": null
    },
    {
      "cell_type": "markdown",
      "source": "This show that all the rows in our dataset is unique and no duplicate rows.\n",
      "metadata": {
        "cell_id": "b6de39cf5d2e4cdda08b5b689b0f2988",
        "deepnote_cell_type": "markdown"
      },
      "block_group": "d4d553de5131484bb0c76796ab063c0f"
    },
    {
      "cell_type": "markdown",
      "source": "## Data Cleaning & Preparation\n\n",
      "metadata": {
        "cell_id": "95c0b63200e2425bb4018ee8a0521890",
        "deepnote_cell_type": "markdown"
      },
      "block_group": "98510c64fa65491eb5af9c3c41cfedb7"
    },
    {
      "cell_type": "markdown",
      "source": "Remove Null Value in the dataset\n\n",
      "metadata": {
        "cell_id": "2ccd97a34d2d439b9fbe208f76657353",
        "deepnote_cell_type": "markdown"
      },
      "block_group": "b16da109bb0b4399aeb141359ad15389"
    },
    {
      "cell_type": "code",
      "source": "#Convert String 'NaN' to np.nan\ndef convert_nan(df):\n    foodData.replace('NaN', float(np.nan), regex=True,inplace=True)\n\nconvert_nan(foodData)",
      "metadata": {
        "source_hash": "2de09eea",
        "execution_start": 1713690145172,
        "execution_millis": 1134,
        "deepnote_to_be_reexecuted": false,
        "cell_id": "2072221422814b738313f239616dcc91",
        "deepnote_cell_type": "code"
      },
      "outputs": [],
      "outputs_reference": null,
      "execution_count": 7,
      "block_group": "0cab037abded4f099d1238df02236f16",
      "content_dependencies": null
    },
    {
      "cell_type": "code",
      "source": "#Check null values\nfoodData.isnull().sum().sort_values(ascending=False)",
      "metadata": {
        "source_hash": "c943d6e2",
        "execution_start": 1713690146326,
        "execution_millis": 102,
        "deepnote_to_be_reexecuted": false,
        "cell_id": "9435894fc70a4857a2fcef58e805d511",
        "deepnote_cell_type": "code"
      },
      "outputs": [
        {
          "output_type": "execute_result",
          "execution_count": 8,
          "data": {
            "text/plain": "Delivery_person_Ratings        1908\nDelivery_person_Age            1854\nTime_Orderd                    1731\nCity                           1200\nmultiple_deliveries             993\nWeatherconditions               616\nRoad_traffic_density            601\nFestival                        228\nID                                0\nType_of_vehicle                   0\nType_of_order                     0\nVehicle_condition                 0\nTime_Order_picked                 0\nDelivery_person_ID                0\nOrder_Date                        0\nDelivery_location_longitude       0\nDelivery_location_latitude        0\nRestaurant_longitude              0\nRestaurant_latitude               0\nTime_taken(min)                   0\ndtype: int64"
          },
          "metadata": {}
        }
      ],
      "outputs_reference": null,
      "execution_count": 8,
      "block_group": "b1938dfcda164d36a22af6b1171c4d33",
      "content_dependencies": null
    },
    {
      "cell_type": "code",
      "source": "# Drop rows with null values\nfoodData.dropna(inplace=True)\nfoodData.shape",
      "metadata": {
        "source_hash": "f05ec2a3",
        "execution_start": 1713690146467,
        "execution_millis": 103,
        "deepnote_to_be_reexecuted": false,
        "cell_id": "9f3bc893becf4b71b09b4624ac228a3f",
        "deepnote_cell_type": "code"
      },
      "outputs": [
        {
          "output_type": "execute_result",
          "execution_count": 9,
          "data": {
            "text/plain": "(41368, 20)"
          },
          "metadata": {}
        }
      ],
      "outputs_reference": null,
      "execution_count": 9,
      "block_group": "7139dc5f47cc42859bc06fa1311aebb5",
      "content_dependencies": null
    },
    {
      "cell_type": "markdown",
      "source": "Null value that has been dropped = 45593 \\- 41368 = 4225 data\n\nWe decided to dropped the 4225 data as these may affect the accuracy of any machine learning models we will use to predict the time duration for delivery.\n",
      "metadata": {
        "cell_id": "b6b82f74b6e94e6faa11066c966ec382",
        "deepnote_cell_type": "markdown"
      },
      "block_group": "01dfe86584e64790b7111117044304b7"
    },
    {
      "cell_type": "markdown",
      "source": "After dropping Null Value, we make some process to the data to make it looks nicer and make it more easier to understand and also ease our analysis process. Firstly we copy the dataset into a new cleaned dataset so that we won't modify the original dataset. Also, we drop some columns which are unnecessary to our analysis such as ID as delivery person ID is already there.\n\n1. Remove \\(min\\) from time taken column\n2. Remove (conditions) from weather conditions column\n3. Change jam to very high in road\\_traffic\\_density\n4. Remove column named 'ID' as it is not needed for subsequent used.\n\n",
      "metadata": {
        "cell_id": "67f670356a654acd88bcce06979d4b00",
        "deepnote_cell_type": "markdown"
      },
      "block_group": "9a0a4f4d406149ffa734767a03aefa7b"
    },
    {
      "cell_type": "code",
      "source": "cleaned_Data = foodData.copy() #so that we don't edit the original data\ncleaned_Data['Time_taken(min)'] = cleaned_Data['Time_taken(min)'].str.replace(r'\\(.*?\\) ?', '', regex=True).str.strip() #remove min from time_taken\ncleaned_Data['Weatherconditions'] = cleaned_Data['Weatherconditions'].str.replace('conditions', '') #remove the word condition in the values in weaether_conditions\ncleaned_Data['Road_traffic_density'] = cleaned_Data['Road_traffic_density'].str.replace(r'\\bJam\\b', 'Very High', regex=True) #Change jam to very high\ncleaned_Data.drop(['ID'], axis=1, inplace=True) #remove the useless columns\ncleaned_Data",
      "metadata": {
        "source_hash": "b68c3c0e",
        "execution_start": 1713690146588,
        "execution_millis": 293,
        "deepnote_table_state": {
          "sortBy": [],
          "filters": [],
          "pageSize": 10,
          "pageIndex": 1
        },
        "deepnote_table_loading": false,
        "deepnote_to_be_reexecuted": false,
        "cell_id": "4f3776045f2a42f9a32d18e60bbc5262",
        "deepnote_cell_type": "code"
      },
      "outputs": [
        {
          "output_type": "execute_result",
          "execution_count": 10,
          "data": {
            "application/vnd.deepnote.dataframe.v3+json": {
              "column_count": 19,
              "row_count": 41368,
              "columns": [
                {
                  "name": "Delivery_person_ID",
                  "dtype": "object",
                  "stats": {
                    "unique_count": 1320,
                    "nan_count": 0,
                    "categories": [
                      {
                        "name": "INDORES08DEL02 ",
                        "count": 62
                      },
                      {
                        "name": "RANCHIRES16DEL01 ",
                        "count": 62
                      },
                      {
                        "name": "1318 others",
                        "count": 41244
                      }
                    ]
                  }
                },
                {
                  "name": "Delivery_person_Age",
                  "dtype": "object",
                  "stats": {
                    "unique_count": 20,
                    "nan_count": 0,
                    "categories": [
                      {
                        "name": "35",
                        "count": 2178
                      },
                      {
                        "name": "36",
                        "count": 2158
                      },
                      {
                        "name": "18 others",
                        "count": 37032
                      }
                    ]
                  }
                },
                {
                  "name": "Delivery_person_Ratings",
                  "dtype": "object"
                },
                {
                  "name": "Restaurant_latitude",
                  "dtype": "float64"
                },
                {
                  "name": "Restaurant_longitude",
                  "dtype": "float64"
                },
                {
                  "name": "Delivery_location_latitude",
                  "dtype": "float64"
                },
                {
                  "name": "Delivery_location_longitude",
                  "dtype": "float64"
                },
                {
                  "name": "Order_Date",
                  "dtype": "object"
                },
                {
                  "name": "Time_Orderd",
                  "dtype": "object"
                },
                {
                  "name": "Time_Order_picked",
                  "dtype": "object"
                },
                {
                  "name": "Weatherconditions",
                  "dtype": "object"
                },
                {
                  "name": "Road_traffic_density",
                  "dtype": "object"
                },
                {
                  "name": "Vehicle_condition",
                  "dtype": "int64"
                },
                {
                  "name": "Type_of_order",
                  "dtype": "object"
                },
                {
                  "name": "Type_of_vehicle",
                  "dtype": "object"
                },
                {
                  "name": "multiple_deliveries",
                  "dtype": "object"
                },
                {
                  "name": "Festival",
                  "dtype": "object"
                },
                {
                  "name": "City",
                  "dtype": "object"
                },
                {
                  "name": "Time_taken(min)",
                  "dtype": "object"
                },
                {
                  "name": "_deepnote_index_column",
                  "dtype": "int64"
                }
              ],
              "rows": [
                {
                  "Delivery_person_ID": "KOCRES16DEL01 ",
                  "Delivery_person_Age": "21",
                  "Delivery_person_Ratings": "4.7",
                  "Restaurant_latitude": 10.003064,
                  "Restaurant_longitude": 76.307589,
                  "Delivery_location_latitude": 10.043064,
                  "Delivery_location_longitude": 76.347589,
                  "Order_Date": "13-02-2022",
                  "Time_Orderd": "14:55:00",
                  "Time_Order_picked": "15:05:00",
                  "Weatherconditions": " Stormy",
                  "Road_traffic_density": "High ",
                  "Vehicle_condition": 1,
                  "Type_of_order": "Meal ",
                  "Type_of_vehicle": "motorcycle ",
                  "multiple_deliveries": "1",
                  "Festival": "No ",
                  "City": "Metropolitian ",
                  "Time_taken(min)": "23",
                  "_deepnote_index_column": 10
                },
                {
                  "Delivery_person_ID": "PUNERES13DEL03 ",
                  "Delivery_person_Age": "23",
                  "Delivery_person_Ratings": "4.7",
                  "Restaurant_latitude": 18.56245,
                  "Restaurant_longitude": 73.916619,
                  "Delivery_location_latitude": 18.65245,
                  "Delivery_location_longitude": 74.006619,
                  "Order_Date": "04-03-2022",
                  "Time_Orderd": "17:30:00",
                  "Time_Order_picked": "17:40:00",
                  "Weatherconditions": " Sandstorms",
                  "Road_traffic_density": "Medium ",
                  "Vehicle_condition": 1,
                  "Type_of_order": "Drinks ",
                  "Type_of_vehicle": "scooter ",
                  "multiple_deliveries": "1",
                  "Festival": "No ",
                  "City": "Metropolitian ",
                  "Time_taken(min)": "21",
                  "_deepnote_index_column": 11
                },
                {
                  "Delivery_person_ID": "LUDHRES15DEL02 ",
                  "Delivery_person_Age": "34",
                  "Delivery_person_Ratings": "4.3",
                  "Restaurant_latitude": 30.899584,
                  "Restaurant_longitude": 75.809346,
                  "Delivery_location_latitude": 30.919584,
                  "Delivery_location_longitude": 75.829346,
                  "Order_Date": "13-02-2022",
                  "Time_Orderd": "09:20:00",
                  "Time_Order_picked": "09:30:00",
                  "Weatherconditions": " Sandstorms",
                  "Road_traffic_density": "Low ",
                  "Vehicle_condition": 0,
                  "Type_of_order": "Buffet ",
                  "Type_of_vehicle": "motorcycle ",
                  "multiple_deliveries": "0",
                  "Festival": "No ",
                  "City": "Metropolitian ",
                  "Time_taken(min)": "20",
                  "_deepnote_index_column": 12
                },
                {
                  "Delivery_person_ID": "KNPRES14DEL02 ",
                  "Delivery_person_Age": "24",
                  "Delivery_person_Ratings": "4.7",
                  "Restaurant_latitude": 26.463504,
                  "Restaurant_longitude": 80.372929,
                  "Delivery_location_latitude": 26.593504,
                  "Delivery_location_longitude": 80.502929,
                  "Order_Date": "14-02-2022",
                  "Time_Orderd": "19:50:00",
                  "Time_Order_picked": "20:05:00",
                  "Weatherconditions": " Fog",
                  "Road_traffic_density": "Very High ",
                  "Vehicle_condition": 1,
                  "Type_of_order": "Snack ",
                  "Type_of_vehicle": "scooter ",
                  "multiple_deliveries": "1",
                  "Festival": "No ",
                  "City": "Metropolitian ",
                  "Time_taken(min)": "41",
                  "_deepnote_index_column": 13
                },
                {
                  "Delivery_person_ID": "MUMRES15DEL03 ",
                  "Delivery_person_Age": "29",
                  "Delivery_person_Ratings": "4.5",
                  "Restaurant_latitude": 19.176269,
                  "Restaurant_longitude": 72.836721,
                  "Delivery_location_latitude": 19.266269,
                  "Delivery_location_longitude": 72.926721,
                  "Order_Date": "02-04-2022",
                  "Time_Orderd": "20:25:00",
                  "Time_Order_picked": "20:35:00",
                  "Weatherconditions": " Sandstorms",
                  "Road_traffic_density": "Very High ",
                  "Vehicle_condition": 2,
                  "Type_of_order": "Buffet ",
                  "Type_of_vehicle": "electric_scooter ",
                  "multiple_deliveries": "1",
                  "Festival": "No ",
                  "City": "Metropolitian ",
                  "Time_taken(min)": "20",
                  "_deepnote_index_column": 14
                },
                {
                  "Delivery_person_ID": "MYSRES01DEL01 ",
                  "Delivery_person_Age": "35",
                  "Delivery_person_Ratings": "4",
                  "Restaurant_latitude": 12.311072,
                  "Restaurant_longitude": 76.654878,
                  "Delivery_location_latitude": 12.351072,
                  "Delivery_location_longitude": 76.694878,
                  "Order_Date": "01-03-2022",
                  "Time_Orderd": "14:55:00",
                  "Time_Order_picked": "15:10:00",
                  "Weatherconditions": " Windy",
                  "Road_traffic_density": "High ",
                  "Vehicle_condition": 1,
                  "Type_of_order": "Meal ",
                  "Type_of_vehicle": "scooter ",
                  "multiple_deliveries": "1",
                  "Festival": "No ",
                  "City": "Metropolitian ",
                  "Time_taken(min)": "33",
                  "_deepnote_index_column": 15
                },
                {
                  "Delivery_person_ID": "PUNERES20DEL01 ",
                  "Delivery_person_Age": "33",
                  "Delivery_person_Ratings": "4.2",
                  "Restaurant_latitude": 18.592718,
                  "Restaurant_longitude": 73.773572,
                  "Delivery_location_latitude": 18.702718,
                  "Delivery_location_longitude": 73.883572,
                  "Order_Date": "16-03-2022",
                  "Time_Orderd": "20:30:00",
                  "Time_Order_picked": "20:40:00",
                  "Weatherconditions": " Sandstorms",
                  "Road_traffic_density": "Very High ",
                  "Vehicle_condition": 2,
                  "Type_of_order": "Snack ",
                  "Type_of_vehicle": "motorcycle ",
                  "multiple_deliveries": "1",
                  "Festival": "No ",
                  "City": "Metropolitian ",
                  "Time_taken(min)": "40",
                  "_deepnote_index_column": 16
                },
                {
                  "Delivery_person_ID": "KOLRES15DEL03 ",
                  "Delivery_person_Age": "21",
                  "Delivery_person_Ratings": "4.7",
                  "Restaurant_latitude": 22.552672,
                  "Restaurant_longitude": 88.352885,
                  "Delivery_location_latitude": 22.582672,
                  "Delivery_location_longitude": 88.382885,
                  "Order_Date": "15-02-2022",
                  "Time_Orderd": "21:15:00",
                  "Time_Order_picked": "21:30:00",
                  "Weatherconditions": " Windy",
                  "Road_traffic_density": "Very High ",
                  "Vehicle_condition": 0,
                  "Type_of_order": "Meal ",
                  "Type_of_vehicle": "motorcycle ",
                  "multiple_deliveries": "1",
                  "Festival": "No ",
                  "City": "Urban ",
                  "Time_taken(min)": "15",
                  "_deepnote_index_column": 18
                },
                {
                  "Delivery_person_ID": "PUNERES19DEL02 ",
                  "Delivery_person_Age": "25",
                  "Delivery_person_Ratings": "4.1",
                  "Restaurant_latitude": 18.563934,
                  "Restaurant_longitude": 73.915367,
                  "Delivery_location_latitude": 18.643935,
                  "Delivery_location_longitude": 73.995367,
                  "Order_Date": "16-03-2022",
                  "Time_Orderd": "20:20:00",
                  "Time_Order_picked": "20:25:00",
                  "Weatherconditions": " Sandstorms",
                  "Road_traffic_density": "Very High ",
                  "Vehicle_condition": 0,
                  "Type_of_order": "Snack ",
                  "Type_of_vehicle": "motorcycle ",
                  "multiple_deliveries": "2",
                  "Festival": "No ",
                  "City": "Metropolitian ",
                  "Time_taken(min)": "36",
                  "_deepnote_index_column": 19
                },
                {
                  "Delivery_person_ID": "RANCHIRES06DEL02 ",
                  "Delivery_person_Age": "31",
                  "Delivery_person_Ratings": "4.7",
                  "Restaurant_latitude": 23.357804,
                  "Restaurant_longitude": 85.325146,
                  "Delivery_location_latitude": 23.487804,
                  "Delivery_location_longitude": 85.455146,
                  "Order_Date": "10-03-2022",
                  "Time_Orderd": "22:30:00",
                  "Time_Order_picked": "22:45:00",
                  "Weatherconditions": " Sandstorms",
                  "Road_traffic_density": "Low ",
                  "Vehicle_condition": 2,
                  "Type_of_order": "Meal ",
                  "Type_of_vehicle": "electric_scooter ",
                  "multiple_deliveries": "0",
                  "Festival": "No ",
                  "City": "Metropolitian ",
                  "Time_taken(min)": "26",
                  "_deepnote_index_column": 20
                }
              ]
            },
            "text/plain": "      Delivery_person_ID Delivery_person_Age Delivery_person_Ratings  \\\n0        INDORES13DEL02                   37                     4.9   \n1        BANGRES18DEL02                   34                     4.5   \n2        BANGRES19DEL01                   23                     4.4   \n3       COIMBRES13DEL02                   38                     4.7   \n4        CHENRES12DEL01                   32                     4.6   \n...                  ...                 ...                     ...   \n45588     JAPRES04DEL01                   30                     4.8   \n45589     AGRRES16DEL01                   21                     4.6   \n45590    CHENRES08DEL03                   30                     4.9   \n45591   COIMBRES11DEL01                   20                     4.7   \n45592  RANCHIRES09DEL02                   23                     4.9   \n\n       Restaurant_latitude  Restaurant_longitude  Delivery_location_latitude  \\\n0                22.745049             75.892471                   22.765049   \n1                12.913041             77.683237                   13.043041   \n2                12.914264             77.678400                   12.924264   \n3                11.003669             76.976494                   11.053669   \n4                12.972793             80.249982                   13.012793   \n...                    ...                   ...                         ...   \n45588            26.902328             75.794257                   26.912328   \n45589             0.000000              0.000000                    0.070000   \n45590            13.022394             80.242439                   13.052394   \n45591            11.001753             76.986241                   11.041753   \n45592            23.351058             85.325731                   23.431058   \n\n       Delivery_location_longitude  Order_Date Time_Orderd Time_Order_picked  \\\n0                        75.912471  19-03-2022    11:30:00          11:45:00   \n1                        77.813237  25-03-2022    19:45:00          19:50:00   \n2                        77.688400  19-03-2022    08:30:00          08:45:00   \n3                        77.026494  05-04-2022    18:00:00          18:10:00   \n4                        80.289982  26-03-2022    13:30:00          13:45:00   \n...                            ...         ...         ...               ...   \n45588                    75.804257  24-03-2022    11:35:00          11:45:00   \n45589                     0.070000  16-02-2022    19:55:00          20:10:00   \n45590                    80.272439  11-03-2022    23:50:00          00:05:00   \n45591                    77.026241  07-03-2022    13:35:00          13:40:00   \n45592                    85.405731  02-03-2022    17:10:00          17:15:00   \n\n      Weatherconditions Road_traffic_density  Vehicle_condition Type_of_order  \\\n0                 Sunny                High                   2        Snack    \n1                Stormy           Very High                   2        Snack    \n2            Sandstorms                 Low                   0       Drinks    \n3                 Sunny              Medium                   0       Buffet    \n4                Cloudy                High                   1        Snack    \n...                 ...                  ...                ...           ...   \n45588             Windy                High                   1         Meal    \n45589             Windy           Very High                   0       Buffet    \n45590            Cloudy                 Low                   1       Drinks    \n45591            Cloudy                High                   0        Snack    \n45592               Fog              Medium                   2        Snack    \n\n      Type_of_vehicle multiple_deliveries Festival            City  \\\n0         motorcycle                    0      No           Urban    \n1            scooter                    1      No   Metropolitian    \n2         motorcycle                    1      No           Urban    \n3         motorcycle                    1      No   Metropolitian    \n4            scooter                    1      No   Metropolitian    \n...               ...                 ...      ...             ...   \n45588     motorcycle                    0      No   Metropolitian    \n45589     motorcycle                    1      No   Metropolitian    \n45590        scooter                    0      No   Metropolitian    \n45591     motorcycle                    1      No   Metropolitian    \n45592        scooter                    1      No   Metropolitian    \n\n      Time_taken(min)  \n0                  24  \n1                  33  \n2                  26  \n3                  21  \n4                  30  \n...               ...  \n45588              32  \n45589              36  \n45590              16  \n45591              26  \n45592              36  \n\n[41368 rows x 19 columns]",
            "text/html": "<div>\n<style scoped>\n    .dataframe tbody tr th:only-of-type {\n        vertical-align: middle;\n    }\n\n    .dataframe tbody tr th {\n        vertical-align: top;\n    }\n\n    .dataframe thead th {\n        text-align: right;\n    }\n</style>\n<table border=\"1\" class=\"dataframe\">\n  <thead>\n    <tr style=\"text-align: right;\">\n      <th></th>\n      <th>Delivery_person_ID</th>\n      <th>Delivery_person_Age</th>\n      <th>Delivery_person_Ratings</th>\n      <th>Restaurant_latitude</th>\n      <th>Restaurant_longitude</th>\n      <th>Delivery_location_latitude</th>\n      <th>Delivery_location_longitude</th>\n      <th>Order_Date</th>\n      <th>Time_Orderd</th>\n      <th>Time_Order_picked</th>\n      <th>Weatherconditions</th>\n      <th>Road_traffic_density</th>\n      <th>Vehicle_condition</th>\n      <th>Type_of_order</th>\n      <th>Type_of_vehicle</th>\n      <th>multiple_deliveries</th>\n      <th>Festival</th>\n      <th>City</th>\n      <th>Time_taken(min)</th>\n    </tr>\n  </thead>\n  <tbody>\n    <tr>\n      <th>0</th>\n      <td>INDORES13DEL02</td>\n      <td>37</td>\n      <td>4.9</td>\n      <td>22.745049</td>\n      <td>75.892471</td>\n      <td>22.765049</td>\n      <td>75.912471</td>\n      <td>19-03-2022</td>\n      <td>11:30:00</td>\n      <td>11:45:00</td>\n      <td>Sunny</td>\n      <td>High</td>\n      <td>2</td>\n      <td>Snack</td>\n      <td>motorcycle</td>\n      <td>0</td>\n      <td>No</td>\n      <td>Urban</td>\n      <td>24</td>\n    </tr>\n    <tr>\n      <th>1</th>\n      <td>BANGRES18DEL02</td>\n      <td>34</td>\n      <td>4.5</td>\n      <td>12.913041</td>\n      <td>77.683237</td>\n      <td>13.043041</td>\n      <td>77.813237</td>\n      <td>25-03-2022</td>\n      <td>19:45:00</td>\n      <td>19:50:00</td>\n      <td>Stormy</td>\n      <td>Very High</td>\n      <td>2</td>\n      <td>Snack</td>\n      <td>scooter</td>\n      <td>1</td>\n      <td>No</td>\n      <td>Metropolitian</td>\n      <td>33</td>\n    </tr>\n    <tr>\n      <th>2</th>\n      <td>BANGRES19DEL01</td>\n      <td>23</td>\n      <td>4.4</td>\n      <td>12.914264</td>\n      <td>77.678400</td>\n      <td>12.924264</td>\n      <td>77.688400</td>\n      <td>19-03-2022</td>\n      <td>08:30:00</td>\n      <td>08:45:00</td>\n      <td>Sandstorms</td>\n      <td>Low</td>\n      <td>0</td>\n      <td>Drinks</td>\n      <td>motorcycle</td>\n      <td>1</td>\n      <td>No</td>\n      <td>Urban</td>\n      <td>26</td>\n    </tr>\n    <tr>\n      <th>3</th>\n      <td>COIMBRES13DEL02</td>\n      <td>38</td>\n      <td>4.7</td>\n      <td>11.003669</td>\n      <td>76.976494</td>\n      <td>11.053669</td>\n      <td>77.026494</td>\n      <td>05-04-2022</td>\n      <td>18:00:00</td>\n      <td>18:10:00</td>\n      <td>Sunny</td>\n      <td>Medium</td>\n      <td>0</td>\n      <td>Buffet</td>\n      <td>motorcycle</td>\n      <td>1</td>\n      <td>No</td>\n      <td>Metropolitian</td>\n      <td>21</td>\n    </tr>\n    <tr>\n      <th>4</th>\n      <td>CHENRES12DEL01</td>\n      <td>32</td>\n      <td>4.6</td>\n      <td>12.972793</td>\n      <td>80.249982</td>\n      <td>13.012793</td>\n      <td>80.289982</td>\n      <td>26-03-2022</td>\n      <td>13:30:00</td>\n      <td>13:45:00</td>\n      <td>Cloudy</td>\n      <td>High</td>\n      <td>1</td>\n      <td>Snack</td>\n      <td>scooter</td>\n      <td>1</td>\n      <td>No</td>\n      <td>Metropolitian</td>\n      <td>30</td>\n    </tr>\n    <tr>\n      <th>...</th>\n      <td>...</td>\n      <td>...</td>\n      <td>...</td>\n      <td>...</td>\n      <td>...</td>\n      <td>...</td>\n      <td>...</td>\n      <td>...</td>\n      <td>...</td>\n      <td>...</td>\n      <td>...</td>\n      <td>...</td>\n      <td>...</td>\n      <td>...</td>\n      <td>...</td>\n      <td>...</td>\n      <td>...</td>\n      <td>...</td>\n      <td>...</td>\n    </tr>\n    <tr>\n      <th>45588</th>\n      <td>JAPRES04DEL01</td>\n      <td>30</td>\n      <td>4.8</td>\n      <td>26.902328</td>\n      <td>75.794257</td>\n      <td>26.912328</td>\n      <td>75.804257</td>\n      <td>24-03-2022</td>\n      <td>11:35:00</td>\n      <td>11:45:00</td>\n      <td>Windy</td>\n      <td>High</td>\n      <td>1</td>\n      <td>Meal</td>\n      <td>motorcycle</td>\n      <td>0</td>\n      <td>No</td>\n      <td>Metropolitian</td>\n      <td>32</td>\n    </tr>\n    <tr>\n      <th>45589</th>\n      <td>AGRRES16DEL01</td>\n      <td>21</td>\n      <td>4.6</td>\n      <td>0.000000</td>\n      <td>0.000000</td>\n      <td>0.070000</td>\n      <td>0.070000</td>\n      <td>16-02-2022</td>\n      <td>19:55:00</td>\n      <td>20:10:00</td>\n      <td>Windy</td>\n      <td>Very High</td>\n      <td>0</td>\n      <td>Buffet</td>\n      <td>motorcycle</td>\n      <td>1</td>\n      <td>No</td>\n      <td>Metropolitian</td>\n      <td>36</td>\n    </tr>\n    <tr>\n      <th>45590</th>\n      <td>CHENRES08DEL03</td>\n      <td>30</td>\n      <td>4.9</td>\n      <td>13.022394</td>\n      <td>80.242439</td>\n      <td>13.052394</td>\n      <td>80.272439</td>\n      <td>11-03-2022</td>\n      <td>23:50:00</td>\n      <td>00:05:00</td>\n      <td>Cloudy</td>\n      <td>Low</td>\n      <td>1</td>\n      <td>Drinks</td>\n      <td>scooter</td>\n      <td>0</td>\n      <td>No</td>\n      <td>Metropolitian</td>\n      <td>16</td>\n    </tr>\n    <tr>\n      <th>45591</th>\n      <td>COIMBRES11DEL01</td>\n      <td>20</td>\n      <td>4.7</td>\n      <td>11.001753</td>\n      <td>76.986241</td>\n      <td>11.041753</td>\n      <td>77.026241</td>\n      <td>07-03-2022</td>\n      <td>13:35:00</td>\n      <td>13:40:00</td>\n      <td>Cloudy</td>\n      <td>High</td>\n      <td>0</td>\n      <td>Snack</td>\n      <td>motorcycle</td>\n      <td>1</td>\n      <td>No</td>\n      <td>Metropolitian</td>\n      <td>26</td>\n    </tr>\n    <tr>\n      <th>45592</th>\n      <td>RANCHIRES09DEL02</td>\n      <td>23</td>\n      <td>4.9</td>\n      <td>23.351058</td>\n      <td>85.325731</td>\n      <td>23.431058</td>\n      <td>85.405731</td>\n      <td>02-03-2022</td>\n      <td>17:10:00</td>\n      <td>17:15:00</td>\n      <td>Fog</td>\n      <td>Medium</td>\n      <td>2</td>\n      <td>Snack</td>\n      <td>scooter</td>\n      <td>1</td>\n      <td>No</td>\n      <td>Metropolitian</td>\n      <td>36</td>\n    </tr>\n  </tbody>\n</table>\n<p>41368 rows × 19 columns</p>\n</div>"
          },
          "metadata": {}
        }
      ],
      "outputs_reference": null,
      "execution_count": 10,
      "block_group": "657fa150a31a4f5586d0a7533f59e2b1",
      "content_dependencies": null
    },
    {
      "cell_type": "markdown",
      "source": "Also, we change time taken, delivery person age and delivery person ratings from strings to integer to ensure that our data analysis can be done correctly",
      "metadata": {
        "formattedRanges": [],
        "cell_id": "7b19b2b4621441e29f93463bddb2de9e",
        "deepnote_cell_type": "text-cell-p"
      },
      "block_group": "27324e485690426b930337a3bd22eca8"
    },
    {
      "cell_type": "code",
      "source": "# changing strings to int \n# 1. Time_taken(min)\ncleaned_Data['Time_taken(min)'] = cleaned_Data['Time_taken(min)'].astype(int) # changing into type int\n# 2. Delivery_person_Age\ncleaned_Data['Delivery_person_Age'] = cleaned_Data['Delivery_person_Age'].astype(int) # changing into type int\n# 3. Delivery_person_Ratings \ncleaned_Data['Delivery_person_Ratings'] = cleaned_Data['Delivery_person_Ratings'].astype(float) # changing into type int\n\ncleaned_Data",
      "metadata": {
        "source_hash": "bbb79ece",
        "execution_start": 1713690146895,
        "execution_millis": 268,
        "deepnote_to_be_reexecuted": false,
        "cell_id": "fe8a704f105b42c5b54a654787c10454",
        "deepnote_cell_type": "code"
      },
      "outputs": [
        {
          "output_type": "execute_result",
          "execution_count": 11,
          "data": {
            "application/vnd.deepnote.dataframe.v3+json": {
              "column_count": 19,
              "row_count": 41368,
              "columns": [
                {
                  "name": "Delivery_person_ID",
                  "dtype": "object",
                  "stats": {
                    "unique_count": 1320,
                    "nan_count": 0,
                    "categories": [
                      {
                        "name": "INDORES08DEL02 ",
                        "count": 62
                      },
                      {
                        "name": "RANCHIRES16DEL01 ",
                        "count": 62
                      },
                      {
                        "name": "1318 others",
                        "count": 41244
                      }
                    ]
                  }
                },
                {
                  "name": "Delivery_person_Age",
                  "dtype": "int64",
                  "stats": {
                    "unique_count": 20,
                    "nan_count": 0,
                    "min": "20",
                    "max": "39",
                    "histogram": [
                      {
                        "bin_start": 20,
                        "bin_end": 21.9,
                        "count": 4029
                      },
                      {
                        "bin_start": 21.9,
                        "bin_end": 23.8,
                        "count": 4042
                      },
                      {
                        "bin_start": 23.8,
                        "bin_end": 25.7,
                        "count": 4075
                      },
                      {
                        "bin_start": 25.7,
                        "bin_end": 27.6,
                        "count": 4026
                      },
                      {
                        "bin_start": 27.6,
                        "bin_end": 29.5,
                        "count": 4092
                      },
                      {
                        "bin_start": 29.5,
                        "bin_end": 31.4,
                        "count": 4169
                      },
                      {
                        "bin_start": 31.4,
                        "bin_end": 33.3,
                        "count": 4199
                      },
                      {
                        "bin_start": 33.3,
                        "bin_end": 35.2,
                        "count": 4257
                      },
                      {
                        "bin_start": 35.2,
                        "bin_end": 37.099999999999994,
                        "count": 4296
                      },
                      {
                        "bin_start": 37.099999999999994,
                        "bin_end": 39,
                        "count": 4183
                      }
                    ]
                  }
                },
                {
                  "name": "Delivery_person_Ratings",
                  "dtype": "float64"
                },
                {
                  "name": "Restaurant_latitude",
                  "dtype": "float64"
                },
                {
                  "name": "Restaurant_longitude",
                  "dtype": "float64"
                },
                {
                  "name": "Delivery_location_latitude",
                  "dtype": "float64"
                },
                {
                  "name": "Delivery_location_longitude",
                  "dtype": "float64"
                },
                {
                  "name": "Order_Date",
                  "dtype": "object"
                },
                {
                  "name": "Time_Orderd",
                  "dtype": "object"
                },
                {
                  "name": "Time_Order_picked",
                  "dtype": "object"
                },
                {
                  "name": "Weatherconditions",
                  "dtype": "object"
                },
                {
                  "name": "Road_traffic_density",
                  "dtype": "object"
                },
                {
                  "name": "Vehicle_condition",
                  "dtype": "int64"
                },
                {
                  "name": "Type_of_order",
                  "dtype": "object"
                },
                {
                  "name": "Type_of_vehicle",
                  "dtype": "object"
                },
                {
                  "name": "multiple_deliveries",
                  "dtype": "object"
                },
                {
                  "name": "Festival",
                  "dtype": "object"
                },
                {
                  "name": "City",
                  "dtype": "object"
                },
                {
                  "name": "Time_taken(min)",
                  "dtype": "int64"
                },
                {
                  "name": "_deepnote_index_column",
                  "dtype": "int64"
                }
              ],
              "rows": [
                {
                  "Delivery_person_ID": "INDORES13DEL02 ",
                  "Delivery_person_Age": 37,
                  "Delivery_person_Ratings": 4.9,
                  "Restaurant_latitude": 22.745049,
                  "Restaurant_longitude": 75.892471,
                  "Delivery_location_latitude": 22.765049,
                  "Delivery_location_longitude": 75.912471,
                  "Order_Date": "19-03-2022",
                  "Time_Orderd": "11:30:00",
                  "Time_Order_picked": "11:45:00",
                  "Weatherconditions": " Sunny",
                  "Road_traffic_density": "High ",
                  "Vehicle_condition": 2,
                  "Type_of_order": "Snack ",
                  "Type_of_vehicle": "motorcycle ",
                  "multiple_deliveries": "0",
                  "Festival": "No ",
                  "City": "Urban ",
                  "Time_taken(min)": 24,
                  "_deepnote_index_column": 0
                },
                {
                  "Delivery_person_ID": "BANGRES18DEL02 ",
                  "Delivery_person_Age": 34,
                  "Delivery_person_Ratings": 4.5,
                  "Restaurant_latitude": 12.913041,
                  "Restaurant_longitude": 77.683237,
                  "Delivery_location_latitude": 13.043041,
                  "Delivery_location_longitude": 77.813237,
                  "Order_Date": "25-03-2022",
                  "Time_Orderd": "19:45:00",
                  "Time_Order_picked": "19:50:00",
                  "Weatherconditions": " Stormy",
                  "Road_traffic_density": "Very High ",
                  "Vehicle_condition": 2,
                  "Type_of_order": "Snack ",
                  "Type_of_vehicle": "scooter ",
                  "multiple_deliveries": "1",
                  "Festival": "No ",
                  "City": "Metropolitian ",
                  "Time_taken(min)": 33,
                  "_deepnote_index_column": 1
                },
                {
                  "Delivery_person_ID": "BANGRES19DEL01 ",
                  "Delivery_person_Age": 23,
                  "Delivery_person_Ratings": 4.4,
                  "Restaurant_latitude": 12.914264,
                  "Restaurant_longitude": 77.6784,
                  "Delivery_location_latitude": 12.924264,
                  "Delivery_location_longitude": 77.6884,
                  "Order_Date": "19-03-2022",
                  "Time_Orderd": "08:30:00",
                  "Time_Order_picked": "08:45:00",
                  "Weatherconditions": " Sandstorms",
                  "Road_traffic_density": "Low ",
                  "Vehicle_condition": 0,
                  "Type_of_order": "Drinks ",
                  "Type_of_vehicle": "motorcycle ",
                  "multiple_deliveries": "1",
                  "Festival": "No ",
                  "City": "Urban ",
                  "Time_taken(min)": 26,
                  "_deepnote_index_column": 2
                },
                {
                  "Delivery_person_ID": "COIMBRES13DEL02 ",
                  "Delivery_person_Age": 38,
                  "Delivery_person_Ratings": 4.7,
                  "Restaurant_latitude": 11.003669,
                  "Restaurant_longitude": 76.976494,
                  "Delivery_location_latitude": 11.053669,
                  "Delivery_location_longitude": 77.026494,
                  "Order_Date": "05-04-2022",
                  "Time_Orderd": "18:00:00",
                  "Time_Order_picked": "18:10:00",
                  "Weatherconditions": " Sunny",
                  "Road_traffic_density": "Medium ",
                  "Vehicle_condition": 0,
                  "Type_of_order": "Buffet ",
                  "Type_of_vehicle": "motorcycle ",
                  "multiple_deliveries": "1",
                  "Festival": "No ",
                  "City": "Metropolitian ",
                  "Time_taken(min)": 21,
                  "_deepnote_index_column": 3
                },
                {
                  "Delivery_person_ID": "CHENRES12DEL01 ",
                  "Delivery_person_Age": 32,
                  "Delivery_person_Ratings": 4.6,
                  "Restaurant_latitude": 12.972793,
                  "Restaurant_longitude": 80.249982,
                  "Delivery_location_latitude": 13.012793,
                  "Delivery_location_longitude": 80.289982,
                  "Order_Date": "26-03-2022",
                  "Time_Orderd": "13:30:00",
                  "Time_Order_picked": "13:45:00",
                  "Weatherconditions": " Cloudy",
                  "Road_traffic_density": "High ",
                  "Vehicle_condition": 1,
                  "Type_of_order": "Snack ",
                  "Type_of_vehicle": "scooter ",
                  "multiple_deliveries": "1",
                  "Festival": "No ",
                  "City": "Metropolitian ",
                  "Time_taken(min)": 30,
                  "_deepnote_index_column": 4
                },
                {
                  "Delivery_person_ID": "HYDRES09DEL03 ",
                  "Delivery_person_Age": 22,
                  "Delivery_person_Ratings": 4.8,
                  "Restaurant_latitude": 17.431668,
                  "Restaurant_longitude": 78.408321,
                  "Delivery_location_latitude": 17.461668,
                  "Delivery_location_longitude": 78.438321,
                  "Order_Date": "11-03-2022",
                  "Time_Orderd": "21:20:00",
                  "Time_Order_picked": "21:30:00",
                  "Weatherconditions": " Cloudy",
                  "Road_traffic_density": "Very High ",
                  "Vehicle_condition": 0,
                  "Type_of_order": "Buffet ",
                  "Type_of_vehicle": "motorcycle ",
                  "multiple_deliveries": "1",
                  "Festival": "No ",
                  "City": "Urban ",
                  "Time_taken(min)": 26,
                  "_deepnote_index_column": 5
                },
                {
                  "Delivery_person_ID": "RANCHIRES15DEL01 ",
                  "Delivery_person_Age": 33,
                  "Delivery_person_Ratings": 4.7,
                  "Restaurant_latitude": 23.369746,
                  "Restaurant_longitude": 85.33982,
                  "Delivery_location_latitude": 23.479746,
                  "Delivery_location_longitude": 85.44982,
                  "Order_Date": "04-03-2022",
                  "Time_Orderd": "19:15:00",
                  "Time_Order_picked": "19:30:00",
                  "Weatherconditions": " Fog",
                  "Road_traffic_density": "Very High ",
                  "Vehicle_condition": 1,
                  "Type_of_order": "Meal ",
                  "Type_of_vehicle": "scooter ",
                  "multiple_deliveries": "1",
                  "Festival": "No ",
                  "City": "Metropolitian ",
                  "Time_taken(min)": 40,
                  "_deepnote_index_column": 6
                },
                {
                  "Delivery_person_ID": "MYSRES15DEL02 ",
                  "Delivery_person_Age": 35,
                  "Delivery_person_Ratings": 4.6,
                  "Restaurant_latitude": 12.352058,
                  "Restaurant_longitude": 76.60665,
                  "Delivery_location_latitude": 12.482058,
                  "Delivery_location_longitude": 76.73665,
                  "Order_Date": "14-03-2022",
                  "Time_Orderd": "17:25:00",
                  "Time_Order_picked": "17:30:00",
                  "Weatherconditions": " Cloudy",
                  "Road_traffic_density": "Medium ",
                  "Vehicle_condition": 2,
                  "Type_of_order": "Meal ",
                  "Type_of_vehicle": "motorcycle ",
                  "multiple_deliveries": "1",
                  "Festival": "No ",
                  "City": "Metropolitian ",
                  "Time_taken(min)": 32,
                  "_deepnote_index_column": 7
                },
                {
                  "Delivery_person_ID": "HYDRES05DEL02 ",
                  "Delivery_person_Age": 22,
                  "Delivery_person_Ratings": 4.8,
                  "Restaurant_latitude": 17.433809,
                  "Restaurant_longitude": 78.386744,
                  "Delivery_location_latitude": 17.563809,
                  "Delivery_location_longitude": 78.516744,
                  "Order_Date": "20-03-2022",
                  "Time_Orderd": "20:55:00",
                  "Time_Order_picked": "21:05:00",
                  "Weatherconditions": " Stormy",
                  "Road_traffic_density": "Very High ",
                  "Vehicle_condition": 0,
                  "Type_of_order": "Buffet ",
                  "Type_of_vehicle": "motorcycle ",
                  "multiple_deliveries": "1",
                  "Festival": "No ",
                  "City": "Metropolitian ",
                  "Time_taken(min)": 34,
                  "_deepnote_index_column": 8
                },
                {
                  "Delivery_person_ID": "DEHRES17DEL01 ",
                  "Delivery_person_Age": 36,
                  "Delivery_person_Ratings": 4.2,
                  "Restaurant_latitude": 30.327968,
                  "Restaurant_longitude": 78.046106,
                  "Delivery_location_latitude": 30.397968,
                  "Delivery_location_longitude": 78.116106,
                  "Order_Date": "12-02-2022",
                  "Time_Orderd": "21:55:00",
                  "Time_Order_picked": "22:10:00",
                  "Weatherconditions": " Fog",
                  "Road_traffic_density": "Very High ",
                  "Vehicle_condition": 2,
                  "Type_of_order": "Snack ",
                  "Type_of_vehicle": "motorcycle ",
                  "multiple_deliveries": "3",
                  "Festival": "No ",
                  "City": "Metropolitian ",
                  "Time_taken(min)": 46,
                  "_deepnote_index_column": 9
                }
              ]
            },
            "text/plain": "      Delivery_person_ID  Delivery_person_Age  Delivery_person_Ratings  \\\n0        INDORES13DEL02                    37                      4.9   \n1        BANGRES18DEL02                    34                      4.5   \n2        BANGRES19DEL01                    23                      4.4   \n3       COIMBRES13DEL02                    38                      4.7   \n4        CHENRES12DEL01                    32                      4.6   \n...                  ...                  ...                      ...   \n45588     JAPRES04DEL01                    30                      4.8   \n45589     AGRRES16DEL01                    21                      4.6   \n45590    CHENRES08DEL03                    30                      4.9   \n45591   COIMBRES11DEL01                    20                      4.7   \n45592  RANCHIRES09DEL02                    23                      4.9   \n\n       Restaurant_latitude  Restaurant_longitude  Delivery_location_latitude  \\\n0                22.745049             75.892471                   22.765049   \n1                12.913041             77.683237                   13.043041   \n2                12.914264             77.678400                   12.924264   \n3                11.003669             76.976494                   11.053669   \n4                12.972793             80.249982                   13.012793   \n...                    ...                   ...                         ...   \n45588            26.902328             75.794257                   26.912328   \n45589             0.000000              0.000000                    0.070000   \n45590            13.022394             80.242439                   13.052394   \n45591            11.001753             76.986241                   11.041753   \n45592            23.351058             85.325731                   23.431058   \n\n       Delivery_location_longitude  Order_Date Time_Orderd Time_Order_picked  \\\n0                        75.912471  19-03-2022    11:30:00          11:45:00   \n1                        77.813237  25-03-2022    19:45:00          19:50:00   \n2                        77.688400  19-03-2022    08:30:00          08:45:00   \n3                        77.026494  05-04-2022    18:00:00          18:10:00   \n4                        80.289982  26-03-2022    13:30:00          13:45:00   \n...                            ...         ...         ...               ...   \n45588                    75.804257  24-03-2022    11:35:00          11:45:00   \n45589                     0.070000  16-02-2022    19:55:00          20:10:00   \n45590                    80.272439  11-03-2022    23:50:00          00:05:00   \n45591                    77.026241  07-03-2022    13:35:00          13:40:00   \n45592                    85.405731  02-03-2022    17:10:00          17:15:00   \n\n      Weatherconditions Road_traffic_density  Vehicle_condition Type_of_order  \\\n0                 Sunny                High                   2        Snack    \n1                Stormy           Very High                   2        Snack    \n2            Sandstorms                 Low                   0       Drinks    \n3                 Sunny              Medium                   0       Buffet    \n4                Cloudy                High                   1        Snack    \n...                 ...                  ...                ...           ...   \n45588             Windy                High                   1         Meal    \n45589             Windy           Very High                   0       Buffet    \n45590            Cloudy                 Low                   1       Drinks    \n45591            Cloudy                High                   0        Snack    \n45592               Fog              Medium                   2        Snack    \n\n      Type_of_vehicle multiple_deliveries Festival            City  \\\n0         motorcycle                    0      No           Urban    \n1            scooter                    1      No   Metropolitian    \n2         motorcycle                    1      No           Urban    \n3         motorcycle                    1      No   Metropolitian    \n4            scooter                    1      No   Metropolitian    \n...               ...                 ...      ...             ...   \n45588     motorcycle                    0      No   Metropolitian    \n45589     motorcycle                    1      No   Metropolitian    \n45590        scooter                    0      No   Metropolitian    \n45591     motorcycle                    1      No   Metropolitian    \n45592        scooter                    1      No   Metropolitian    \n\n       Time_taken(min)  \n0                   24  \n1                   33  \n2                   26  \n3                   21  \n4                   30  \n...                ...  \n45588               32  \n45589               36  \n45590               16  \n45591               26  \n45592               36  \n\n[41368 rows x 19 columns]",
            "text/html": "<div>\n<style scoped>\n    .dataframe tbody tr th:only-of-type {\n        vertical-align: middle;\n    }\n\n    .dataframe tbody tr th {\n        vertical-align: top;\n    }\n\n    .dataframe thead th {\n        text-align: right;\n    }\n</style>\n<table border=\"1\" class=\"dataframe\">\n  <thead>\n    <tr style=\"text-align: right;\">\n      <th></th>\n      <th>Delivery_person_ID</th>\n      <th>Delivery_person_Age</th>\n      <th>Delivery_person_Ratings</th>\n      <th>Restaurant_latitude</th>\n      <th>Restaurant_longitude</th>\n      <th>Delivery_location_latitude</th>\n      <th>Delivery_location_longitude</th>\n      <th>Order_Date</th>\n      <th>Time_Orderd</th>\n      <th>Time_Order_picked</th>\n      <th>Weatherconditions</th>\n      <th>Road_traffic_density</th>\n      <th>Vehicle_condition</th>\n      <th>Type_of_order</th>\n      <th>Type_of_vehicle</th>\n      <th>multiple_deliveries</th>\n      <th>Festival</th>\n      <th>City</th>\n      <th>Time_taken(min)</th>\n    </tr>\n  </thead>\n  <tbody>\n    <tr>\n      <th>0</th>\n      <td>INDORES13DEL02</td>\n      <td>37</td>\n      <td>4.9</td>\n      <td>22.745049</td>\n      <td>75.892471</td>\n      <td>22.765049</td>\n      <td>75.912471</td>\n      <td>19-03-2022</td>\n      <td>11:30:00</td>\n      <td>11:45:00</td>\n      <td>Sunny</td>\n      <td>High</td>\n      <td>2</td>\n      <td>Snack</td>\n      <td>motorcycle</td>\n      <td>0</td>\n      <td>No</td>\n      <td>Urban</td>\n      <td>24</td>\n    </tr>\n    <tr>\n      <th>1</th>\n      <td>BANGRES18DEL02</td>\n      <td>34</td>\n      <td>4.5</td>\n      <td>12.913041</td>\n      <td>77.683237</td>\n      <td>13.043041</td>\n      <td>77.813237</td>\n      <td>25-03-2022</td>\n      <td>19:45:00</td>\n      <td>19:50:00</td>\n      <td>Stormy</td>\n      <td>Very High</td>\n      <td>2</td>\n      <td>Snack</td>\n      <td>scooter</td>\n      <td>1</td>\n      <td>No</td>\n      <td>Metropolitian</td>\n      <td>33</td>\n    </tr>\n    <tr>\n      <th>2</th>\n      <td>BANGRES19DEL01</td>\n      <td>23</td>\n      <td>4.4</td>\n      <td>12.914264</td>\n      <td>77.678400</td>\n      <td>12.924264</td>\n      <td>77.688400</td>\n      <td>19-03-2022</td>\n      <td>08:30:00</td>\n      <td>08:45:00</td>\n      <td>Sandstorms</td>\n      <td>Low</td>\n      <td>0</td>\n      <td>Drinks</td>\n      <td>motorcycle</td>\n      <td>1</td>\n      <td>No</td>\n      <td>Urban</td>\n      <td>26</td>\n    </tr>\n    <tr>\n      <th>3</th>\n      <td>COIMBRES13DEL02</td>\n      <td>38</td>\n      <td>4.7</td>\n      <td>11.003669</td>\n      <td>76.976494</td>\n      <td>11.053669</td>\n      <td>77.026494</td>\n      <td>05-04-2022</td>\n      <td>18:00:00</td>\n      <td>18:10:00</td>\n      <td>Sunny</td>\n      <td>Medium</td>\n      <td>0</td>\n      <td>Buffet</td>\n      <td>motorcycle</td>\n      <td>1</td>\n      <td>No</td>\n      <td>Metropolitian</td>\n      <td>21</td>\n    </tr>\n    <tr>\n      <th>4</th>\n      <td>CHENRES12DEL01</td>\n      <td>32</td>\n      <td>4.6</td>\n      <td>12.972793</td>\n      <td>80.249982</td>\n      <td>13.012793</td>\n      <td>80.289982</td>\n      <td>26-03-2022</td>\n      <td>13:30:00</td>\n      <td>13:45:00</td>\n      <td>Cloudy</td>\n      <td>High</td>\n      <td>1</td>\n      <td>Snack</td>\n      <td>scooter</td>\n      <td>1</td>\n      <td>No</td>\n      <td>Metropolitian</td>\n      <td>30</td>\n    </tr>\n    <tr>\n      <th>...</th>\n      <td>...</td>\n      <td>...</td>\n      <td>...</td>\n      <td>...</td>\n      <td>...</td>\n      <td>...</td>\n      <td>...</td>\n      <td>...</td>\n      <td>...</td>\n      <td>...</td>\n      <td>...</td>\n      <td>...</td>\n      <td>...</td>\n      <td>...</td>\n      <td>...</td>\n      <td>...</td>\n      <td>...</td>\n      <td>...</td>\n      <td>...</td>\n    </tr>\n    <tr>\n      <th>45588</th>\n      <td>JAPRES04DEL01</td>\n      <td>30</td>\n      <td>4.8</td>\n      <td>26.902328</td>\n      <td>75.794257</td>\n      <td>26.912328</td>\n      <td>75.804257</td>\n      <td>24-03-2022</td>\n      <td>11:35:00</td>\n      <td>11:45:00</td>\n      <td>Windy</td>\n      <td>High</td>\n      <td>1</td>\n      <td>Meal</td>\n      <td>motorcycle</td>\n      <td>0</td>\n      <td>No</td>\n      <td>Metropolitian</td>\n      <td>32</td>\n    </tr>\n    <tr>\n      <th>45589</th>\n      <td>AGRRES16DEL01</td>\n      <td>21</td>\n      <td>4.6</td>\n      <td>0.000000</td>\n      <td>0.000000</td>\n      <td>0.070000</td>\n      <td>0.070000</td>\n      <td>16-02-2022</td>\n      <td>19:55:00</td>\n      <td>20:10:00</td>\n      <td>Windy</td>\n      <td>Very High</td>\n      <td>0</td>\n      <td>Buffet</td>\n      <td>motorcycle</td>\n      <td>1</td>\n      <td>No</td>\n      <td>Metropolitian</td>\n      <td>36</td>\n    </tr>\n    <tr>\n      <th>45590</th>\n      <td>CHENRES08DEL03</td>\n      <td>30</td>\n      <td>4.9</td>\n      <td>13.022394</td>\n      <td>80.242439</td>\n      <td>13.052394</td>\n      <td>80.272439</td>\n      <td>11-03-2022</td>\n      <td>23:50:00</td>\n      <td>00:05:00</td>\n      <td>Cloudy</td>\n      <td>Low</td>\n      <td>1</td>\n      <td>Drinks</td>\n      <td>scooter</td>\n      <td>0</td>\n      <td>No</td>\n      <td>Metropolitian</td>\n      <td>16</td>\n    </tr>\n    <tr>\n      <th>45591</th>\n      <td>COIMBRES11DEL01</td>\n      <td>20</td>\n      <td>4.7</td>\n      <td>11.001753</td>\n      <td>76.986241</td>\n      <td>11.041753</td>\n      <td>77.026241</td>\n      <td>07-03-2022</td>\n      <td>13:35:00</td>\n      <td>13:40:00</td>\n      <td>Cloudy</td>\n      <td>High</td>\n      <td>0</td>\n      <td>Snack</td>\n      <td>motorcycle</td>\n      <td>1</td>\n      <td>No</td>\n      <td>Metropolitian</td>\n      <td>26</td>\n    </tr>\n    <tr>\n      <th>45592</th>\n      <td>RANCHIRES09DEL02</td>\n      <td>23</td>\n      <td>4.9</td>\n      <td>23.351058</td>\n      <td>85.325731</td>\n      <td>23.431058</td>\n      <td>85.405731</td>\n      <td>02-03-2022</td>\n      <td>17:10:00</td>\n      <td>17:15:00</td>\n      <td>Fog</td>\n      <td>Medium</td>\n      <td>2</td>\n      <td>Snack</td>\n      <td>scooter</td>\n      <td>1</td>\n      <td>No</td>\n      <td>Metropolitian</td>\n      <td>36</td>\n    </tr>\n  </tbody>\n</table>\n<p>41368 rows × 19 columns</p>\n</div>"
          },
          "metadata": {}
        }
      ],
      "outputs_reference": null,
      "execution_count": 11,
      "block_group": "c289e0f7002c424db85d4c3d898bc982",
      "content_dependencies": null
    },
    {
      "cell_type": "markdown",
      "source": "Next, we introduce distance from restaurant and destination longitudinal and latitudinal in KM so that we can perform analysis from distance.",
      "metadata": {
        "formattedRanges": [],
        "cell_id": "cfa55a8233824e328c8ecc437764f161",
        "deepnote_cell_type": "text-cell-p"
      },
      "block_group": "736ec4ebe52643c7a581490a75a4dd83"
    },
    {
      "cell_type": "code",
      "source": "cleaned_Data[cleaned_Data['Restaurant_latitude']<0][['Restaurant_latitude','Restaurant_longitude']]",
      "metadata": {
        "source_hash": "2c4b038d",
        "execution_start": 1713690147069,
        "execution_millis": 261,
        "deepnote_table_state": {
          "sortBy": [],
          "filters": [],
          "pageSize": 5,
          "pageIndex": 0
        },
        "deepnote_table_loading": false,
        "deepnote_to_be_reexecuted": false,
        "cell_id": "a34e569b6517424f89b97f215d3e5c9e",
        "deepnote_cell_type": "code"
      },
      "outputs": [
        {
          "output_type": "execute_result",
          "execution_count": 12,
          "data": {
            "application/vnd.deepnote.dataframe.v3+json": {
              "column_count": 2,
              "row_count": 146,
              "columns": [
                {
                  "name": "Restaurant_latitude",
                  "dtype": "float64",
                  "stats": {
                    "unique_count": 98,
                    "nan_count": 0,
                    "min": "-30.902872",
                    "max": "-9.959778",
                    "histogram": [
                      {
                        "bin_start": -30.902872,
                        "bin_end": -28.8085626,
                        "count": 17
                      },
                      {
                        "bin_start": -28.8085626,
                        "bin_end": -26.714253199999998,
                        "count": 8
                      },
                      {
                        "bin_start": -26.714253199999998,
                        "bin_end": -24.6199438,
                        "count": 30
                      },
                      {
                        "bin_start": -24.6199438,
                        "bin_end": -22.5256344,
                        "count": 31
                      },
                      {
                        "bin_start": -22.5256344,
                        "bin_end": -20.431325,
                        "count": 5
                      },
                      {
                        "bin_start": -20.431325,
                        "bin_end": -18.3370156,
                        "count": 19
                      },
                      {
                        "bin_start": -18.3370156,
                        "bin_end": -16.2427062,
                        "count": 0
                      },
                      {
                        "bin_start": -16.2427062,
                        "bin_end": -14.1483968,
                        "count": 20
                      },
                      {
                        "bin_start": -14.1483968,
                        "bin_end": -12.0540874,
                        "count": 0
                      },
                      {
                        "bin_start": -12.0540874,
                        "bin_end": -9.959778,
                        "count": 16
                      }
                    ]
                  }
                },
                {
                  "name": "Restaurant_longitude",
                  "dtype": "float64",
                  "stats": {
                    "unique_count": 98,
                    "nan_count": 0,
                    "min": "73.742294",
                    "max": "88.433452",
                    "histogram": [
                      {
                        "bin_start": 73.742294,
                        "bin_end": 75.2114098,
                        "count": 20
                      },
                      {
                        "bin_start": 75.2114098,
                        "bin_end": 76.6805256,
                        "count": 46
                      },
                      {
                        "bin_start": 76.6805256,
                        "bin_end": 78.14964140000001,
                        "count": 24
                      },
                      {
                        "bin_start": 78.14964140000001,
                        "bin_end": 79.6187572,
                        "count": 0
                      },
                      {
                        "bin_start": 79.6187572,
                        "bin_end": 81.087873,
                        "count": 21
                      },
                      {
                        "bin_start": 81.087873,
                        "bin_end": 82.5569888,
                        "count": 9
                      },
                      {
                        "bin_start": 82.5569888,
                        "bin_end": 84.0261046,
                        "count": 0
                      },
                      {
                        "bin_start": 84.0261046,
                        "bin_end": 85.49522040000001,
                        "count": 0
                      },
                      {
                        "bin_start": 85.49522040000001,
                        "bin_end": 86.9643362,
                        "count": 0
                      },
                      {
                        "bin_start": 86.9643362,
                        "bin_end": 88.433452,
                        "count": 26
                      }
                    ]
                  }
                },
                {
                  "name": "_deepnote_index_column",
                  "dtype": "int64"
                }
              ],
              "rows": [
                {
                  "Restaurant_latitude": -27.163303,
                  "Restaurant_longitude": 78.057044,
                  "_deepnote_index_column": 92
                },
                {
                  "Restaurant_latitude": -27.165108,
                  "Restaurant_longitude": 78.015053,
                  "_deepnote_index_column": 283
                },
                {
                  "Restaurant_latitude": -15.546594,
                  "Restaurant_longitude": 73.760431,
                  "_deepnote_index_column": 1091
                },
                {
                  "Restaurant_latitude": -23.230791,
                  "Restaurant_longitude": 77.43702,
                  "_deepnote_index_column": 1783
                },
                {
                  "Restaurant_latitude": -22.539129,
                  "Restaurant_longitude": 88.365507,
                  "_deepnote_index_column": 1976
                }
              ]
            },
            "text/plain": "       Restaurant_latitude  Restaurant_longitude\n92              -27.163303             78.057044\n283             -27.165108             78.015053\n1091            -15.546594             73.760431\n1783            -23.230791             77.437020\n1976            -22.539129             88.365507\n...                    ...                   ...\n43860           -15.498603             73.826911\n44051           -15.157944             73.950889\n44640            -9.982834             76.283268\n44933           -19.874733             75.353942\n45182           -26.482581             80.315628\n\n[146 rows x 2 columns]",
            "text/html": "<div>\n<style scoped>\n    .dataframe tbody tr th:only-of-type {\n        vertical-align: middle;\n    }\n\n    .dataframe tbody tr th {\n        vertical-align: top;\n    }\n\n    .dataframe thead th {\n        text-align: right;\n    }\n</style>\n<table border=\"1\" class=\"dataframe\">\n  <thead>\n    <tr style=\"text-align: right;\">\n      <th></th>\n      <th>Restaurant_latitude</th>\n      <th>Restaurant_longitude</th>\n    </tr>\n  </thead>\n  <tbody>\n    <tr>\n      <th>92</th>\n      <td>-27.163303</td>\n      <td>78.057044</td>\n    </tr>\n    <tr>\n      <th>283</th>\n      <td>-27.165108</td>\n      <td>78.015053</td>\n    </tr>\n    <tr>\n      <th>1091</th>\n      <td>-15.546594</td>\n      <td>73.760431</td>\n    </tr>\n    <tr>\n      <th>1783</th>\n      <td>-23.230791</td>\n      <td>77.437020</td>\n    </tr>\n    <tr>\n      <th>1976</th>\n      <td>-22.539129</td>\n      <td>88.365507</td>\n    </tr>\n    <tr>\n      <th>...</th>\n      <td>...</td>\n      <td>...</td>\n    </tr>\n    <tr>\n      <th>43860</th>\n      <td>-15.498603</td>\n      <td>73.826911</td>\n    </tr>\n    <tr>\n      <th>44051</th>\n      <td>-15.157944</td>\n      <td>73.950889</td>\n    </tr>\n    <tr>\n      <th>44640</th>\n      <td>-9.982834</td>\n      <td>76.283268</td>\n    </tr>\n    <tr>\n      <th>44933</th>\n      <td>-19.874733</td>\n      <td>75.353942</td>\n    </tr>\n    <tr>\n      <th>45182</th>\n      <td>-26.482581</td>\n      <td>80.315628</td>\n    </tr>\n  </tbody>\n</table>\n<p>146 rows × 2 columns</p>\n</div>"
          },
          "metadata": {}
        }
      ],
      "outputs_reference": null,
      "execution_count": 12,
      "block_group": "20e94d22f9994f7fa07ecd89591e5b9a",
      "content_dependencies": null
    },
    {
      "cell_type": "markdown",
      "source": "If we checked these values into a geological calculator. it would be somewhere in the middle of the ocean which is wrong. Hence, there might be error where the latitude should be positives. Thus, we change the latitude to positive as atfer changing it to positive it is a valid location.\n",
      "metadata": {
        "cell_id": "2f79de2210d64a6d8a19096570b4db1d",
        "deepnote_cell_type": "markdown"
      },
      "block_group": "649097918e0c487bbbdb273a31f7abbb"
    },
    {
      "cell_type": "code",
      "source": "cleaned_Data['Restaurant_latitude']=cleaned_Data['Restaurant_latitude'].abs()",
      "metadata": {
        "source_hash": "b3fc2914",
        "execution_start": 1713690147180,
        "execution_millis": 326,
        "deepnote_to_be_reexecuted": false,
        "cell_id": "dc75bed3de644735b0571eb424a092cc",
        "deepnote_cell_type": "code"
      },
      "outputs": [],
      "outputs_reference": null,
      "execution_count": 13,
      "block_group": "0c8f0415214142ac9a65eed616225dbc",
      "content_dependencies": null
    },
    {
      "cell_type": "code",
      "source": "#Calculate distance between restaurant location & delivery location\ndef haversine_distance(lat1, lon1, lat2, lon2):\n    # Convert latitude and longitude from degrees to radians\n    lat1, lon1, lat2, lon2 = map(radians, [lat1, lon1, lat2, lon2])\n\n    # Haversine formula\n    dlon = lon2 - lon1\n    dlat = lat2 - lat1\n    a = sin(dlat/2)**2 + cos(lat1) * cos(lat2) * sin(dlon/2)**2\n    c = 2 * atan2(sqrt(a), sqrt(1-a))\n    distance = 6371 * c  # Radius of the Earth in kilometers\n    return distance\n\ncleaned_Data['Distance_between_restaurant_and_delivery_place(KM)'] = cleaned_Data.apply(lambda row: round(haversine_distance(row['Restaurant_latitude'], row['Restaurant_longitude'], row['Delivery_location_latitude'], row['Delivery_location_longitude'])), axis=1)\ncleaned_Data",
      "metadata": {
        "source_hash": "4f3e7518",
        "execution_start": 1713690147181,
        "execution_millis": 1480,
        "deepnote_table_state": {
          "sortBy": [],
          "filters": [],
          "pageSize": 10,
          "pageIndex": 0
        },
        "deepnote_table_loading": false,
        "deepnote_to_be_reexecuted": false,
        "cell_id": "b132126de8734a70bd4610565aeea030",
        "deepnote_cell_type": "code"
      },
      "outputs": [
        {
          "output_type": "execute_result",
          "execution_count": 14,
          "data": {
            "application/vnd.deepnote.dataframe.v3+json": {
              "column_count": 20,
              "row_count": 41368,
              "columns": [
                {
                  "name": "Delivery_person_ID",
                  "dtype": "object",
                  "stats": {
                    "unique_count": 1320,
                    "nan_count": 0,
                    "categories": [
                      {
                        "name": "INDORES08DEL02 ",
                        "count": 62
                      },
                      {
                        "name": "RANCHIRES16DEL01 ",
                        "count": 62
                      },
                      {
                        "name": "1318 others",
                        "count": 41244
                      }
                    ]
                  }
                },
                {
                  "name": "Delivery_person_Age",
                  "dtype": "int64",
                  "stats": {
                    "unique_count": 20,
                    "nan_count": 0,
                    "min": "20",
                    "max": "39",
                    "histogram": [
                      {
                        "bin_start": 20,
                        "bin_end": 21.9,
                        "count": 4029
                      },
                      {
                        "bin_start": 21.9,
                        "bin_end": 23.8,
                        "count": 4042
                      },
                      {
                        "bin_start": 23.8,
                        "bin_end": 25.7,
                        "count": 4075
                      },
                      {
                        "bin_start": 25.7,
                        "bin_end": 27.6,
                        "count": 4026
                      },
                      {
                        "bin_start": 27.6,
                        "bin_end": 29.5,
                        "count": 4092
                      },
                      {
                        "bin_start": 29.5,
                        "bin_end": 31.4,
                        "count": 4169
                      },
                      {
                        "bin_start": 31.4,
                        "bin_end": 33.3,
                        "count": 4199
                      },
                      {
                        "bin_start": 33.3,
                        "bin_end": 35.2,
                        "count": 4257
                      },
                      {
                        "bin_start": 35.2,
                        "bin_end": 37.099999999999994,
                        "count": 4296
                      },
                      {
                        "bin_start": 37.099999999999994,
                        "bin_end": 39,
                        "count": 4183
                      }
                    ]
                  }
                },
                {
                  "name": "Delivery_person_Ratings",
                  "dtype": "float64"
                },
                {
                  "name": "Restaurant_latitude",
                  "dtype": "float64"
                },
                {
                  "name": "Restaurant_longitude",
                  "dtype": "float64"
                },
                {
                  "name": "Delivery_location_latitude",
                  "dtype": "float64"
                },
                {
                  "name": "Delivery_location_longitude",
                  "dtype": "float64"
                },
                {
                  "name": "Order_Date",
                  "dtype": "object"
                },
                {
                  "name": "Time_Orderd",
                  "dtype": "object"
                },
                {
                  "name": "Time_Order_picked",
                  "dtype": "object"
                },
                {
                  "name": "Weatherconditions",
                  "dtype": "object"
                },
                {
                  "name": "Road_traffic_density",
                  "dtype": "object"
                },
                {
                  "name": "Vehicle_condition",
                  "dtype": "int64"
                },
                {
                  "name": "Type_of_order",
                  "dtype": "object"
                },
                {
                  "name": "Type_of_vehicle",
                  "dtype": "object"
                },
                {
                  "name": "multiple_deliveries",
                  "dtype": "object"
                },
                {
                  "name": "Festival",
                  "dtype": "object"
                },
                {
                  "name": "City",
                  "dtype": "object"
                },
                {
                  "name": "Time_taken(min)",
                  "dtype": "int64"
                },
                {
                  "name": "Distance_between_restaurant_and_delivery_place(KM)",
                  "dtype": "int64"
                },
                {
                  "name": "_deepnote_index_column",
                  "dtype": "int64"
                }
              ],
              "rows": [
                {
                  "Delivery_person_ID": "INDORES13DEL02 ",
                  "Delivery_person_Age": 37,
                  "Delivery_person_Ratings": 4.9,
                  "Restaurant_latitude": 22.745049,
                  "Restaurant_longitude": 75.892471,
                  "Delivery_location_latitude": 22.765049,
                  "Delivery_location_longitude": 75.912471,
                  "Order_Date": "19-03-2022",
                  "Time_Orderd": "11:30:00",
                  "Time_Order_picked": "11:45:00",
                  "Weatherconditions": " Sunny",
                  "Road_traffic_density": "High ",
                  "Vehicle_condition": 2,
                  "Type_of_order": "Snack ",
                  "Type_of_vehicle": "motorcycle ",
                  "multiple_deliveries": "0",
                  "Festival": "No ",
                  "City": "Urban ",
                  "Time_taken(min)": 24,
                  "Distance_between_restaurant_and_delivery_place(KM)": 3,
                  "_deepnote_index_column": 0
                },
                {
                  "Delivery_person_ID": "BANGRES18DEL02 ",
                  "Delivery_person_Age": 34,
                  "Delivery_person_Ratings": 4.5,
                  "Restaurant_latitude": 12.913041,
                  "Restaurant_longitude": 77.683237,
                  "Delivery_location_latitude": 13.043041,
                  "Delivery_location_longitude": 77.813237,
                  "Order_Date": "25-03-2022",
                  "Time_Orderd": "19:45:00",
                  "Time_Order_picked": "19:50:00",
                  "Weatherconditions": " Stormy",
                  "Road_traffic_density": "Very High ",
                  "Vehicle_condition": 2,
                  "Type_of_order": "Snack ",
                  "Type_of_vehicle": "scooter ",
                  "multiple_deliveries": "1",
                  "Festival": "No ",
                  "City": "Metropolitian ",
                  "Time_taken(min)": 33,
                  "Distance_between_restaurant_and_delivery_place(KM)": 20,
                  "_deepnote_index_column": 1
                },
                {
                  "Delivery_person_ID": "BANGRES19DEL01 ",
                  "Delivery_person_Age": 23,
                  "Delivery_person_Ratings": 4.4,
                  "Restaurant_latitude": 12.914264,
                  "Restaurant_longitude": 77.6784,
                  "Delivery_location_latitude": 12.924264,
                  "Delivery_location_longitude": 77.6884,
                  "Order_Date": "19-03-2022",
                  "Time_Orderd": "08:30:00",
                  "Time_Order_picked": "08:45:00",
                  "Weatherconditions": " Sandstorms",
                  "Road_traffic_density": "Low ",
                  "Vehicle_condition": 0,
                  "Type_of_order": "Drinks ",
                  "Type_of_vehicle": "motorcycle ",
                  "multiple_deliveries": "1",
                  "Festival": "No ",
                  "City": "Urban ",
                  "Time_taken(min)": 26,
                  "Distance_between_restaurant_and_delivery_place(KM)": 2,
                  "_deepnote_index_column": 2
                },
                {
                  "Delivery_person_ID": "COIMBRES13DEL02 ",
                  "Delivery_person_Age": 38,
                  "Delivery_person_Ratings": 4.7,
                  "Restaurant_latitude": 11.003669,
                  "Restaurant_longitude": 76.976494,
                  "Delivery_location_latitude": 11.053669,
                  "Delivery_location_longitude": 77.026494,
                  "Order_Date": "05-04-2022",
                  "Time_Orderd": "18:00:00",
                  "Time_Order_picked": "18:10:00",
                  "Weatherconditions": " Sunny",
                  "Road_traffic_density": "Medium ",
                  "Vehicle_condition": 0,
                  "Type_of_order": "Buffet ",
                  "Type_of_vehicle": "motorcycle ",
                  "multiple_deliveries": "1",
                  "Festival": "No ",
                  "City": "Metropolitian ",
                  "Time_taken(min)": 21,
                  "Distance_between_restaurant_and_delivery_place(KM)": 8,
                  "_deepnote_index_column": 3
                },
                {
                  "Delivery_person_ID": "CHENRES12DEL01 ",
                  "Delivery_person_Age": 32,
                  "Delivery_person_Ratings": 4.6,
                  "Restaurant_latitude": 12.972793,
                  "Restaurant_longitude": 80.249982,
                  "Delivery_location_latitude": 13.012793,
                  "Delivery_location_longitude": 80.289982,
                  "Order_Date": "26-03-2022",
                  "Time_Orderd": "13:30:00",
                  "Time_Order_picked": "13:45:00",
                  "Weatherconditions": " Cloudy",
                  "Road_traffic_density": "High ",
                  "Vehicle_condition": 1,
                  "Type_of_order": "Snack ",
                  "Type_of_vehicle": "scooter ",
                  "multiple_deliveries": "1",
                  "Festival": "No ",
                  "City": "Metropolitian ",
                  "Time_taken(min)": 30,
                  "Distance_between_restaurant_and_delivery_place(KM)": 6,
                  "_deepnote_index_column": 4
                },
                {
                  "Delivery_person_ID": "HYDRES09DEL03 ",
                  "Delivery_person_Age": 22,
                  "Delivery_person_Ratings": 4.8,
                  "Restaurant_latitude": 17.431668,
                  "Restaurant_longitude": 78.408321,
                  "Delivery_location_latitude": 17.461668,
                  "Delivery_location_longitude": 78.438321,
                  "Order_Date": "11-03-2022",
                  "Time_Orderd": "21:20:00",
                  "Time_Order_picked": "21:30:00",
                  "Weatherconditions": " Cloudy",
                  "Road_traffic_density": "Very High ",
                  "Vehicle_condition": 0,
                  "Type_of_order": "Buffet ",
                  "Type_of_vehicle": "motorcycle ",
                  "multiple_deliveries": "1",
                  "Festival": "No ",
                  "City": "Urban ",
                  "Time_taken(min)": 26,
                  "Distance_between_restaurant_and_delivery_place(KM)": 5,
                  "_deepnote_index_column": 5
                },
                {
                  "Delivery_person_ID": "RANCHIRES15DEL01 ",
                  "Delivery_person_Age": 33,
                  "Delivery_person_Ratings": 4.7,
                  "Restaurant_latitude": 23.369746,
                  "Restaurant_longitude": 85.33982,
                  "Delivery_location_latitude": 23.479746,
                  "Delivery_location_longitude": 85.44982,
                  "Order_Date": "04-03-2022",
                  "Time_Orderd": "19:15:00",
                  "Time_Order_picked": "19:30:00",
                  "Weatherconditions": " Fog",
                  "Road_traffic_density": "Very High ",
                  "Vehicle_condition": 1,
                  "Type_of_order": "Meal ",
                  "Type_of_vehicle": "scooter ",
                  "multiple_deliveries": "1",
                  "Festival": "No ",
                  "City": "Metropolitian ",
                  "Time_taken(min)": 40,
                  "Distance_between_restaurant_and_delivery_place(KM)": 17,
                  "_deepnote_index_column": 6
                },
                {
                  "Delivery_person_ID": "MYSRES15DEL02 ",
                  "Delivery_person_Age": 35,
                  "Delivery_person_Ratings": 4.6,
                  "Restaurant_latitude": 12.352058,
                  "Restaurant_longitude": 76.60665,
                  "Delivery_location_latitude": 12.482058,
                  "Delivery_location_longitude": 76.73665,
                  "Order_Date": "14-03-2022",
                  "Time_Orderd": "17:25:00",
                  "Time_Order_picked": "17:30:00",
                  "Weatherconditions": " Cloudy",
                  "Road_traffic_density": "Medium ",
                  "Vehicle_condition": 2,
                  "Type_of_order": "Meal ",
                  "Type_of_vehicle": "motorcycle ",
                  "multiple_deliveries": "1",
                  "Festival": "No ",
                  "City": "Metropolitian ",
                  "Time_taken(min)": 32,
                  "Distance_between_restaurant_and_delivery_place(KM)": 20,
                  "_deepnote_index_column": 7
                },
                {
                  "Delivery_person_ID": "HYDRES05DEL02 ",
                  "Delivery_person_Age": 22,
                  "Delivery_person_Ratings": 4.8,
                  "Restaurant_latitude": 17.433809,
                  "Restaurant_longitude": 78.386744,
                  "Delivery_location_latitude": 17.563809,
                  "Delivery_location_longitude": 78.516744,
                  "Order_Date": "20-03-2022",
                  "Time_Orderd": "20:55:00",
                  "Time_Order_picked": "21:05:00",
                  "Weatherconditions": " Stormy",
                  "Road_traffic_density": "Very High ",
                  "Vehicle_condition": 0,
                  "Type_of_order": "Buffet ",
                  "Type_of_vehicle": "motorcycle ",
                  "multiple_deliveries": "1",
                  "Festival": "No ",
                  "City": "Metropolitian ",
                  "Time_taken(min)": 34,
                  "Distance_between_restaurant_and_delivery_place(KM)": 20,
                  "_deepnote_index_column": 8
                },
                {
                  "Delivery_person_ID": "DEHRES17DEL01 ",
                  "Delivery_person_Age": 36,
                  "Delivery_person_Ratings": 4.2,
                  "Restaurant_latitude": 30.327968,
                  "Restaurant_longitude": 78.046106,
                  "Delivery_location_latitude": 30.397968,
                  "Delivery_location_longitude": 78.116106,
                  "Order_Date": "12-02-2022",
                  "Time_Orderd": "21:55:00",
                  "Time_Order_picked": "22:10:00",
                  "Weatherconditions": " Fog",
                  "Road_traffic_density": "Very High ",
                  "Vehicle_condition": 2,
                  "Type_of_order": "Snack ",
                  "Type_of_vehicle": "motorcycle ",
                  "multiple_deliveries": "3",
                  "Festival": "No ",
                  "City": "Metropolitian ",
                  "Time_taken(min)": 46,
                  "Distance_between_restaurant_and_delivery_place(KM)": 10,
                  "_deepnote_index_column": 9
                }
              ]
            },
            "text/plain": "      Delivery_person_ID  Delivery_person_Age  Delivery_person_Ratings  \\\n0        INDORES13DEL02                    37                      4.9   \n1        BANGRES18DEL02                    34                      4.5   \n2        BANGRES19DEL01                    23                      4.4   \n3       COIMBRES13DEL02                    38                      4.7   \n4        CHENRES12DEL01                    32                      4.6   \n...                  ...                  ...                      ...   \n45588     JAPRES04DEL01                    30                      4.8   \n45589     AGRRES16DEL01                    21                      4.6   \n45590    CHENRES08DEL03                    30                      4.9   \n45591   COIMBRES11DEL01                    20                      4.7   \n45592  RANCHIRES09DEL02                    23                      4.9   \n\n       Restaurant_latitude  Restaurant_longitude  Delivery_location_latitude  \\\n0                22.745049             75.892471                   22.765049   \n1                12.913041             77.683237                   13.043041   \n2                12.914264             77.678400                   12.924264   \n3                11.003669             76.976494                   11.053669   \n4                12.972793             80.249982                   13.012793   \n...                    ...                   ...                         ...   \n45588            26.902328             75.794257                   26.912328   \n45589             0.000000              0.000000                    0.070000   \n45590            13.022394             80.242439                   13.052394   \n45591            11.001753             76.986241                   11.041753   \n45592            23.351058             85.325731                   23.431058   \n\n       Delivery_location_longitude  Order_Date Time_Orderd Time_Order_picked  \\\n0                        75.912471  19-03-2022    11:30:00          11:45:00   \n1                        77.813237  25-03-2022    19:45:00          19:50:00   \n2                        77.688400  19-03-2022    08:30:00          08:45:00   \n3                        77.026494  05-04-2022    18:00:00          18:10:00   \n4                        80.289982  26-03-2022    13:30:00          13:45:00   \n...                            ...         ...         ...               ...   \n45588                    75.804257  24-03-2022    11:35:00          11:45:00   \n45589                     0.070000  16-02-2022    19:55:00          20:10:00   \n45590                    80.272439  11-03-2022    23:50:00          00:05:00   \n45591                    77.026241  07-03-2022    13:35:00          13:40:00   \n45592                    85.405731  02-03-2022    17:10:00          17:15:00   \n\n      Weatherconditions Road_traffic_density  Vehicle_condition Type_of_order  \\\n0                 Sunny                High                   2        Snack    \n1                Stormy           Very High                   2        Snack    \n2            Sandstorms                 Low                   0       Drinks    \n3                 Sunny              Medium                   0       Buffet    \n4                Cloudy                High                   1        Snack    \n...                 ...                  ...                ...           ...   \n45588             Windy                High                   1         Meal    \n45589             Windy           Very High                   0       Buffet    \n45590            Cloudy                 Low                   1       Drinks    \n45591            Cloudy                High                   0        Snack    \n45592               Fog              Medium                   2        Snack    \n\n      Type_of_vehicle multiple_deliveries Festival            City  \\\n0         motorcycle                    0      No           Urban    \n1            scooter                    1      No   Metropolitian    \n2         motorcycle                    1      No           Urban    \n3         motorcycle                    1      No   Metropolitian    \n4            scooter                    1      No   Metropolitian    \n...               ...                 ...      ...             ...   \n45588     motorcycle                    0      No   Metropolitian    \n45589     motorcycle                    1      No   Metropolitian    \n45590        scooter                    0      No   Metropolitian    \n45591     motorcycle                    1      No   Metropolitian    \n45592        scooter                    1      No   Metropolitian    \n\n       Time_taken(min)  Distance_between_restaurant_and_delivery_place(KM)  \n0                   24                                                  3   \n1                   33                                                 20   \n2                   26                                                  2   \n3                   21                                                  8   \n4                   30                                                  6   \n...                ...                                                ...   \n45588               32                                                  1   \n45589               36                                                 11   \n45590               16                                                  5   \n45591               26                                                  6   \n45592               36                                                 12   \n\n[41368 rows x 20 columns]",
            "text/html": "<div>\n<style scoped>\n    .dataframe tbody tr th:only-of-type {\n        vertical-align: middle;\n    }\n\n    .dataframe tbody tr th {\n        vertical-align: top;\n    }\n\n    .dataframe thead th {\n        text-align: right;\n    }\n</style>\n<table border=\"1\" class=\"dataframe\">\n  <thead>\n    <tr style=\"text-align: right;\">\n      <th></th>\n      <th>Delivery_person_ID</th>\n      <th>Delivery_person_Age</th>\n      <th>Delivery_person_Ratings</th>\n      <th>Restaurant_latitude</th>\n      <th>Restaurant_longitude</th>\n      <th>Delivery_location_latitude</th>\n      <th>Delivery_location_longitude</th>\n      <th>Order_Date</th>\n      <th>Time_Orderd</th>\n      <th>Time_Order_picked</th>\n      <th>Weatherconditions</th>\n      <th>Road_traffic_density</th>\n      <th>Vehicle_condition</th>\n      <th>Type_of_order</th>\n      <th>Type_of_vehicle</th>\n      <th>multiple_deliveries</th>\n      <th>Festival</th>\n      <th>City</th>\n      <th>Time_taken(min)</th>\n      <th>Distance_between_restaurant_and_delivery_place(KM)</th>\n    </tr>\n  </thead>\n  <tbody>\n    <tr>\n      <th>0</th>\n      <td>INDORES13DEL02</td>\n      <td>37</td>\n      <td>4.9</td>\n      <td>22.745049</td>\n      <td>75.892471</td>\n      <td>22.765049</td>\n      <td>75.912471</td>\n      <td>19-03-2022</td>\n      <td>11:30:00</td>\n      <td>11:45:00</td>\n      <td>Sunny</td>\n      <td>High</td>\n      <td>2</td>\n      <td>Snack</td>\n      <td>motorcycle</td>\n      <td>0</td>\n      <td>No</td>\n      <td>Urban</td>\n      <td>24</td>\n      <td>3</td>\n    </tr>\n    <tr>\n      <th>1</th>\n      <td>BANGRES18DEL02</td>\n      <td>34</td>\n      <td>4.5</td>\n      <td>12.913041</td>\n      <td>77.683237</td>\n      <td>13.043041</td>\n      <td>77.813237</td>\n      <td>25-03-2022</td>\n      <td>19:45:00</td>\n      <td>19:50:00</td>\n      <td>Stormy</td>\n      <td>Very High</td>\n      <td>2</td>\n      <td>Snack</td>\n      <td>scooter</td>\n      <td>1</td>\n      <td>No</td>\n      <td>Metropolitian</td>\n      <td>33</td>\n      <td>20</td>\n    </tr>\n    <tr>\n      <th>2</th>\n      <td>BANGRES19DEL01</td>\n      <td>23</td>\n      <td>4.4</td>\n      <td>12.914264</td>\n      <td>77.678400</td>\n      <td>12.924264</td>\n      <td>77.688400</td>\n      <td>19-03-2022</td>\n      <td>08:30:00</td>\n      <td>08:45:00</td>\n      <td>Sandstorms</td>\n      <td>Low</td>\n      <td>0</td>\n      <td>Drinks</td>\n      <td>motorcycle</td>\n      <td>1</td>\n      <td>No</td>\n      <td>Urban</td>\n      <td>26</td>\n      <td>2</td>\n    </tr>\n    <tr>\n      <th>3</th>\n      <td>COIMBRES13DEL02</td>\n      <td>38</td>\n      <td>4.7</td>\n      <td>11.003669</td>\n      <td>76.976494</td>\n      <td>11.053669</td>\n      <td>77.026494</td>\n      <td>05-04-2022</td>\n      <td>18:00:00</td>\n      <td>18:10:00</td>\n      <td>Sunny</td>\n      <td>Medium</td>\n      <td>0</td>\n      <td>Buffet</td>\n      <td>motorcycle</td>\n      <td>1</td>\n      <td>No</td>\n      <td>Metropolitian</td>\n      <td>21</td>\n      <td>8</td>\n    </tr>\n    <tr>\n      <th>4</th>\n      <td>CHENRES12DEL01</td>\n      <td>32</td>\n      <td>4.6</td>\n      <td>12.972793</td>\n      <td>80.249982</td>\n      <td>13.012793</td>\n      <td>80.289982</td>\n      <td>26-03-2022</td>\n      <td>13:30:00</td>\n      <td>13:45:00</td>\n      <td>Cloudy</td>\n      <td>High</td>\n      <td>1</td>\n      <td>Snack</td>\n      <td>scooter</td>\n      <td>1</td>\n      <td>No</td>\n      <td>Metropolitian</td>\n      <td>30</td>\n      <td>6</td>\n    </tr>\n    <tr>\n      <th>...</th>\n      <td>...</td>\n      <td>...</td>\n      <td>...</td>\n      <td>...</td>\n      <td>...</td>\n      <td>...</td>\n      <td>...</td>\n      <td>...</td>\n      <td>...</td>\n      <td>...</td>\n      <td>...</td>\n      <td>...</td>\n      <td>...</td>\n      <td>...</td>\n      <td>...</td>\n      <td>...</td>\n      <td>...</td>\n      <td>...</td>\n      <td>...</td>\n      <td>...</td>\n    </tr>\n    <tr>\n      <th>45588</th>\n      <td>JAPRES04DEL01</td>\n      <td>30</td>\n      <td>4.8</td>\n      <td>26.902328</td>\n      <td>75.794257</td>\n      <td>26.912328</td>\n      <td>75.804257</td>\n      <td>24-03-2022</td>\n      <td>11:35:00</td>\n      <td>11:45:00</td>\n      <td>Windy</td>\n      <td>High</td>\n      <td>1</td>\n      <td>Meal</td>\n      <td>motorcycle</td>\n      <td>0</td>\n      <td>No</td>\n      <td>Metropolitian</td>\n      <td>32</td>\n      <td>1</td>\n    </tr>\n    <tr>\n      <th>45589</th>\n      <td>AGRRES16DEL01</td>\n      <td>21</td>\n      <td>4.6</td>\n      <td>0.000000</td>\n      <td>0.000000</td>\n      <td>0.070000</td>\n      <td>0.070000</td>\n      <td>16-02-2022</td>\n      <td>19:55:00</td>\n      <td>20:10:00</td>\n      <td>Windy</td>\n      <td>Very High</td>\n      <td>0</td>\n      <td>Buffet</td>\n      <td>motorcycle</td>\n      <td>1</td>\n      <td>No</td>\n      <td>Metropolitian</td>\n      <td>36</td>\n      <td>11</td>\n    </tr>\n    <tr>\n      <th>45590</th>\n      <td>CHENRES08DEL03</td>\n      <td>30</td>\n      <td>4.9</td>\n      <td>13.022394</td>\n      <td>80.242439</td>\n      <td>13.052394</td>\n      <td>80.272439</td>\n      <td>11-03-2022</td>\n      <td>23:50:00</td>\n      <td>00:05:00</td>\n      <td>Cloudy</td>\n      <td>Low</td>\n      <td>1</td>\n      <td>Drinks</td>\n      <td>scooter</td>\n      <td>0</td>\n      <td>No</td>\n      <td>Metropolitian</td>\n      <td>16</td>\n      <td>5</td>\n    </tr>\n    <tr>\n      <th>45591</th>\n      <td>COIMBRES11DEL01</td>\n      <td>20</td>\n      <td>4.7</td>\n      <td>11.001753</td>\n      <td>76.986241</td>\n      <td>11.041753</td>\n      <td>77.026241</td>\n      <td>07-03-2022</td>\n      <td>13:35:00</td>\n      <td>13:40:00</td>\n      <td>Cloudy</td>\n      <td>High</td>\n      <td>0</td>\n      <td>Snack</td>\n      <td>motorcycle</td>\n      <td>1</td>\n      <td>No</td>\n      <td>Metropolitian</td>\n      <td>26</td>\n      <td>6</td>\n    </tr>\n    <tr>\n      <th>45592</th>\n      <td>RANCHIRES09DEL02</td>\n      <td>23</td>\n      <td>4.9</td>\n      <td>23.351058</td>\n      <td>85.325731</td>\n      <td>23.431058</td>\n      <td>85.405731</td>\n      <td>02-03-2022</td>\n      <td>17:10:00</td>\n      <td>17:15:00</td>\n      <td>Fog</td>\n      <td>Medium</td>\n      <td>2</td>\n      <td>Snack</td>\n      <td>scooter</td>\n      <td>1</td>\n      <td>No</td>\n      <td>Metropolitian</td>\n      <td>36</td>\n      <td>12</td>\n    </tr>\n  </tbody>\n</table>\n<p>41368 rows × 20 columns</p>\n</div>"
          },
          "metadata": {}
        }
      ],
      "outputs_reference": null,
      "execution_count": 14,
      "block_group": "56d8f659de1345df81a44258bbffda2a",
      "content_dependencies": null
    },
    {
      "cell_type": "markdown",
      "source": "After introducing distance using the longitude and latitude, we choose to drop these variables as they will no longer be used to predict time taken for delivery.",
      "metadata": {
        "formattedRanges": [],
        "cell_id": "dc8fa8af51d0408fa9aa5f50d0cd1ff4",
        "deepnote_cell_type": "text-cell-p"
      },
      "block_group": "62c16b81eb64469ebc45a98d672a43e7"
    },
    {
      "cell_type": "code",
      "source": "cleaned_Data.drop(['Delivery_person_ID', 'Restaurant_latitude', 'Restaurant_longitude', 'Delivery_location_latitude', 'Delivery_location_longitude', 'Order_Date','multiple_deliveries'], axis=1, inplace=True)\ncleaned_Data",
      "metadata": {
        "scrolled": true,
        "source_hash": "6fa3dafb",
        "execution_start": 1713690148700,
        "execution_millis": 239,
        "deepnote_to_be_reexecuted": false,
        "cell_id": "3d3923d27f694de2a8edac06ceb21f0e",
        "deepnote_cell_type": "code"
      },
      "outputs": [
        {
          "output_type": "execute_result",
          "execution_count": 15,
          "data": {
            "application/vnd.deepnote.dataframe.v3+json": {
              "column_count": 13,
              "row_count": 41368,
              "columns": [
                {
                  "name": "Delivery_person_Age",
                  "dtype": "int64",
                  "stats": {
                    "unique_count": 20,
                    "nan_count": 0,
                    "min": "20",
                    "max": "39",
                    "histogram": [
                      {
                        "bin_start": 20,
                        "bin_end": 21.9,
                        "count": 4029
                      },
                      {
                        "bin_start": 21.9,
                        "bin_end": 23.8,
                        "count": 4042
                      },
                      {
                        "bin_start": 23.8,
                        "bin_end": 25.7,
                        "count": 4075
                      },
                      {
                        "bin_start": 25.7,
                        "bin_end": 27.6,
                        "count": 4026
                      },
                      {
                        "bin_start": 27.6,
                        "bin_end": 29.5,
                        "count": 4092
                      },
                      {
                        "bin_start": 29.5,
                        "bin_end": 31.4,
                        "count": 4169
                      },
                      {
                        "bin_start": 31.4,
                        "bin_end": 33.3,
                        "count": 4199
                      },
                      {
                        "bin_start": 33.3,
                        "bin_end": 35.2,
                        "count": 4257
                      },
                      {
                        "bin_start": 35.2,
                        "bin_end": 37.099999999999994,
                        "count": 4296
                      },
                      {
                        "bin_start": 37.099999999999994,
                        "bin_end": 39,
                        "count": 4183
                      }
                    ]
                  }
                },
                {
                  "name": "Delivery_person_Ratings",
                  "dtype": "float64",
                  "stats": {
                    "unique_count": 26,
                    "nan_count": 0,
                    "min": "2.5",
                    "max": "5.0",
                    "histogram": [
                      {
                        "bin_start": 2.5,
                        "bin_end": 2.75,
                        "count": 62
                      },
                      {
                        "bin_start": 2.75,
                        "bin_end": 3,
                        "count": 38
                      },
                      {
                        "bin_start": 3,
                        "bin_end": 3.25,
                        "count": 60
                      },
                      {
                        "bin_start": 3.25,
                        "bin_end": 3.5,
                        "count": 56
                      },
                      {
                        "bin_start": 3.5,
                        "bin_end": 3.75,
                        "count": 660
                      },
                      {
                        "bin_start": 3.75,
                        "bin_end": 4,
                        "count": 414
                      },
                      {
                        "bin_start": 4,
                        "bin_end": 4.25,
                        "count": 3794
                      },
                      {
                        "bin_start": 4.25,
                        "bin_end": 4.5,
                        "count": 2669
                      },
                      {
                        "bin_start": 4.5,
                        "bin_end": 4.75,
                        "count": 16412
                      },
                      {
                        "bin_start": 4.75,
                        "bin_end": 5,
                        "count": 17203
                      }
                    ]
                  }
                },
                {
                  "name": "Time_Orderd",
                  "dtype": "object"
                },
                {
                  "name": "Time_Order_picked",
                  "dtype": "object"
                },
                {
                  "name": "Weatherconditions",
                  "dtype": "object"
                },
                {
                  "name": "Road_traffic_density",
                  "dtype": "object"
                },
                {
                  "name": "Vehicle_condition",
                  "dtype": "int64"
                },
                {
                  "name": "Type_of_order",
                  "dtype": "object"
                },
                {
                  "name": "Type_of_vehicle",
                  "dtype": "object"
                },
                {
                  "name": "Festival",
                  "dtype": "object"
                },
                {
                  "name": "City",
                  "dtype": "object"
                },
                {
                  "name": "Time_taken(min)",
                  "dtype": "int64"
                },
                {
                  "name": "Distance_between_restaurant_and_delivery_place(KM)",
                  "dtype": "int64"
                },
                {
                  "name": "_deepnote_index_column",
                  "dtype": "int64"
                }
              ],
              "rows": [
                {
                  "Delivery_person_Age": 37,
                  "Delivery_person_Ratings": 4.9,
                  "Time_Orderd": "11:30:00",
                  "Time_Order_picked": "11:45:00",
                  "Weatherconditions": " Sunny",
                  "Road_traffic_density": "High ",
                  "Vehicle_condition": 2,
                  "Type_of_order": "Snack ",
                  "Type_of_vehicle": "motorcycle ",
                  "Festival": "No ",
                  "City": "Urban ",
                  "Time_taken(min)": 24,
                  "Distance_between_restaurant_and_delivery_place(KM)": 3,
                  "_deepnote_index_column": 0
                },
                {
                  "Delivery_person_Age": 34,
                  "Delivery_person_Ratings": 4.5,
                  "Time_Orderd": "19:45:00",
                  "Time_Order_picked": "19:50:00",
                  "Weatherconditions": " Stormy",
                  "Road_traffic_density": "Very High ",
                  "Vehicle_condition": 2,
                  "Type_of_order": "Snack ",
                  "Type_of_vehicle": "scooter ",
                  "Festival": "No ",
                  "City": "Metropolitian ",
                  "Time_taken(min)": 33,
                  "Distance_between_restaurant_and_delivery_place(KM)": 20,
                  "_deepnote_index_column": 1
                },
                {
                  "Delivery_person_Age": 23,
                  "Delivery_person_Ratings": 4.4,
                  "Time_Orderd": "08:30:00",
                  "Time_Order_picked": "08:45:00",
                  "Weatherconditions": " Sandstorms",
                  "Road_traffic_density": "Low ",
                  "Vehicle_condition": 0,
                  "Type_of_order": "Drinks ",
                  "Type_of_vehicle": "motorcycle ",
                  "Festival": "No ",
                  "City": "Urban ",
                  "Time_taken(min)": 26,
                  "Distance_between_restaurant_and_delivery_place(KM)": 2,
                  "_deepnote_index_column": 2
                },
                {
                  "Delivery_person_Age": 38,
                  "Delivery_person_Ratings": 4.7,
                  "Time_Orderd": "18:00:00",
                  "Time_Order_picked": "18:10:00",
                  "Weatherconditions": " Sunny",
                  "Road_traffic_density": "Medium ",
                  "Vehicle_condition": 0,
                  "Type_of_order": "Buffet ",
                  "Type_of_vehicle": "motorcycle ",
                  "Festival": "No ",
                  "City": "Metropolitian ",
                  "Time_taken(min)": 21,
                  "Distance_between_restaurant_and_delivery_place(KM)": 8,
                  "_deepnote_index_column": 3
                },
                {
                  "Delivery_person_Age": 32,
                  "Delivery_person_Ratings": 4.6,
                  "Time_Orderd": "13:30:00",
                  "Time_Order_picked": "13:45:00",
                  "Weatherconditions": " Cloudy",
                  "Road_traffic_density": "High ",
                  "Vehicle_condition": 1,
                  "Type_of_order": "Snack ",
                  "Type_of_vehicle": "scooter ",
                  "Festival": "No ",
                  "City": "Metropolitian ",
                  "Time_taken(min)": 30,
                  "Distance_between_restaurant_and_delivery_place(KM)": 6,
                  "_deepnote_index_column": 4
                },
                {
                  "Delivery_person_Age": 22,
                  "Delivery_person_Ratings": 4.8,
                  "Time_Orderd": "21:20:00",
                  "Time_Order_picked": "21:30:00",
                  "Weatherconditions": " Cloudy",
                  "Road_traffic_density": "Very High ",
                  "Vehicle_condition": 0,
                  "Type_of_order": "Buffet ",
                  "Type_of_vehicle": "motorcycle ",
                  "Festival": "No ",
                  "City": "Urban ",
                  "Time_taken(min)": 26,
                  "Distance_between_restaurant_and_delivery_place(KM)": 5,
                  "_deepnote_index_column": 5
                },
                {
                  "Delivery_person_Age": 33,
                  "Delivery_person_Ratings": 4.7,
                  "Time_Orderd": "19:15:00",
                  "Time_Order_picked": "19:30:00",
                  "Weatherconditions": " Fog",
                  "Road_traffic_density": "Very High ",
                  "Vehicle_condition": 1,
                  "Type_of_order": "Meal ",
                  "Type_of_vehicle": "scooter ",
                  "Festival": "No ",
                  "City": "Metropolitian ",
                  "Time_taken(min)": 40,
                  "Distance_between_restaurant_and_delivery_place(KM)": 17,
                  "_deepnote_index_column": 6
                },
                {
                  "Delivery_person_Age": 35,
                  "Delivery_person_Ratings": 4.6,
                  "Time_Orderd": "17:25:00",
                  "Time_Order_picked": "17:30:00",
                  "Weatherconditions": " Cloudy",
                  "Road_traffic_density": "Medium ",
                  "Vehicle_condition": 2,
                  "Type_of_order": "Meal ",
                  "Type_of_vehicle": "motorcycle ",
                  "Festival": "No ",
                  "City": "Metropolitian ",
                  "Time_taken(min)": 32,
                  "Distance_between_restaurant_and_delivery_place(KM)": 20,
                  "_deepnote_index_column": 7
                },
                {
                  "Delivery_person_Age": 22,
                  "Delivery_person_Ratings": 4.8,
                  "Time_Orderd": "20:55:00",
                  "Time_Order_picked": "21:05:00",
                  "Weatherconditions": " Stormy",
                  "Road_traffic_density": "Very High ",
                  "Vehicle_condition": 0,
                  "Type_of_order": "Buffet ",
                  "Type_of_vehicle": "motorcycle ",
                  "Festival": "No ",
                  "City": "Metropolitian ",
                  "Time_taken(min)": 34,
                  "Distance_between_restaurant_and_delivery_place(KM)": 20,
                  "_deepnote_index_column": 8
                },
                {
                  "Delivery_person_Age": 36,
                  "Delivery_person_Ratings": 4.2,
                  "Time_Orderd": "21:55:00",
                  "Time_Order_picked": "22:10:00",
                  "Weatherconditions": " Fog",
                  "Road_traffic_density": "Very High ",
                  "Vehicle_condition": 2,
                  "Type_of_order": "Snack ",
                  "Type_of_vehicle": "motorcycle ",
                  "Festival": "No ",
                  "City": "Metropolitian ",
                  "Time_taken(min)": 46,
                  "Distance_between_restaurant_and_delivery_place(KM)": 10,
                  "_deepnote_index_column": 9
                }
              ]
            },
            "text/plain": "       Delivery_person_Age  Delivery_person_Ratings Time_Orderd  \\\n0                       37                      4.9    11:30:00   \n1                       34                      4.5    19:45:00   \n2                       23                      4.4    08:30:00   \n3                       38                      4.7    18:00:00   \n4                       32                      4.6    13:30:00   \n...                    ...                      ...         ...   \n45588                   30                      4.8    11:35:00   \n45589                   21                      4.6    19:55:00   \n45590                   30                      4.9    23:50:00   \n45591                   20                      4.7    13:35:00   \n45592                   23                      4.9    17:10:00   \n\n      Time_Order_picked Weatherconditions Road_traffic_density  \\\n0              11:45:00             Sunny                High    \n1              19:50:00            Stormy           Very High    \n2              08:45:00        Sandstorms                 Low    \n3              18:10:00             Sunny              Medium    \n4              13:45:00            Cloudy                High    \n...                 ...               ...                  ...   \n45588          11:45:00             Windy                High    \n45589          20:10:00             Windy           Very High    \n45590          00:05:00            Cloudy                 Low    \n45591          13:40:00            Cloudy                High    \n45592          17:15:00               Fog              Medium    \n\n       Vehicle_condition Type_of_order Type_of_vehicle Festival  \\\n0                      2        Snack      motorcycle       No    \n1                      2        Snack         scooter       No    \n2                      0       Drinks      motorcycle       No    \n3                      0       Buffet      motorcycle       No    \n4                      1        Snack         scooter       No    \n...                  ...           ...             ...      ...   \n45588                  1         Meal      motorcycle       No    \n45589                  0       Buffet      motorcycle       No    \n45590                  1       Drinks         scooter       No    \n45591                  0        Snack      motorcycle       No    \n45592                  2        Snack         scooter       No    \n\n                 City  Time_taken(min)  \\\n0              Urban                24   \n1      Metropolitian                33   \n2              Urban                26   \n3      Metropolitian                21   \n4      Metropolitian                30   \n...               ...              ...   \n45588  Metropolitian                32   \n45589  Metropolitian                36   \n45590  Metropolitian                16   \n45591  Metropolitian                26   \n45592  Metropolitian                36   \n\n       Distance_between_restaurant_and_delivery_place(KM)  \n0                                                      3   \n1                                                     20   \n2                                                      2   \n3                                                      8   \n4                                                      6   \n...                                                  ...   \n45588                                                  1   \n45589                                                 11   \n45590                                                  5   \n45591                                                  6   \n45592                                                 12   \n\n[41368 rows x 13 columns]",
            "text/html": "<div>\n<style scoped>\n    .dataframe tbody tr th:only-of-type {\n        vertical-align: middle;\n    }\n\n    .dataframe tbody tr th {\n        vertical-align: top;\n    }\n\n    .dataframe thead th {\n        text-align: right;\n    }\n</style>\n<table border=\"1\" class=\"dataframe\">\n  <thead>\n    <tr style=\"text-align: right;\">\n      <th></th>\n      <th>Delivery_person_Age</th>\n      <th>Delivery_person_Ratings</th>\n      <th>Time_Orderd</th>\n      <th>Time_Order_picked</th>\n      <th>Weatherconditions</th>\n      <th>Road_traffic_density</th>\n      <th>Vehicle_condition</th>\n      <th>Type_of_order</th>\n      <th>Type_of_vehicle</th>\n      <th>Festival</th>\n      <th>City</th>\n      <th>Time_taken(min)</th>\n      <th>Distance_between_restaurant_and_delivery_place(KM)</th>\n    </tr>\n  </thead>\n  <tbody>\n    <tr>\n      <th>0</th>\n      <td>37</td>\n      <td>4.9</td>\n      <td>11:30:00</td>\n      <td>11:45:00</td>\n      <td>Sunny</td>\n      <td>High</td>\n      <td>2</td>\n      <td>Snack</td>\n      <td>motorcycle</td>\n      <td>No</td>\n      <td>Urban</td>\n      <td>24</td>\n      <td>3</td>\n    </tr>\n    <tr>\n      <th>1</th>\n      <td>34</td>\n      <td>4.5</td>\n      <td>19:45:00</td>\n      <td>19:50:00</td>\n      <td>Stormy</td>\n      <td>Very High</td>\n      <td>2</td>\n      <td>Snack</td>\n      <td>scooter</td>\n      <td>No</td>\n      <td>Metropolitian</td>\n      <td>33</td>\n      <td>20</td>\n    </tr>\n    <tr>\n      <th>2</th>\n      <td>23</td>\n      <td>4.4</td>\n      <td>08:30:00</td>\n      <td>08:45:00</td>\n      <td>Sandstorms</td>\n      <td>Low</td>\n      <td>0</td>\n      <td>Drinks</td>\n      <td>motorcycle</td>\n      <td>No</td>\n      <td>Urban</td>\n      <td>26</td>\n      <td>2</td>\n    </tr>\n    <tr>\n      <th>3</th>\n      <td>38</td>\n      <td>4.7</td>\n      <td>18:00:00</td>\n      <td>18:10:00</td>\n      <td>Sunny</td>\n      <td>Medium</td>\n      <td>0</td>\n      <td>Buffet</td>\n      <td>motorcycle</td>\n      <td>No</td>\n      <td>Metropolitian</td>\n      <td>21</td>\n      <td>8</td>\n    </tr>\n    <tr>\n      <th>4</th>\n      <td>32</td>\n      <td>4.6</td>\n      <td>13:30:00</td>\n      <td>13:45:00</td>\n      <td>Cloudy</td>\n      <td>High</td>\n      <td>1</td>\n      <td>Snack</td>\n      <td>scooter</td>\n      <td>No</td>\n      <td>Metropolitian</td>\n      <td>30</td>\n      <td>6</td>\n    </tr>\n    <tr>\n      <th>...</th>\n      <td>...</td>\n      <td>...</td>\n      <td>...</td>\n      <td>...</td>\n      <td>...</td>\n      <td>...</td>\n      <td>...</td>\n      <td>...</td>\n      <td>...</td>\n      <td>...</td>\n      <td>...</td>\n      <td>...</td>\n      <td>...</td>\n    </tr>\n    <tr>\n      <th>45588</th>\n      <td>30</td>\n      <td>4.8</td>\n      <td>11:35:00</td>\n      <td>11:45:00</td>\n      <td>Windy</td>\n      <td>High</td>\n      <td>1</td>\n      <td>Meal</td>\n      <td>motorcycle</td>\n      <td>No</td>\n      <td>Metropolitian</td>\n      <td>32</td>\n      <td>1</td>\n    </tr>\n    <tr>\n      <th>45589</th>\n      <td>21</td>\n      <td>4.6</td>\n      <td>19:55:00</td>\n      <td>20:10:00</td>\n      <td>Windy</td>\n      <td>Very High</td>\n      <td>0</td>\n      <td>Buffet</td>\n      <td>motorcycle</td>\n      <td>No</td>\n      <td>Metropolitian</td>\n      <td>36</td>\n      <td>11</td>\n    </tr>\n    <tr>\n      <th>45590</th>\n      <td>30</td>\n      <td>4.9</td>\n      <td>23:50:00</td>\n      <td>00:05:00</td>\n      <td>Cloudy</td>\n      <td>Low</td>\n      <td>1</td>\n      <td>Drinks</td>\n      <td>scooter</td>\n      <td>No</td>\n      <td>Metropolitian</td>\n      <td>16</td>\n      <td>5</td>\n    </tr>\n    <tr>\n      <th>45591</th>\n      <td>20</td>\n      <td>4.7</td>\n      <td>13:35:00</td>\n      <td>13:40:00</td>\n      <td>Cloudy</td>\n      <td>High</td>\n      <td>0</td>\n      <td>Snack</td>\n      <td>motorcycle</td>\n      <td>No</td>\n      <td>Metropolitian</td>\n      <td>26</td>\n      <td>6</td>\n    </tr>\n    <tr>\n      <th>45592</th>\n      <td>23</td>\n      <td>4.9</td>\n      <td>17:10:00</td>\n      <td>17:15:00</td>\n      <td>Fog</td>\n      <td>Medium</td>\n      <td>2</td>\n      <td>Snack</td>\n      <td>scooter</td>\n      <td>No</td>\n      <td>Metropolitian</td>\n      <td>36</td>\n      <td>12</td>\n    </tr>\n  </tbody>\n</table>\n<p>41368 rows × 13 columns</p>\n</div>"
          },
          "metadata": {}
        }
      ],
      "outputs_reference": null,
      "execution_count": 15,
      "block_group": "c1ff2d1876304499907265e3798c845b",
      "content_dependencies": null
    },
    {
      "cell_type": "markdown",
      "source": "<a style='text-decoration:none;line-height:16px;display:flex;color:#5B5B62;padding:10px;justify-content:end;' href='https://deepnote.com?utm_source=created-in-deepnote-cell&projectId=44a00546-0efa-4f5e-a5a5-ac13bae81f5d' target=\"_blank\">\n<img alt='Created in deepnote.com' style='display:inline;max-height:16px;margin:0px;margin-right:7.5px;' src='data:image/svg+xml;base64,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' > </img>\nCreated in <span style='font-weight:600;margin-left:4px;'>Deepnote</span></a>",
      "metadata": {
        "created_in_deepnote_cell": true,
        "deepnote_cell_type": "markdown"
      }
    }
  ],
  "nbformat": 4,
  "nbformat_minor": 0,
  "metadata": {
    "deepnote_full_width": false,
    "deepnote_notebook_id": "ec0e421e6d8f454390305838cb2f4d37",
    "deepnote_execution_queue": []
  }
}