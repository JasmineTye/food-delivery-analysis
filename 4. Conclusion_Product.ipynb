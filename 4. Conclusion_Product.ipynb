{
  "cells": [
    {
      "cell_type": "markdown",
      "source": "## Import Relevant packages\n\n",
      "metadata": {
        "collapsed": false,
        "deepnote_app_block_visible": true,
        "cell_id": "f82e0b482f524af8ad3fd69acade48fd",
        "deepnote_cell_type": "markdown"
      },
      "block_group": "3201096c42f14fdfa99aaf5ce9192c9f"
    },
    {
      "cell_type": "code",
      "source": "!pip install xgboost==2.0.3\n!pip install lightgbm\n!pip install optuna\n!pip install art==6.1\n\n# Basic Libraries\nimport numpy as np\nimport pandas as pd\nimport seaborn as sb\nimport scipy.stats as ss\nimport optuna\n\nfrom sklearn.ensemble import RandomForestClassifier\nfrom sklearn.ensemble import RandomForestRegressor\nfrom xgboost import XGBRegressor\nimport lightgbm as lgb\nfrom sklearn.ensemble import VotingRegressor\nfrom sklearn.model_selection import KFold, cross_val_score\nfrom sklearn.metrics import roc_curve, roc_auc_score\nfrom sklearn.model_selection import train_test_split\nfrom sklearn.metrics import mean_squared_error, r2_score, accuracy_score\nfrom sklearn.tree import DecisionTreeClassifier\nfrom sklearn.model_selection import train_test_split\nfrom sklearn.metrics import confusion_matrix\nfrom art import text2art\nfrom termcolor import colored\n\nimport matplotlib.pyplot as plt # we only need pyplot\nsb.set() # set the default Seaborn style for graphics\nfrom math import radians, sin, cos, sqrt, atan2",
      "metadata": {
        "collapsed": false,
        "source_hash": "f73cd6f3",
        "execution_start": 1713690450045,
        "execution_millis": 46760,
        "deepnote_to_be_reexecuted": false,
        "deepnote_app_block_visible": true,
        "cell_id": "7f53315b8e8143718e4d30b7079cb700",
        "deepnote_cell_type": "code"
      },
      "outputs": [
        {
          "name": "stdout",
          "text": "Collecting xgboost==2.0.3\n  Using cached xgboost-2.0.3-py3-none-manylinux2014_x86_64.whl (297.1 MB)\nCollecting scipy\n  Using cached scipy-1.10.1-cp38-cp38-manylinux_2_17_x86_64.manylinux2014_x86_64.whl (34.5 MB)\nCollecting numpy\n  Using cached numpy-1.24.4-cp38-cp38-manylinux_2_17_x86_64.manylinux2014_x86_64.whl (17.3 MB)\nInstalling collected packages: numpy, scipy, xgboost\nSuccessfully installed numpy-1.24.4 scipy-1.10.1 xgboost-2.0.3\n\u001b[33mWARNING: Target directory /opt/conda/lib/python3.8/site-packages/numpy.libs already exists. Specify --upgrade to force replacement.\u001b[0m\u001b[33m\n\u001b[0m\u001b[33mWARNING: Target directory /opt/conda/lib/python3.8/site-packages/numpy-1.24.4.dist-info already exists. Specify --upgrade to force replacement.\u001b[0m\u001b[33m\n\u001b[0m\u001b[33mWARNING: Target directory /opt/conda/lib/python3.8/site-packages/numpy already exists. Specify --upgrade to force replacement.\u001b[0m\u001b[33m\n\u001b[0m\u001b[33mWARNING: Target directory /opt/conda/lib/python3.8/site-packages/scipy already exists. Specify --upgrade to force replacement.\u001b[0m\u001b[33m\n\u001b[0m\u001b[33mWARNING: Target directory /opt/conda/lib/python3.8/site-packages/scipy.libs already exists. Specify --upgrade to force replacement.\u001b[0m\u001b[33m\n\u001b[0m\u001b[33mWARNING: Target directory /opt/conda/lib/python3.8/site-packages/scipy-1.10.1.dist-info already exists. Specify --upgrade to force replacement.\u001b[0m\u001b[33m\n\u001b[0m\u001b[33mWARNING: Target directory /opt/conda/lib/python3.8/site-packages/xgboost already exists. Specify --upgrade to force replacement.\u001b[0m\u001b[33m\n\u001b[0m\u001b[33mWARNING: Target directory /opt/conda/lib/python3.8/site-packages/xgboost-2.0.3.dist-info already exists. Specify --upgrade to force replacement.\u001b[0m\u001b[33m\n\u001b[0m\u001b[33mWARNING: Target directory /opt/conda/lib/python3.8/site-packages/xgboost.libs already exists. Specify --upgrade to force replacement.\u001b[0m\u001b[33m\n\u001b[0m\u001b[33mWARNING: Target directory /opt/conda/lib/python3.8/site-packages/bin already exists. Specify --upgrade to force replacement.\u001b[0m\u001b[33m\n\u001b[0m\u001b[33mWARNING: You are using pip version 22.0.4; however, version 24.0 is available.\nYou should consider upgrading via the '/root/venv/bin/python -m pip install --upgrade pip' command.\u001b[0m\u001b[33m\n\u001b[0mCollecting lightgbm\n  Using cached lightgbm-4.3.0-py3-none-manylinux_2_28_x86_64.whl (3.1 MB)\nCollecting numpy\n  Using cached numpy-1.24.4-cp38-cp38-manylinux_2_17_x86_64.manylinux2014_x86_64.whl (17.3 MB)\nCollecting scipy\n  Using cached scipy-1.10.1-cp38-cp38-manylinux_2_17_x86_64.manylinux2014_x86_64.whl (34.5 MB)\nInstalling collected packages: numpy, scipy, lightgbm\nSuccessfully installed lightgbm-4.3.0 numpy-1.24.4 scipy-1.10.1\n\u001b[33mWARNING: Target directory /opt/conda/lib/python3.8/site-packages/numpy.libs already exists. Specify --upgrade to force replacement.\u001b[0m\u001b[33m\n\u001b[0m\u001b[33mWARNING: Target directory /opt/conda/lib/python3.8/site-packages/numpy-1.24.4.dist-info already exists. Specify --upgrade to force replacement.\u001b[0m\u001b[33m\n\u001b[0m\u001b[33mWARNING: Target directory /opt/conda/lib/python3.8/site-packages/numpy already exists. Specify --upgrade to force replacement.\u001b[0m\u001b[33m\n\u001b[0m\u001b[33mWARNING: Target directory /opt/conda/lib/python3.8/site-packages/scipy already exists. Specify --upgrade to force replacement.\u001b[0m\u001b[33m\n\u001b[0m\u001b[33mWARNING: Target directory /opt/conda/lib/python3.8/site-packages/scipy.libs already exists. Specify --upgrade to force replacement.\u001b[0m\u001b[33m\n\u001b[0m\u001b[33mWARNING: Target directory /opt/conda/lib/python3.8/site-packages/scipy-1.10.1.dist-info already exists. Specify --upgrade to force replacement.\u001b[0m\u001b[33m\n\u001b[0m\u001b[33mWARNING: Target directory /opt/conda/lib/python3.8/site-packages/lightgbm already exists. Specify --upgrade to force replacement.\u001b[0m\u001b[33m\n\u001b[0m\u001b[33mWARNING: Target directory /opt/conda/lib/python3.8/site-packages/lightgbm-4.3.0.dist-info already exists. Specify --upgrade to force replacement.\u001b[0m\u001b[33m\n\u001b[0m\u001b[33mWARNING: Target directory /opt/conda/lib/python3.8/site-packages/bin already exists. Specify --upgrade to force replacement.\u001b[0m\u001b[33m\n\u001b[0m\u001b[33mWARNING: You are using pip version 22.0.4; however, version 24.0 is available.\nYou should consider upgrading via the '/root/venv/bin/python -m pip install --upgrade pip' command.\u001b[0m\u001b[33m\n\u001b[0mCollecting optuna\n  Using cached optuna-3.6.1-py3-none-any.whl (380 kB)\nCollecting tqdm\n  Using cached tqdm-4.66.2-py3-none-any.whl (78 kB)\nCollecting numpy\n  Using cached numpy-1.24.4-cp38-cp38-manylinux_2_17_x86_64.manylinux2014_x86_64.whl (17.3 MB)\nCollecting sqlalchemy>=1.3.0\n  Using cached SQLAlchemy-2.0.29-cp38-cp38-manylinux_2_17_x86_64.manylinux2014_x86_64.whl (3.1 MB)\nCollecting alembic>=1.5.0\n  Using cached alembic-1.13.1-py3-none-any.whl (233 kB)\nCollecting packaging>=20.0\n  Using cached packaging-24.0-py3-none-any.whl (53 kB)\nCollecting colorlog\n  Using cached colorlog-6.8.2-py3-none-any.whl (11 kB)\nCollecting PyYAML\n  Using cached PyYAML-6.0.1-cp38-cp38-manylinux_2_17_x86_64.manylinux2014_x86_64.whl (736 kB)\nCollecting importlib-resources\n  Using cached importlib_resources-6.4.0-py3-none-any.whl (38 kB)\nCollecting importlib-metadata\n  Using cached importlib_metadata-7.1.0-py3-none-any.whl (24 kB)\nCollecting typing-extensions>=4\n  Using cached typing_extensions-4.11.0-py3-none-any.whl (34 kB)\nCollecting Mako\n  Using cached Mako-1.3.3-py3-none-any.whl (78 kB)\nCollecting greenlet!=0.4.17\n  Using cached greenlet-3.0.3-cp38-cp38-manylinux_2_24_x86_64.manylinux_2_28_x86_64.whl (622 kB)\nCollecting zipp>=0.5\n  Using cached zipp-3.18.1-py3-none-any.whl (8.2 kB)\nCollecting MarkupSafe>=0.9.2\n  Using cached MarkupSafe-2.1.5-cp38-cp38-manylinux_2_17_x86_64.manylinux2014_x86_64.whl (26 kB)\nInstalling collected packages: zipp, typing-extensions, tqdm, PyYAML, packaging, numpy, MarkupSafe, greenlet, colorlog, sqlalchemy, Mako, importlib-resources, importlib-metadata, alembic, optuna\n\u001b[31mERROR: pip's dependency resolver does not currently take into account all the packages that are installed. This behaviour is the source of the following dependency conflicts.\nsqlalchemy-redshift 0.8.11 requires SQLAlchemy<2.0.0,>=0.9.2, but you have sqlalchemy 2.0.29 which is incompatible.\nsqlalchemy-bigquery 1.6.1 requires sqlalchemy<2.0.0dev,>=1.2.0, but you have sqlalchemy 2.0.29 which is incompatible.\nsnowflake-sqlalchemy 1.4.3 requires sqlalchemy<2.0.0,>=1.4.0, but you have sqlalchemy 2.0.29 which is incompatible.\nsnowflake-connector-python 2.8.0 requires cryptography<37.0.0,>=3.1.0, but you have cryptography 38.0.4 which is incompatible.\nclickhouse-sqlalchemy 0.2.2 requires sqlalchemy<1.5,>=1.4, but you have sqlalchemy 2.0.29 which is incompatible.\u001b[0m\u001b[31m\n\u001b[0mSuccessfully installed Mako-1.3.3 MarkupSafe-2.1.5 PyYAML-6.0.1 alembic-1.13.1 colorlog-6.8.2 greenlet-3.0.3 importlib-metadata-7.1.0 importlib-resources-6.4.0 numpy-1.24.4 optuna-3.6.1 packaging-24.0 sqlalchemy-2.0.29 tqdm-4.66.2 typing-extensions-4.11.0 zipp-3.18.1\n\u001b[33mWARNING: Target directory /opt/conda/lib/python3.8/site-packages/zipp already exists. Specify --upgrade to force replacement.\u001b[0m\u001b[33m\n\u001b[0m\u001b[33mWARNING: Target directory /opt/conda/lib/python3.8/site-packages/zipp-3.18.1.dist-info already exists. Specify --upgrade to force replacement.\u001b[0m\u001b[33m\n\u001b[0m\u001b[33mWARNING: Target directory /opt/conda/lib/python3.8/site-packages/typing_extensions.py already exists. Specify --upgrade to force replacement.\u001b[0m\u001b[33m\n\u001b[0m\u001b[33mWARNING: Target directory /opt/conda/lib/python3.8/site-packages/typing_extensions-4.11.0.dist-info already exists. Specify --upgrade to force replacement.\u001b[0m\u001b[33m\n\u001b[0m\u001b[33mWARNING: Target directory /opt/conda/lib/python3.8/site-packages/__pycache__ already exists. Specify --upgrade to force replacement.\u001b[0m\u001b[33m\n\u001b[0m\u001b[33mWARNING: Target directory /opt/conda/lib/python3.8/site-packages/tqdm already exists. Specify --upgrade to force replacement.\u001b[0m\u001b[33m\n\u001b[0m\u001b[33mWARNING: Target directory /opt/conda/lib/python3.8/site-packages/tqdm-4.66.2.dist-info already exists. Specify --upgrade to force replacement.\u001b[0m\u001b[33m\n\u001b[0m\u001b[33mWARNING: Target directory /opt/conda/lib/python3.8/site-packages/yaml already exists. Specify --upgrade to force replacement.\u001b[0m\u001b[33m\n\u001b[0m\u001b[33mWARNING: Target directory /opt/conda/lib/python3.8/site-packages/_yaml already exists. Specify --upgrade to force replacement.\u001b[0m\u001b[33m\n\u001b[0m\u001b[33mWARNING: Target directory /opt/conda/lib/python3.8/site-packages/PyYAML-6.0.1.dist-info already exists. Specify --upgrade to force replacement.\u001b[0m\u001b[33m\n\u001b[0m\u001b[33mWARNING: Target directory /opt/conda/lib/python3.8/site-packages/packaging already exists. Specify --upgrade to force replacement.\u001b[0m\u001b[33m\n\u001b[0m\u001b[33mWARNING: Target directory /opt/conda/lib/python3.8/site-packages/packaging-24.0.dist-info already exists. Specify --upgrade to force replacement.\u001b[0m\u001b[33m\n\u001b[0m\u001b[33mWARNING: Target directory /opt/conda/lib/python3.8/site-packages/numpy.libs already exists. Specify --upgrade to force replacement.\u001b[0m\u001b[33m\n\u001b[0m\u001b[33mWARNING: Target directory /opt/conda/lib/python3.8/site-packages/numpy-1.24.4.dist-info already exists. Specify --upgrade to force replacement.\u001b[0m\u001b[33m\n\u001b[0m\u001b[33mWARNING: Target directory /opt/conda/lib/python3.8/site-packages/numpy already exists. Specify --upgrade to force replacement.\u001b[0m\u001b[33m\n\u001b[0m\u001b[33mWARNING: Target directory /opt/conda/lib/python3.8/site-packages/markupsafe already exists. Specify --upgrade to force replacement.\u001b[0m\u001b[33m\n\u001b[0m\u001b[33mWARNING: Target directory /opt/conda/lib/python3.8/site-packages/MarkupSafe-2.1.5.dist-info already exists. Specify --upgrade to force replacement.\u001b[0m\u001b[33m\n\u001b[0m\u001b[33mWARNING: Target directory /opt/conda/lib/python3.8/site-packages/greenlet already exists. Specify --upgrade to force replacement.\u001b[0m\u001b[33m\n\u001b[0m\u001b[33mWARNING: Target directory /opt/conda/lib/python3.8/site-packages/greenlet-3.0.3.dist-info already exists. Specify --upgrade to force replacement.\u001b[0m\u001b[33m\n\u001b[0m\u001b[33mWARNING: Target directory /opt/conda/lib/python3.8/site-packages/colorlog already exists. Specify --upgrade to force replacement.\u001b[0m\u001b[33m\n\u001b[0m\u001b[33mWARNING: Target directory /opt/conda/lib/python3.8/site-packages/colorlog-6.8.2.dist-info already exists. Specify --upgrade to force replacement.\u001b[0m\u001b[33m\n\u001b[0m\u001b[33mWARNING: Target directory /opt/conda/lib/python3.8/site-packages/sqlalchemy already exists. Specify --upgrade to force replacement.\u001b[0m\u001b[33m\n\u001b[0m\u001b[33mWARNING: Target directory /opt/conda/lib/python3.8/site-packages/SQLAlchemy-2.0.29.dist-info already exists. Specify --upgrade to force replacement.\u001b[0m\u001b[33m\n\u001b[0m\u001b[33mWARNING: Target directory /opt/conda/lib/python3.8/site-packages/mako already exists. Specify --upgrade to force replacement.\u001b[0m\u001b[33m\n\u001b[0m\u001b[33mWARNING: Target directory /opt/conda/lib/python3.8/site-packages/Mako-1.3.3.dist-info already exists. Specify --upgrade to force replacement.\u001b[0m\u001b[33m\n\u001b[0m\u001b[33mWARNING: Target directory /opt/conda/lib/python3.8/site-packages/importlib_resources already exists. Specify --upgrade to force replacement.\u001b[0m\u001b[33m\n\u001b[0m\u001b[33mWARNING: Target directory /opt/conda/lib/python3.8/site-packages/importlib_resources-6.4.0.dist-info already exists. Specify --upgrade to force replacement.\u001b[0m\u001b[33m\n\u001b[0m\u001b[33mWARNING: Target directory /opt/conda/lib/python3.8/site-packages/importlib_metadata already exists. Specify --upgrade to force replacement.\u001b[0m\u001b[33m\n\u001b[0m\u001b[33mWARNING: Target directory /opt/conda/lib/python3.8/site-packages/importlib_metadata-7.1.0.dist-info already exists. Specify --upgrade to force replacement.\u001b[0m\u001b[33m\n\u001b[0m\u001b[33mWARNING: Target directory /opt/conda/lib/python3.8/site-packages/alembic already exists. Specify --upgrade to force replacement.\u001b[0m\u001b[33m\n\u001b[0m\u001b[33mWARNING: Target directory /opt/conda/lib/python3.8/site-packages/alembic-1.13.1.dist-info already exists. Specify --upgrade to force replacement.\u001b[0m\u001b[33m\n\u001b[0m\u001b[33mWARNING: Target directory /opt/conda/lib/python3.8/site-packages/optuna already exists. Specify --upgrade to force replacement.\u001b[0m\u001b[33m\n\u001b[0m\u001b[33mWARNING: Target directory /opt/conda/lib/python3.8/site-packages/optuna-3.6.1.dist-info already exists. Specify --upgrade to force replacement.\u001b[0m\u001b[33m\n\u001b[0m\u001b[33mWARNING: Target directory /opt/conda/lib/python3.8/site-packages/bin already exists. Specify --upgrade to force replacement.\u001b[0m\u001b[33m\n\u001b[0m\u001b[33mWARNING: Target directory /opt/conda/lib/python3.8/site-packages/include already exists. Specify --upgrade to force replacement.\u001b[0m\u001b[33m\n\u001b[0m\u001b[33mWARNING: You are using pip version 22.0.4; however, version 24.0 is available.\nYou should consider upgrading via the '/root/venv/bin/python -m pip install --upgrade pip' command.\u001b[0m\u001b[33m\n\u001b[0mCollecting art==6.1\n  Using cached art-6.1-py3-none-any.whl (599 kB)\nInstalling collected packages: art\nSuccessfully installed art-6.1\n\u001b[33mWARNING: Target directory /opt/conda/lib/python3.8/site-packages/art already exists. Specify --upgrade to force replacement.\u001b[0m\u001b[33m\n\u001b[0m\u001b[33mWARNING: Target directory /opt/conda/lib/python3.8/site-packages/art-6.1.dist-info already exists. Specify --upgrade to force replacement.\u001b[0m\u001b[33m\n\u001b[0m\u001b[33mWARNING: Target directory /opt/conda/lib/python3.8/site-packages/bin already exists. Specify --upgrade to force replacement.\u001b[0m\u001b[33m\n\u001b[0m\u001b[33mWARNING: You are using pip version 22.0.4; however, version 24.0 is available.\nYou should consider upgrading via the '/root/venv/bin/python -m pip install --upgrade pip' command.\u001b[0m\u001b[33m\n\u001b[0m",
          "output_type": "stream"
        }
      ],
      "outputs_reference": null,
      "execution_count": 4,
      "block_group": "dda440d765e040deab38c81b7f39629e",
      "content_dependencies": null
    },
    {
      "cell_type": "markdown",
      "source": "## Conclusion",
      "metadata": {
        "deepnote_app_block_visible": true,
        "cell_id": "eaf1e5dc95944b558d8c6ed92fd83b33",
        "deepnote_cell_type": "markdown"
      },
      "block_group": "00e0276c3dc2417980f4c5ce8bf84080"
    },
    {
      "cell_type": "markdown",
      "source": "The R-squared value show that **LightGB Model** has the highest accuracy in predicting time taken for delivery. Hence, this suggests that this model is the most suitable model to predict time taken for delivery accurately and precisely. ",
      "metadata": {
        "deepnote_app_block_visible": true,
        "cell_id": "f3f6192d4bcd44ddb97622cd7dbf1e33",
        "deepnote_cell_type": "markdown"
      },
      "block_group": "e5a3ec65758743109b359b9aec260583"
    },
    {
      "cell_type": "markdown",
      "source": "### Future Improvement",
      "metadata": {
        "deepnote_app_block_visible": true,
        "cell_id": "37b34c7786d645988d6b13a90a681940",
        "deepnote_cell_type": "markdown"
      },
      "block_group": "5d643190349f4dc0be6298e4f97a320d"
    },
    {
      "cell_type": "markdown",
      "source": "1. Incorporate deep neural networks machine learning techniques.\n2. Ensure that the model is robust and scalable to handle large volumes of data and real-time prediction requests, especially if it's deployed in a production environment.\n3. Integrate additionals features that could potentially impact delivery time to allow better prediction of time taken(more accurate).\n4. Incorporate a feedback mechanism where the actual delivery times are collected and used to update the model periodically, ensuring it remains accurate and reflective of real-world conditions.",
      "metadata": {
        "deepnote_app_block_visible": true,
        "cell_id": "e9a650f36808469d957fbd1775e1c5d5",
        "deepnote_cell_type": "markdown"
      },
      "block_group": "0cc96e8b147f414291f3fb1a6c9f9e8b"
    },
    {
      "cell_type": "markdown",
      "source": "# <center>**SwiftDeliver**</center>\n",
      "metadata": {
        "deepnote_app_block_visible": true,
        "cell_id": "83479a640c1049f59c0e1551601533ec",
        "deepnote_cell_type": "markdown"
      },
      "block_group": "317034e74df4456f8092e7513f6005ea"
    },
    {
      "cell_type": "markdown",
      "source": "Feel free to try out our SwiftDeliver below! Simply input the required variables and get precise and accurate prediction for time taken for delivery to reach your destination!",
      "metadata": {
        "formattedRanges": [],
        "deepnote_app_block_visible": true,
        "cell_id": "fc77904bfd4c44f687f392c8e894fa54",
        "deepnote_cell_type": "text-cell-p"
      },
      "block_group": "b4a3bf6753c64dc78279519b00bf4353"
    },
    {
      "cell_type": "code",
      "source": "!pip install art==6.1\nfrom art import text2art\nfrom termcolor import colored",
      "metadata": {
        "source_hash": null,
        "execution_start": 1713351786832,
        "execution_millis": 3000,
        "deepnote_to_be_reexecuted": false,
        "deepnote_app_block_visible": true,
        "cell_id": "c7201d51c75a43a288e9cfef604b50f3",
        "deepnote_cell_type": "code"
      },
      "outputs": [
        {
          "name": "stdout",
          "output_type": "stream",
          "text": "Collecting art==6.1\n  Downloading art-6.1-py3-none-any.whl (599 kB)\n\u001b[2K     \u001b[90m━━━━━━━━━━━━━━━━━━━━━━━━━━━━━━━━━━━━━━\u001b[0m \u001b[32m599.8/599.8 KB\u001b[0m \u001b[31m70.2 MB/s\u001b[0m eta \u001b[36m0:00:00\u001b[0m\n\u001b[?25hInstalling collected packages: art\nSuccessfully installed art-6.1\n\u001b[33mWARNING: Target directory /opt/conda/lib/python3.8/site-packages/bin already exists. Specify --upgrade to force replacement.\u001b[0m\u001b[33m\n\u001b[0m\u001b[33mWARNING: You are using pip version 22.0.4; however, version 24.0 is available.\nYou should consider upgrading via the '/root/venv/bin/python -m pip install --upgrade pip' command.\u001b[0m\u001b[33m\n\u001b[0m"
        }
      ],
      "outputs_reference": null,
      "execution_count": null,
      "block_group": "5f6c2144f05d4caca09aa171a49f6b88",
      "content_dependencies": null
    },
    {
      "cell_type": "code",
      "source": "from art import text2art\nfrom termcolor import colored\n\n# Generate ASCII art text\nascii_art = text2art(\"SwiftDeliver\")\n\n# Print colored ASCII art text\nprint(colored(ascii_art, 'red', attrs=['bold']))\n",
      "metadata": {
        "source_hash": null,
        "execution_start": 1713351789837,
        "execution_millis": 53,
        "deepnote_to_be_reexecuted": false,
        "deepnote_app_block_visible": true,
        "cell_id": "c41d9685ca614158b2a3f0612f41ff3e",
        "deepnote_cell_type": "code"
      },
      "outputs": [
        {
          "name": "stdout",
          "output_type": "stream",
          "text": "\u001b[1m\u001b[31m ____             _   __  _    ____         _  _                    \n/ ___| __      __(_) / _|| |_ |  _ \\   ___ | |(_)__   __  ___  _ __ \n\\___ \\ \\ \\ /\\ / /| || |_ | __|| | | | / _ \\| || |\\ \\ / / / _ \\| '__|\n ___) | \\ V  V / | ||  _|| |_ | |_| ||  __/| || | \\ V / |  __/| |   \n|____/   \\_/\\_/  |_||_|   \\__||____/  \\___||_||_|  \\_/   \\___||_|   \n                                                                    \n\u001b[0m\n"
        }
      ],
      "outputs_reference": null,
      "execution_count": null,
      "block_group": "0ba0aca440404980ac982345c4e5058f",
      "content_dependencies": null
    },
    {
      "cell_type": "markdown",
      "source": "### Description:\n\nThe SwiftDeliver Model is designed to enhance customer experience by providing accurate delivery time predictions. This powerful model use LightGBM to ensure precision and reliability.One of its key features is the ability to constantly update its dataset with new user inputs. This ongoing refinement process improves the model's accuracy over time, ensuring that customers receive their orders exactly when they want them. SwiftDeliver is committed to delivering exceptional service through advanced predictive analytics.",
      "metadata": {
        "deepnote_app_block_visible": true,
        "cell_id": "6eb747a2401249678dc511b0a8a1929b",
        "deepnote_cell_type": "markdown"
      },
      "block_group": "c45e00ec7e3348c7a16f666783f52358"
    },
    {
      "cell_type": "markdown",
      "source": "### Get User Input and Predict Time Taken for Delivery Based on the Best Model (LightGBM Model)",
      "metadata": {
        "deepnote_app_block_visible": true,
        "cell_id": "369d36db646f457dbf0eabed44f5c118",
        "deepnote_cell_type": "markdown"
      },
      "block_group": "742ccfdada8d4c6c9b0fb5174cdc2177"
    },
    {
      "cell_type": "code",
      "source": "import pandas as pd\nfrom sklearn.compose import ColumnTransformer\nfrom sklearn.preprocessing import OneHotEncoder\nimport lightgbm as lgb\n\n# Load cleaned data into a DataFrame (df)\ndf = pd.DataFrame(cleaned_Data)\n\n# Define categorical and numerical columns\ncategorical_cols = ['Vehicle_condition', 'Weatherconditions', 'Road_traffic_density']\nnumerical_cols = ['Delivery_person_Age', 'Delivery_person_Ratings', 'Distance_between_restaurant_and_delivery_place(KM)']\n\n# Get user input for categorical variables\nuser_categorical_input = []\nfor col in categorical_cols:\n    if col == 'Vehicle_condition':\n        val = int(input(f\"Enter {col} (0-2): \"))  # Convert to int for Vehicle_condition\n        if val < 0 or val > 2:\n            raise ValueError(f\"{col} should be between 0 and 2.\")\n    elif col == 'Weatherconditions':\n        val = input(f\"Enter {col} (Sunny, Stormy, Sandstorms, Cloudy, Fog, Windy): \")\n        if val not in ['Sunny', 'Stormy', 'Sandstorms', 'Cloudy', 'Fog', 'Windy']:\n            raise ValueError(f\"Invalid category entered for {col}: {val}\")\n    elif col == 'Road_traffic_density':\n        val = input(f\"Enter {col} (High, Very High, Low, Medium): \")\n        if val not in ['High', 'Very High', 'Low', 'Medium']:\n            raise ValueError(f\"Invalid category entered for {col}: {val}\")\n    user_categorical_input.append(val)\n\n# Get user input for numerical variables\nuser_numerical_input = []\nfor col in numerical_cols:\n    val = float(input(f\"Enter {col}: \"))  # Convert to float if input is numerical\n    user_numerical_input.append(val)\n\n# Combine user input into a DataFrame\nuser_data = pd.DataFrame([user_categorical_input + user_numerical_input], columns=categorical_cols + numerical_cols)\n\n# Corrected part: One-hot encode categorical columns using categories obtained from the training set\nct = ColumnTransformer(transformers=[('encoder', OneHotEncoder(handle_unknown='ignore'), categorical_cols)], remainder='passthrough')\nct.fit(df[categorical_cols + numerical_cols])  # Fit the ColumnTransformer to the data\nuser_data_transformed = ct.transform(user_data)  # Transform the user input\n\n# Train the LightGBM model\nlgb_model = lgb.LGBMRegressor(random_state=42)\nX = ct.transform(df[categorical_cols + numerical_cols])\ny = df['Time_taken(min)']\nlgb_model.fit(X, y)\n\n# Predict on the user data using the LightGBM model\nuser_prediction = lgb_model.predict(user_data_transformed)\n\nprint(\"Predicted Time_taken(min) using LightGBM:\", user_prediction)\n",
      "metadata": {
        "source_hash": null,
        "execution_start": 1713351789885,
        "execution_millis": 437634,
        "deepnote_to_be_reexecuted": false,
        "deepnote_app_block_visible": true,
        "cell_id": "27ec8c1dda844831a12ce881a334851a",
        "deepnote_cell_type": "code"
      },
      "outputs": [
        {
          "name": "stdout",
          "output_type": "stream",
          "text": "[LightGBM] [Info] Auto-choosing row-wise multi-threading, the overhead of testing was 0.001609 seconds.\nYou can set `force_row_wise=true` to remove the overhead.\nAnd if memory is not enough, you can set `force_col_wise=true`.\n[LightGBM] [Info] Total Bins 94\n[LightGBM] [Info] Number of data points in the train set: 41368, number of used features: 16\n[LightGBM] [Info] Start training from score 26.553350\nPredicted Time_taken(min) using LightGBM: [28.07624724]\n"
        }
      ],
      "outputs_reference": null,
      "execution_count": null,
      "block_group": "ace0478c05a84043b825a06157cc948d",
      "content_dependencies": null
    },
    {
      "cell_type": "markdown",
      "source": "### Sample Input and Result Achieved\nInput(s):\nDelivery_person_Age = 37\nDelivery_person_Ratings 4.9\nDistance_between_restaurant_and_delivery_place(KM) = 3KM\nVehicle_condition = 2\nRoad_traffic_density = High\nWeatherconditions = Sunny\n\nOutput:\nPredicted Time_taken(min) = 28 min",
      "metadata": {
        "deepnote_app_block_visible": true,
        "cell_id": "b3cbaa5f20924df08e1caa0e3a0a5b64",
        "deepnote_cell_type": "markdown"
      },
      "block_group": "57fe93e2864b4ea9bf51dffd00e5648f"
    },
    {
      "cell_type": "markdown",
      "source": "<a style='text-decoration:none;line-height:16px;display:flex;color:#5B5B62;padding:10px;justify-content:end;' href='https://deepnote.com?utm_source=created-in-deepnote-cell&projectId=44a00546-0efa-4f5e-a5a5-ac13bae81f5d' target=\"_blank\">\n<img alt='Created in deepnote.com' style='display:inline;max-height:16px;margin:0px;margin-right:7.5px;' src='data:image/svg+xml;base64,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' > </img>\nCreated in <span style='font-weight:600;margin-left:4px;'>Deepnote</span></a>",
      "metadata": {
        "created_in_deepnote_cell": true,
        "deepnote_cell_type": "markdown"
      }
    }
  ],
  "nbformat": 4,
  "nbformat_minor": 0,
  "metadata": {
    "deepnote_full_width": false,
    "deepnote_app_layout": "powerful-article",
    "deepnote_app_reactivity_enabled": true,
    "deepnote_notebook_id": "8dc0b308950d481b938397fcfc853a0c",
    "deepnote_execution_queue": []
  }
}